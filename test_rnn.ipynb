{
 "cells": [
  {
   "cell_type": "code",
   "execution_count": 1,
   "metadata": {},
   "outputs": [
    {
     "name": "stderr",
     "output_type": "stream",
     "text": [
      "2024-02-01 17:15:19.216464: I tensorflow/core/platform/cpu_feature_guard.cc:193] This TensorFlow binary is optimized with oneAPI Deep Neural Network Library (oneDNN) to use the following CPU instructions in performance-critical operations:  SSE4.1 SSE4.2 AVX AVX2 FMA\n",
      "To enable them in other operations, rebuild TensorFlow with the appropriate compiler flags.\n"
     ]
    }
   ],
   "source": [
    "import numpy as np\n",
    "import tensorflow as tf\n",
    "import matplotlib.pyplot as plt\n",
    "import pandas as pd"
   ]
  },
  {
   "cell_type": "markdown",
   "metadata": {},
   "source": [
    "### Extrait les dernières données et écrit le dataset"
   ]
  },
  {
   "cell_type": "code",
   "execution_count": 2,
   "metadata": {},
   "outputs": [],
   "source": [
    "from lib.dataeng import Etl"
   ]
  },
  {
   "cell_type": "code",
   "execution_count": 3,
   "metadata": {},
   "outputs": [
    {
     "name": "stdout",
     "output_type": "stream",
     "text": [
      "Le fichier poids le plus récent est : data_BEN_1706761334.zip, parmi :\n",
      "\n",
      "data_BEN_1706593344.zip\n",
      "data_BEN_1706676305.zip\n",
      "data_BEN_1706761334.zip\n",
      "Le fichier food le plus récent est : File-Export-2020-08-03-to-2024-02-01.zip, parmi \n",
      "\n",
      "File-Export-2020-08-03-to-2024-02-01.zip\n",
      "File-Export-2020-08-03-to-2024-01-31.zip\n",
      "File-Export-2020-08-03-to-2024-01-30.zip\n",
      "Le fichier exercices le plus récent est : polar-user-data-export_703c11e2-d0c0-42d0-84a6-665ce3a9f847.zip, parmi :\n",
      "\n",
      "polar-user-data-export_12baa4ce-79a5-40f8-ad40-74308f7c2c26.zip\n",
      "polar-user-data-export_703c11e2-d0c0-42d0-84a6-665ce3a9f847.zip\n"
     ]
    },
    {
     "name": "stderr",
     "output_type": "stream",
     "text": [
      "100%|██████████| 1868/1868 [01:23<00:00, 22.45it/s]\n"
     ]
    }
   ],
   "source": [
    "etl = Etl()\n",
    "\n",
    "df_weight_raw, df_food_raw, df_exos_raw, df_all = etl.extract_store_all()"
   ]
  },
  {
   "cell_type": "code",
   "execution_count": 13,
   "metadata": {},
   "outputs": [],
   "source": [
    "fullds_path = '/home/benjamin/Folders_Python/Weight/data/full_dataset.csv'\n",
    "\n",
    "with open(fullds_path, 'r') as f:\n",
    "    df_full = pd.read_csv(f, index_col=0)\n",
    "    \n",
    "cols_to_drop = ['Masse_Osseuse', 'Masse_Musculaire', 'Masse_Hydrique']\n",
    "df_full.drop(columns=cols_to_drop, inplace=True)\n",
    "df_full.dropna(inplace=True)"
   ]
  },
  {
   "cell_type": "code",
   "execution_count": 16,
   "metadata": {},
   "outputs": [
    {
     "data": {
      "text/html": [
       "<div>\n",
       "<style scoped>\n",
       "    .dataframe tbody tr th:only-of-type {\n",
       "        vertical-align: middle;\n",
       "    }\n",
       "\n",
       "    .dataframe tbody tr th {\n",
       "        vertical-align: top;\n",
       "    }\n",
       "\n",
       "    .dataframe thead th {\n",
       "        text-align: right;\n",
       "    }\n",
       "</style>\n",
       "<table border=\"1\" class=\"dataframe\">\n",
       "  <thead>\n",
       "    <tr style=\"text-align: right;\">\n",
       "      <th></th>\n",
       "      <th>count</th>\n",
       "      <th>mean</th>\n",
       "      <th>std</th>\n",
       "      <th>min</th>\n",
       "      <th>25%</th>\n",
       "      <th>50%</th>\n",
       "      <th>75%</th>\n",
       "      <th>max</th>\n",
       "    </tr>\n",
       "  </thead>\n",
       "  <tbody>\n",
       "    <tr>\n",
       "      <th>Masse_Totale</th>\n",
       "      <td>1254.0</td>\n",
       "      <td>73.738516</td>\n",
       "      <td>7.774613</td>\n",
       "      <td>66.000000</td>\n",
       "      <td>69.263542</td>\n",
       "      <td>71.350000</td>\n",
       "      <td>73.297009</td>\n",
       "      <td>107.250000</td>\n",
       "    </tr>\n",
       "    <tr>\n",
       "      <th>Masse_Grasse</th>\n",
       "      <td>1254.0</td>\n",
       "      <td>12.189070</td>\n",
       "      <td>5.160909</td>\n",
       "      <td>7.541667</td>\n",
       "      <td>8.934385</td>\n",
       "      <td>10.836500</td>\n",
       "      <td>12.139643</td>\n",
       "      <td>37.190000</td>\n",
       "    </tr>\n",
       "    <tr>\n",
       "      <th>MG%</th>\n",
       "      <td>1254.0</td>\n",
       "      <td>0.160785</td>\n",
       "      <td>0.043948</td>\n",
       "      <td>0.112927</td>\n",
       "      <td>0.128908</td>\n",
       "      <td>0.151511</td>\n",
       "      <td>0.166661</td>\n",
       "      <td>0.346760</td>\n",
       "    </tr>\n",
       "    <tr>\n",
       "      <th>BMR</th>\n",
       "      <td>1254.0</td>\n",
       "      <td>1699.468035</td>\n",
       "      <td>59.270358</td>\n",
       "      <td>1626.348571</td>\n",
       "      <td>1664.170750</td>\n",
       "      <td>1679.345200</td>\n",
       "      <td>1706.089600</td>\n",
       "      <td>1933.516000</td>\n",
       "    </tr>\n",
       "    <tr>\n",
       "      <th>Calories</th>\n",
       "      <td>1254.0</td>\n",
       "      <td>1968.121132</td>\n",
       "      <td>458.288696</td>\n",
       "      <td>0.300000</td>\n",
       "      <td>1780.625000</td>\n",
       "      <td>1850.650000</td>\n",
       "      <td>2039.700000</td>\n",
       "      <td>5762.000000</td>\n",
       "    </tr>\n",
       "    <tr>\n",
       "      <th>Lipides</th>\n",
       "      <td>1254.0</td>\n",
       "      <td>52.877751</td>\n",
       "      <td>22.354653</td>\n",
       "      <td>0.000000</td>\n",
       "      <td>38.625000</td>\n",
       "      <td>49.350000</td>\n",
       "      <td>64.000000</td>\n",
       "      <td>235.900000</td>\n",
       "    </tr>\n",
       "    <tr>\n",
       "      <th>Glucides</th>\n",
       "      <td>1254.0</td>\n",
       "      <td>213.171132</td>\n",
       "      <td>75.626152</td>\n",
       "      <td>0.100000</td>\n",
       "      <td>168.700000</td>\n",
       "      <td>199.200000</td>\n",
       "      <td>240.975000</td>\n",
       "      <td>875.400000</td>\n",
       "    </tr>\n",
       "    <tr>\n",
       "      <th>Proteines</th>\n",
       "      <td>1254.0</td>\n",
       "      <td>157.025199</td>\n",
       "      <td>39.911538</td>\n",
       "      <td>0.000000</td>\n",
       "      <td>133.900000</td>\n",
       "      <td>161.950000</td>\n",
       "      <td>184.325000</td>\n",
       "      <td>267.100000</td>\n",
       "    </tr>\n",
       "    <tr>\n",
       "      <th>exo_duree</th>\n",
       "      <td>1254.0</td>\n",
       "      <td>2696.149102</td>\n",
       "      <td>2800.143793</td>\n",
       "      <td>0.000000</td>\n",
       "      <td>0.000000</td>\n",
       "      <td>2326.293000</td>\n",
       "      <td>4753.248000</td>\n",
       "      <td>28800.000000</td>\n",
       "    </tr>\n",
       "    <tr>\n",
       "      <th>exo_cals_bruts</th>\n",
       "      <td>1254.0</td>\n",
       "      <td>295.417863</td>\n",
       "      <td>295.738840</td>\n",
       "      <td>0.000000</td>\n",
       "      <td>0.000000</td>\n",
       "      <td>275.500000</td>\n",
       "      <td>497.750000</td>\n",
       "      <td>2290.000000</td>\n",
       "    </tr>\n",
       "    <tr>\n",
       "      <th>exo_cals_nets</th>\n",
       "      <td>1254.0</td>\n",
       "      <td>243.104788</td>\n",
       "      <td>249.603470</td>\n",
       "      <td>-456.053333</td>\n",
       "      <td>0.000000</td>\n",
       "      <td>222.357523</td>\n",
       "      <td>413.338376</td>\n",
       "      <td>2017.785132</td>\n",
       "    </tr>\n",
       "    <tr>\n",
       "      <th>Depense_cal_totale</th>\n",
       "      <td>1254.0</td>\n",
       "      <td>1942.572823</td>\n",
       "      <td>233.958342</td>\n",
       "      <td>1212.106667</td>\n",
       "      <td>1750.564000</td>\n",
       "      <td>1905.220000</td>\n",
       "      <td>2086.371680</td>\n",
       "      <td>3721.995532</td>\n",
       "    </tr>\n",
       "    <tr>\n",
       "      <th>cal_deficit</th>\n",
       "      <td>1254.0</td>\n",
       "      <td>25.548310</td>\n",
       "      <td>476.226807</td>\n",
       "      <td>-2286.884608</td>\n",
       "      <td>-194.701043</td>\n",
       "      <td>-12.354034</td>\n",
       "      <td>131.667224</td>\n",
       "      <td>4103.438500</td>\n",
       "    </tr>\n",
       "  </tbody>\n",
       "</table>\n",
       "</div>"
      ],
      "text/plain": [
       "                     count         mean          std          min  \\\n",
       "Masse_Totale        1254.0    73.738516     7.774613    66.000000   \n",
       "Masse_Grasse        1254.0    12.189070     5.160909     7.541667   \n",
       "MG%                 1254.0     0.160785     0.043948     0.112927   \n",
       "BMR                 1254.0  1699.468035    59.270358  1626.348571   \n",
       "Calories            1254.0  1968.121132   458.288696     0.300000   \n",
       "Lipides             1254.0    52.877751    22.354653     0.000000   \n",
       "Glucides            1254.0   213.171132    75.626152     0.100000   \n",
       "Proteines           1254.0   157.025199    39.911538     0.000000   \n",
       "exo_duree           1254.0  2696.149102  2800.143793     0.000000   \n",
       "exo_cals_bruts      1254.0   295.417863   295.738840     0.000000   \n",
       "exo_cals_nets       1254.0   243.104788   249.603470  -456.053333   \n",
       "Depense_cal_totale  1254.0  1942.572823   233.958342  1212.106667   \n",
       "cal_deficit         1254.0    25.548310   476.226807 -2286.884608   \n",
       "\n",
       "                            25%          50%          75%           max  \n",
       "Masse_Totale          69.263542    71.350000    73.297009    107.250000  \n",
       "Masse_Grasse           8.934385    10.836500    12.139643     37.190000  \n",
       "MG%                    0.128908     0.151511     0.166661      0.346760  \n",
       "BMR                 1664.170750  1679.345200  1706.089600   1933.516000  \n",
       "Calories            1780.625000  1850.650000  2039.700000   5762.000000  \n",
       "Lipides               38.625000    49.350000    64.000000    235.900000  \n",
       "Glucides             168.700000   199.200000   240.975000    875.400000  \n",
       "Proteines            133.900000   161.950000   184.325000    267.100000  \n",
       "exo_duree              0.000000  2326.293000  4753.248000  28800.000000  \n",
       "exo_cals_bruts         0.000000   275.500000   497.750000   2290.000000  \n",
       "exo_cals_nets          0.000000   222.357523   413.338376   2017.785132  \n",
       "Depense_cal_totale  1750.564000  1905.220000  2086.371680   3721.995532  \n",
       "cal_deficit         -194.701043   -12.354034   131.667224   4103.438500  "
      ]
     },
     "execution_count": 16,
     "metadata": {},
     "output_type": "execute_result"
    }
   ],
   "source": [
    "df_full.describe(include='all').transpose()"
   ]
  },
  {
   "cell_type": "code",
   "execution_count": 106,
   "metadata": {},
   "outputs": [],
   "source": [
    "ds = df_full[['Calories', 'exo_cals_nets', 'Masse_Totale', 'Masse_Grasse']]"
   ]
  },
  {
   "cell_type": "code",
   "execution_count": 107,
   "metadata": {},
   "outputs": [
    {
     "data": {
      "text/html": [
       "<div>\n",
       "<style scoped>\n",
       "    .dataframe tbody tr th:only-of-type {\n",
       "        vertical-align: middle;\n",
       "    }\n",
       "\n",
       "    .dataframe tbody tr th {\n",
       "        vertical-align: top;\n",
       "    }\n",
       "\n",
       "    .dataframe thead th {\n",
       "        text-align: right;\n",
       "    }\n",
       "</style>\n",
       "<table border=\"1\" class=\"dataframe\">\n",
       "  <thead>\n",
       "    <tr style=\"text-align: right;\">\n",
       "      <th></th>\n",
       "      <th>Calories</th>\n",
       "      <th>exo_cals_nets</th>\n",
       "      <th>Masse_Totale</th>\n",
       "      <th>Masse_Grasse</th>\n",
       "    </tr>\n",
       "  </thead>\n",
       "  <tbody>\n",
       "    <tr>\n",
       "      <th>2020-08-09</th>\n",
       "      <td>1861.3</td>\n",
       "      <td>0.000000</td>\n",
       "      <td>107.250000</td>\n",
       "      <td>37.190000</td>\n",
       "    </tr>\n",
       "    <tr>\n",
       "      <th>2020-08-11</th>\n",
       "      <td>1772.4</td>\n",
       "      <td>0.000000</td>\n",
       "      <td>104.650000</td>\n",
       "      <td>33.150000</td>\n",
       "    </tr>\n",
       "    <tr>\n",
       "      <th>2020-08-12</th>\n",
       "      <td>1894.3</td>\n",
       "      <td>0.000000</td>\n",
       "      <td>104.350000</td>\n",
       "      <td>33.800000</td>\n",
       "    </tr>\n",
       "    <tr>\n",
       "      <th>2020-08-13</th>\n",
       "      <td>1822.6</td>\n",
       "      <td>0.000000</td>\n",
       "      <td>104.400000</td>\n",
       "      <td>34.340000</td>\n",
       "    </tr>\n",
       "    <tr>\n",
       "      <th>2020-08-14</th>\n",
       "      <td>1891.5</td>\n",
       "      <td>0.000000</td>\n",
       "      <td>104.500000</td>\n",
       "      <td>33.850000</td>\n",
       "    </tr>\n",
       "    <tr>\n",
       "      <th>...</th>\n",
       "      <td>...</td>\n",
       "      <td>...</td>\n",
       "      <td>...</td>\n",
       "      <td>...</td>\n",
       "    </tr>\n",
       "    <tr>\n",
       "      <th>2024-01-27</th>\n",
       "      <td>1775.9</td>\n",
       "      <td>300.393829</td>\n",
       "      <td>73.350000</td>\n",
       "      <td>12.182857</td>\n",
       "    </tr>\n",
       "    <tr>\n",
       "      <th>2024-01-28</th>\n",
       "      <td>1821.9</td>\n",
       "      <td>294.128988</td>\n",
       "      <td>73.339167</td>\n",
       "      <td>12.444167</td>\n",
       "    </tr>\n",
       "    <tr>\n",
       "      <th>2024-01-29</th>\n",
       "      <td>1795.7</td>\n",
       "      <td>181.483944</td>\n",
       "      <td>73.896667</td>\n",
       "      <td>12.780000</td>\n",
       "    </tr>\n",
       "    <tr>\n",
       "      <th>2024-01-30</th>\n",
       "      <td>1680.9</td>\n",
       "      <td>0.000000</td>\n",
       "      <td>73.340000</td>\n",
       "      <td>12.521538</td>\n",
       "    </tr>\n",
       "    <tr>\n",
       "      <th>2024-01-31</th>\n",
       "      <td>1682.0</td>\n",
       "      <td>332.372089</td>\n",
       "      <td>73.571538</td>\n",
       "      <td>12.973077</td>\n",
       "    </tr>\n",
       "  </tbody>\n",
       "</table>\n",
       "<p>1254 rows × 4 columns</p>\n",
       "</div>"
      ],
      "text/plain": [
       "            Calories  exo_cals_nets  Masse_Totale  Masse_Grasse\n",
       "2020-08-09    1861.3       0.000000    107.250000     37.190000\n",
       "2020-08-11    1772.4       0.000000    104.650000     33.150000\n",
       "2020-08-12    1894.3       0.000000    104.350000     33.800000\n",
       "2020-08-13    1822.6       0.000000    104.400000     34.340000\n",
       "2020-08-14    1891.5       0.000000    104.500000     33.850000\n",
       "...              ...            ...           ...           ...\n",
       "2024-01-27    1775.9     300.393829     73.350000     12.182857\n",
       "2024-01-28    1821.9     294.128988     73.339167     12.444167\n",
       "2024-01-29    1795.7     181.483944     73.896667     12.780000\n",
       "2024-01-30    1680.9       0.000000     73.340000     12.521538\n",
       "2024-01-31    1682.0     332.372089     73.571538     12.973077\n",
       "\n",
       "[1254 rows x 4 columns]"
      ]
     },
     "execution_count": 107,
     "metadata": {},
     "output_type": "execute_result"
    }
   ],
   "source": [
    "ds"
   ]
  },
  {
   "cell_type": "markdown",
   "metadata": {},
   "source": [
    "### Classe génératrice de fenêtres\n",
    "\n",
    "On va créer des fenêtres :\n",
    "- dans le passé, inputs (calories, exercices) seuls\n",
    "- dans le futur, inputs (calories, exercices) + outputs (masse totale, masse grasse) pour prédiction"
   ]
  },
  {
   "cell_type": "code",
   "execution_count": 80,
   "metadata": {},
   "outputs": [],
   "source": [
    "# from tensorflow time series tutorial\n",
    "    \n",
    "class WindowGenerator():\n",
    "  def __init__(self, \n",
    "               past_length, future_length,\n",
    "               dataset=None,\n",
    "               label_columns=None):\n",
    "    \n",
    "    # Store the raw data.\n",
    "    if dataset is not None:\n",
    "      self.dataset = dataset\n",
    "    else:\n",
    "      self.dataset = ds\n",
    "\n",
    "    # Work out the label column indices.\n",
    "\n",
    "    if label_columns is not None:\n",
    "      self.label_columns = label_columns\n",
    "    else:\n",
    "      self.label_columns = ['Masse_Totale', 'Masse_Grasse']\n",
    "      \n",
    "    self.label_columns_indices = {name: list(self.dataset.columns).index(name) for name in self.label_columns}\n",
    "  \n",
    "    self.column_indices = {name: i for i, name in enumerate(self.dataset.columns)}\n",
    "\n",
    "    # Work out the window parameters.\n",
    "    self.window_width = past_length + future_length\n",
    "    self.label_width = future_length\n",
    "    \n",
    "    # Topology of window\n",
    "    self.input_slice = slice(0, self.window_width)\n",
    "    self.input_indices = np.arange(self.window_width)[self.input_slice]\n",
    "\n",
    "    self.label_start = self.window_width - self.label_width\n",
    "    self.labels_slice = slice(self.label_start, None)\n",
    "    self.label_indices = np.arange(self.window_width)[self.labels_slice]\n",
    "\n",
    "  def __repr__(self):\n",
    "    return '\\n'.join([\n",
    "        f'Total window size: {self.window_width}',\n",
    "        f'Input indices: {self.input_indices}',\n",
    "        f'Label indices: {self.label_indices}',])"
   ]
  },
  {
   "cell_type": "code",
   "execution_count": 81,
   "metadata": {},
   "outputs": [
    {
     "data": {
      "text/plain": [
       "Total window size: 13\n",
       "Input indices: [ 0  1  2  3  4  5  6  7  8  9 10 11 12]\n",
       "Label indices: [ 3  4  5  6  7  8  9 10 11 12]"
      ]
     },
     "execution_count": 81,
     "metadata": {},
     "output_type": "execute_result"
    }
   ],
   "source": [
    "w1 = WindowGenerator(past_length=3, future_length=10)\n",
    "\n",
    "w1"
   ]
  },
  {
   "cell_type": "code",
   "execution_count": 87,
   "metadata": {},
   "outputs": [],
   "source": [
    "def split_window(self, features):\n",
    "  inputs = features[:, self.input_slice, :]\n",
    "  labels = features[:, self.labels_slice, :]\n",
    "  \n",
    "#   if self.label_columns is not None:\n",
    "#     labels = tf.stack(\n",
    "#         [labels[:, :, self.column_indices[name]] for name in self.label_columns],\n",
    "#         axis=-1)\n",
    "\n",
    "  # Slicing doesn't preserve static shape information, so set the shapes\n",
    "  # manually. This way the `tf.data.Datasets` are easier to inspect.\n",
    "  inputs.set_shape([None, self.window_width, None])\n",
    "  labels.set_shape([None, self.label_width, None])\n",
    "\n",
    "  return inputs, labels\n",
    "\n",
    "WindowGenerator.split_window = split_window"
   ]
  },
  {
   "cell_type": "code",
   "execution_count": 88,
   "metadata": {},
   "outputs": [],
   "source": [
    "def make_dataset(self):\n",
    "  data = np.array(self.dataset, dtype=np.float32)\n",
    "  \n",
    "  tds = tf.keras.utils.timeseries_dataset_from_array(\n",
    "      data=data,\n",
    "      targets=None,\n",
    "      sequence_length=self.window_width,\n",
    "      sequence_stride=1,\n",
    "      # shuffle=True,\n",
    "      batch_size=2,)\n",
    "\n",
    "  tds = tds.map(self.split_window)\n",
    "\n",
    "  return tds\n",
    "\n",
    "WindowGenerator.make_dataset = make_dataset"
   ]
  },
  {
   "cell_type": "code",
   "execution_count": 89,
   "metadata": {},
   "outputs": [
    {
     "data": {
      "text/plain": [
       "Total window size: 13\n",
       "Input indices: [ 0  1  2  3  4  5  6  7  8  9 10 11 12]\n",
       "Label indices: [ 3  4  5  6  7  8  9 10 11 12]"
      ]
     },
     "execution_count": 89,
     "metadata": {},
     "output_type": "execute_result"
    }
   ],
   "source": [
    "w1 = WindowGenerator(past_length=3, future_length=10)\n",
    "\n",
    "w1"
   ]
  },
  {
   "cell_type": "code",
   "execution_count": 90,
   "metadata": {},
   "outputs": [
    {
     "data": {
      "text/plain": [
       "array([[1861.3       ,    0.        ,  107.25      ,   37.19      ],\n",
       "       [1772.4       ,    0.        ,  104.65      ,   33.15      ],\n",
       "       [1894.3       ,    0.        ,  104.35      ,   33.8       ],\n",
       "       ...,\n",
       "       [1795.7       ,  181.48394444,   73.89666667,   12.78      ],\n",
       "       [1680.9       ,    0.        ,   73.34      ,   12.52153846],\n",
       "       [1682.        ,  332.37208889,   73.57153846,   12.97307692]])"
      ]
     },
     "execution_count": 90,
     "metadata": {},
     "output_type": "execute_result"
    }
   ],
   "source": [
    "np.array(w1.dataset)"
   ]
  },
  {
   "cell_type": "code",
   "execution_count": 101,
   "metadata": {},
   "outputs": [],
   "source": [
    "tds = tf.keras.utils.timeseries_dataset_from_array(\n",
    "      data=np.array(w1.dataset),\n",
    "      targets=None,\n",
    "      sequence_length=w1.window_width,\n",
    "      sequence_stride=1,\n",
    "      # shuffle=True,\n",
    "      batch_size=2,)"
   ]
  },
  {
   "cell_type": "code",
   "execution_count": 103,
   "metadata": {},
   "outputs": [
    {
     "data": {
      "text/plain": [
       "<BatchDataset element_spec=TensorSpec(shape=(None, None, 4), dtype=tf.float64, name=None)>"
      ]
     },
     "execution_count": 103,
     "metadata": {},
     "output_type": "execute_result"
    }
   ],
   "source": [
    "tds"
   ]
  },
  {
   "cell_type": "code",
   "execution_count": 104,
   "metadata": {},
   "outputs": [],
   "source": [
    "tds = tds.map(w1.split_window)"
   ]
  },
  {
   "cell_type": "code",
   "execution_count": 105,
   "metadata": {},
   "outputs": [
    {
     "data": {
      "text/plain": [
       "<MapDataset element_spec=(TensorSpec(shape=(None, 13, 4), dtype=tf.float64, name=None), TensorSpec(shape=(None, 10, 4), dtype=tf.float64, name=None))>"
      ]
     },
     "execution_count": 105,
     "metadata": {},
     "output_type": "execute_result"
    }
   ],
   "source": [
    "tds"
   ]
  },
  {
   "cell_type": "code",
   "execution_count": 95,
   "metadata": {},
   "outputs": [
    {
     "data": {
      "text/plain": [
       "{'Masse_Totale': 2, 'Masse_Grasse': 3}"
      ]
     },
     "execution_count": 95,
     "metadata": {},
     "output_type": "execute_result"
    }
   ],
   "source": [
    "w1.label_columns_indices"
   ]
  },
  {
   "cell_type": "code",
   "execution_count": null,
   "metadata": {},
   "outputs": [],
   "source": []
  },
  {
   "cell_type": "code",
   "execution_count": null,
   "metadata": {},
   "outputs": [],
   "source": []
  },
  {
   "cell_type": "code",
   "execution_count": null,
   "metadata": {},
   "outputs": [],
   "source": []
  },
  {
   "cell_type": "code",
   "execution_count": 55,
   "metadata": {},
   "outputs": [],
   "source": [
    "tds = w1.make_dataset()"
   ]
  },
  {
   "cell_type": "code",
   "execution_count": 56,
   "metadata": {},
   "outputs": [
    {
     "data": {
      "text/plain": [
       "<MapDataset element_spec=(TensorSpec(shape=(None, 13, 4), dtype=tf.float32, name=None), TensorSpec(shape=(None, 10, 4), dtype=tf.float32, name=None))>"
      ]
     },
     "execution_count": 56,
     "metadata": {},
     "output_type": "execute_result"
    }
   ],
   "source": [
    "tds"
   ]
  },
  {
   "cell_type": "code",
   "execution_count": 57,
   "metadata": {},
   "outputs": [
    {
     "name": "stdout",
     "output_type": "stream",
     "text": [
      "(<tf.Tensor: shape=(2, 13, 4), dtype=float32, numpy=\n",
      "array([[[1861.3     ,    0.      ,  107.25    ,   37.19    ],\n",
      "        [1772.4     ,    0.      ,  104.65    ,   33.15    ],\n",
      "        [1894.3     ,    0.      ,  104.35    ,   33.8     ],\n",
      "        [1822.6     ,    0.      ,  104.4     ,   34.34    ],\n",
      "        [1891.5     ,    0.      ,  104.5     ,   33.85    ],\n",
      "        [1925.3     ,    0.      ,  104.25    ,   34.28    ],\n",
      "        [2021.7     ,    0.      ,  104.05    ,   34.43    ],\n",
      "        [1946.5     ,    0.      ,  103.9     ,   33.88    ],\n",
      "        [1789.5     ,    0.      ,  103.55    ,   34.13    ],\n",
      "        [1914.8     ,    0.      ,  103.25    ,   32.65    ],\n",
      "        [1841.1     ,    0.      ,  103.45    ,   31.45    ],\n",
      "        [1702.8     ,    0.      ,  103.35    ,   30.965   ],\n",
      "        [1916.1     ,    0.      ,  103.2     ,   31.56    ]],\n",
      "\n",
      "       [[1772.4     ,    0.      ,  104.65    ,   33.15    ],\n",
      "        [1894.3     ,    0.      ,  104.35    ,   33.8     ],\n",
      "        [1822.6     ,    0.      ,  104.4     ,   34.34    ],\n",
      "        [1891.5     ,    0.      ,  104.5     ,   33.85    ],\n",
      "        [1925.3     ,    0.      ,  104.25    ,   34.28    ],\n",
      "        [2021.7     ,    0.      ,  104.05    ,   34.43    ],\n",
      "        [1946.5     ,    0.      ,  103.9     ,   33.88    ],\n",
      "        [1789.5     ,    0.      ,  103.55    ,   34.13    ],\n",
      "        [1914.8     ,    0.      ,  103.25    ,   32.65    ],\n",
      "        [1841.1     ,    0.      ,  103.45    ,   31.45    ],\n",
      "        [1702.8     ,    0.      ,  103.35    ,   30.965   ],\n",
      "        [1916.1     ,    0.      ,  103.2     ,   31.56    ],\n",
      "        [1968.7     ,    0.      ,  101.73333 ,   31.186666]]],\n",
      "      dtype=float32)>, <tf.Tensor: shape=(2, 10, 4), dtype=float32, numpy=\n",
      "array([[[1822.6     ,    0.      ,  104.4     ,   34.34    ],\n",
      "        [1891.5     ,    0.      ,  104.5     ,   33.85    ],\n",
      "        [1925.3     ,    0.      ,  104.25    ,   34.28    ],\n",
      "        [2021.7     ,    0.      ,  104.05    ,   34.43    ],\n",
      "        [1946.5     ,    0.      ,  103.9     ,   33.88    ],\n",
      "        [1789.5     ,    0.      ,  103.55    ,   34.13    ],\n",
      "        [1914.8     ,    0.      ,  103.25    ,   32.65    ],\n",
      "        [1841.1     ,    0.      ,  103.45    ,   31.45    ],\n",
      "        [1702.8     ,    0.      ,  103.35    ,   30.965   ],\n",
      "        [1916.1     ,    0.      ,  103.2     ,   31.56    ]],\n",
      "\n",
      "       [[1891.5     ,    0.      ,  104.5     ,   33.85    ],\n",
      "        [1925.3     ,    0.      ,  104.25    ,   34.28    ],\n",
      "        [2021.7     ,    0.      ,  104.05    ,   34.43    ],\n",
      "        [1946.5     ,    0.      ,  103.9     ,   33.88    ],\n",
      "        [1789.5     ,    0.      ,  103.55    ,   34.13    ],\n",
      "        [1914.8     ,    0.      ,  103.25    ,   32.65    ],\n",
      "        [1841.1     ,    0.      ,  103.45    ,   31.45    ],\n",
      "        [1702.8     ,    0.      ,  103.35    ,   30.965   ],\n",
      "        [1916.1     ,    0.      ,  103.2     ,   31.56    ],\n",
      "        [1968.7     ,    0.      ,  101.73333 ,   31.186666]]],\n",
      "      dtype=float32)>)\n"
     ]
    }
   ],
   "source": [
    "for e in tds.take(1):\n",
    "    print(e)"
   ]
  },
  {
   "cell_type": "code",
   "execution_count": null,
   "metadata": {},
   "outputs": [],
   "source": []
  }
 ],
 "metadata": {
  "kernelspec": {
   "display_name": "toy",
   "language": "python",
   "name": "python3"
  },
  "language_info": {
   "codemirror_mode": {
    "name": "ipython",
    "version": 3
   },
   "file_extension": ".py",
   "mimetype": "text/x-python",
   "name": "python",
   "nbconvert_exporter": "python",
   "pygments_lexer": "ipython3",
   "version": "3.10.12"
  }
 },
 "nbformat": 4,
 "nbformat_minor": 2
}
