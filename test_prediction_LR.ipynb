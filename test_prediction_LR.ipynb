{
 "cells": [
  {
   "cell_type": "code",
   "execution_count": 3,
   "metadata": {},
   "outputs": [],
   "source": [
    "import numpy as np\n",
    "import tensorflow as tf\n",
    "import matplotlib.pyplot as plt\n",
    "import pandas as pd\n",
    "\n",
    "from sklearn.model_selection import train_test_split\n",
    "from sklearn.linear_model import LinearRegression\n",
    "\n",
    "from datetime import datetime\n",
    "\n",
    "from lib.dataeng import Etl"
   ]
  },
  {
   "cell_type": "code",
   "execution_count": 4,
   "metadata": {},
   "outputs": [
    {
     "name": "stdout",
     "output_type": "stream",
     "text": [
      "\n",
      "Le fichier poids le plus récent est : data_BEN_1708763698.zip, parmi :\n",
      "data_BEN_1708497738.zip\n",
      "data_BEN_1708580428.zip\n",
      "data_BEN_1708763698.zip\n",
      "data_BEN_1708405395.zip\n",
      "data_BEN_1708327447.zip\n",
      "data_BEN_1708674104.zip\n",
      "data_BEN_1708234834.zip\n",
      "\n",
      "Le fichier food le plus récent est : File-Export-2020-08-03-to-2024-02-24.zip, parmi\n",
      "File-Export-2020-08-03-to-2024-02-21.zip\n",
      "File-Export-2020-08-03-to-2024-02-24.zip\n",
      "File-Export-2020-08-03-to-2024-02-18.zip\n",
      "File-Export-2020-08-03-to-2024-02-19.zip\n",
      "File-Export-2020-08-03-to-2024-02-20.zip\n",
      "File-Export-2020-08-03-to-2024-02-23.zip\n",
      "File-Export-2020-08-03-to-2024-02-22.zip\n",
      "\n",
      "Le fichier exercices le plus récent est : polar-user-data-export_703c11e2-d0c0-42d0-84a6-665ce3a9f847.zip, parmi :\n",
      "polar-user-data-export_12baa4ce-79a5-40f8-ad40-74308f7c2c26.zip\n",
      "polar-user-data-export_703c11e2-d0c0-42d0-84a6-665ce3a9f847.zip\n"
     ]
    },
    {
     "name": "stderr",
     "output_type": "stream",
     "text": [
      "100%|██████████| 1868/1868 [01:04<00:00, 29.18it/s]\n"
     ]
    }
   ],
   "source": [
    "etl = Etl()\n",
    "\n",
    "df_weight_raw, df_food_raw, df_exos_raw, df_all = etl.extract_store_all()"
   ]
  },
  {
   "cell_type": "code",
   "execution_count": null,
   "metadata": {},
   "outputs": [],
   "source": []
  }
 ],
 "metadata": {
  "kernelspec": {
   "display_name": "toy",
   "language": "python",
   "name": "python3"
  },
  "language_info": {
   "codemirror_mode": {
    "name": "ipython",
    "version": 3
   },
   "file_extension": ".py",
   "mimetype": "text/x-python",
   "name": "python",
   "nbconvert_exporter": "python",
   "pygments_lexer": "ipython3",
   "version": "3.10.12"
  }
 },
 "nbformat": 4,
 "nbformat_minor": 2
}
