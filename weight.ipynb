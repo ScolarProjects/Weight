{
 "cells": [
  {
   "cell_type": "markdown",
   "id": "0251bd94",
   "metadata": {},
   "source": [
    "# Weight tracking, analysis and forecast"
   ]
  },
  {
   "cell_type": "markdown",
   "id": "1bf3ecc0",
   "metadata": {},
   "source": [
    "### Setup"
   ]
  },
  {
   "cell_type": "code",
   "execution_count": 1,
   "id": "b8bce779",
   "metadata": {},
   "outputs": [],
   "source": [
    "import numpy as np\n",
    "import csv\n",
    "import datetime\n",
    "from datetime import date\n",
    "import matplotlib.pyplot as plt\n",
    "\n",
    "from sklearn.linear_model import LinearRegression\n",
    "import os\n",
    "import sys\n",
    "import pandas as pd\n",
    "import seaborn as sns\n",
    "import tensorflow as tf\n",
    "\n",
    "from zipfile import ZipFile"
   ]
  },
  {
   "cell_type": "code",
   "execution_count": 2,
   "id": "d87bcc5c",
   "metadata": {},
   "outputs": [
    {
     "name": "stdout",
     "output_type": "stream",
     "text": [
      "Python = 3.8.11 (default, Aug  6 2021, 09:57:55) [MSC v.1916 64 bit (AMD64)]\n",
      "Numpy = 1.20.3\n",
      "Tensorflow = 2.5.0\n"
     ]
    }
   ],
   "source": [
    "print(f'Python = {sys.version}')\n",
    "print(f'Numpy = {np.__version__}')\n",
    "print(f'Tensorflow = {tf.__version__}')"
   ]
  },
  {
   "cell_type": "markdown",
   "id": "96d84c12",
   "metadata": {},
   "source": [
    "### Data Extraction\n",
    "\n",
    "=> file \"data_BEN.zip\" contains the file \"weight.csv\" with all daily measurements of total mass, fat mass.\n",
    "\n",
    "=> file \"Suivi_Poids.csv\" has manually-entered daily numbers for total mass and fat mass, plus nutrition data (lipid, carbs, proteines), and calories data (ingested, spent with cardio, spent with strength training)"
   ]
  },
  {
   "cell_type": "code",
   "execution_count": 3,
   "id": "f06848af",
   "metadata": {},
   "outputs": [
    {
     "name": "stdout",
     "output_type": "stream",
     "text": [
      "current working directory is c:\\Users\\benjamin.deporte\\Documents\\095_Code_Python_Toy\\Weight/\n",
      "contains :\n",
      "['.git', '.ipynb_checkpoints', 'data_BEN.zip', 'desktop.ini', 'pat.txt', 'README.md', 'Suivi_Poids.csv', 'tmp', 'weight.ipynb']\n"
     ]
    }
   ],
   "source": [
    "ROOT = os.getcwd() + '/'\n",
    "print(f'current working directory is {ROOT}')\n",
    "print(f'contains :')\n",
    "print(f'{os.listdir(ROOT)}')"
   ]
  },
  {
   "cell_type": "code",
   "execution_count": 4,
   "id": "1c048b72",
   "metadata": {},
   "outputs": [],
   "source": [
    "class GetData():\n",
    "    \n",
    "    \"\"\"\n",
    "    Basic class to to all the data extraction work :\n",
    "    - extracts the two files\n",
    "    - replaces manually entered numbers for total mass and fat mass by calculated averages if available\n",
    "    - provides method to export processed data\n",
    "    \"\"\"\n",
    "    \n",
    "    def __init__(self, zip_file_name, manual_file_name):\n",
    "        self.zip_file_name = zip_file_name\n",
    "        self.manual_follow_up_file_name = manual_file_name\n",
    "        self.daily_mass_measurements = []\n",
    "        self.daily_data = []\n",
    "    \n",
    "    def extract(self):\n",
    "        # extract data from the two files\n",
    "        # first : data_BEN.zip\n",
    "        \n",
    "        root = os.getcwd() + '/'\n",
    "        weight_file_path = root + 'tmp'\n",
    "\n",
    "        with ZipFile(self.zip_file_name, 'r') as fichier_zip:\n",
    "            print(f'Extraction fichier Zip Healthmate dans {weight_file_path}...')\n",
    "            fichier_zip.extractall(path = weight_file_path)\n",
    "            print(f'... Done')\n",
    "        \n",
    "        weight_file_csv_name = weight_file_path + '/weight.csv'\n",
    "        fields = ['date', \n",
    "                  'MT', \n",
    "                  'MG']\n",
    "\n",
    "        self.raw_from_zip = self.__extract_data(weight_file_csv_name, \n",
    "                                                fields,\n",
    "                                                skip=1, \n",
    "                                                delimiter=',')  # gets a list of dictionnaries\n",
    "        \n",
    "        # 1/ self.raw_from_zip is a list of dictionnaries, that's the set of all mass measurements from Withings scale\n",
    "        # there can be several measurements per day (and there usually are)\n",
    "        \n",
    "        # format is :\n",
    "        # [ { 'date' : 'YYYY-MM-DD time', 'MT' : str of total mass, 'MG' : str of fat mass, None : ['','','']},\n",
    "        #   { 'date' : 'YYYY-MM-DD time', 'MT' : str of total mass, 'MG' : str of fat mass, None : ['','','']},\n",
    "        #   ....,\n",
    "        #   { 'date' : 'YYYY-MM-DD time', 'MT' : str of total mass, 'MG' : str of fat mass, None : ['','','']},\n",
    "        # ]\n",
    "                \n",
    "        # second : Suivi_Poids.csv\n",
    "        \n",
    "        fields = ['date', \n",
    "                  'Masse Totale', \n",
    "                  'Masse Grasse', \n",
    "                  'Calories in', \n",
    "                  'Glucides', 'Lipides', 'Proteines', \n",
    "                  'Calories Exercice Brut', 'C_Ex_Cardio', 'C_Ex_Strength',\n",
    "                  'Verif']\n",
    "        \n",
    "        self.raw_from_manual = self.__extract_data(self.manual_follow_up_file_name, \n",
    "                                                   fields,\n",
    "                                                   skip=2, \n",
    "                                                   delimiter=';')  # returns and stores a list of disctionnaries\n",
    "              \n",
    "        \n",
    "        # 2/ self.raw_from_manual is a list of dictionnaries, with one set of data per day, from a *.csv follow-up file\n",
    "        \n",
    "        # format is :\n",
    "        # [ { 'date' : 'DD-month_name-YYYY', 'Masse Totale' : str of total mass, 'Masse Grasse' : str of fat mass,\n",
    "        #     'Calories In' : str of kcals, 'Glucides' : str, 'Lipides' : str, 'Proteines' : str, 'Calories Exercice Brut': str,\n",
    "        #     'C_Ex_Cardio': str, 'C_Ex_Strength': str, 'Verif': str, None: ['', '']\n",
    "        #   },\n",
    "        # ....\n",
    "        # ]\n",
    "        \n",
    "        # ------------------------------\n",
    "        # -- data consolidation --------\n",
    "        # ------------------------------\n",
    "        \n",
    "        # 1/ creates an attribute self.daily_mass_measurements, which is a list of dictionnaries, containing all the mass measurements\n",
    "        # per day, non empty, in float format - created from self.raw_from_zip\n",
    "        \n",
    "        # format is :\n",
    "        \n",
    "        # [ { 'date' : date_object, 'mt' : list of total mass measurements of the day (floats), \n",
    "        #     'mg' : list of total mass measurements of the day (floats) },\n",
    "        #   { 'date' : date_object, 'mt' : list of total mass measurements of the day (floats), \n",
    "        #     'mg' : list of total mass measurements of the day (floats) },\n",
    "        #   ...\n",
    "        # ]\n",
    "        \n",
    "        for cdict in self.raw_from_zip:\n",
    "            cdate = self.__conv_to_date_num(cdict.get('date'))\n",
    "            cmt = self.__conv_to_float(cdict.get('MT'))\n",
    "            cmg = self.__conv_to_float(cdict.get('MG'))\n",
    "            self.__add_daily_mass_measurement(cdate, cmt, cmg)\n",
    "            \n",
    "        # 2/ creates an attribute self.daily_data, which is a list of dictionnaries, containing all the measurements of the day\n",
    "        # plus the calories data from the *.csv file (self.raw_from_manual)\n",
    "        # if available in self.daily_mass_measurements, then the mass data in self.daily_data is overwritten by the averages\n",
    "        # in self.daily_mass_measurements\n",
    "        \n",
    "        # format is :\n",
    "        \n",
    "        # [ { 'date' : date_object, 'masse_totale' : total mass (float), 'masse_grasse' : fat mass (float),\n",
    "        #     'calories_in' : kcals (float), 'glucides' : float, 'lipides' : float, 'proteines' : float, 'calories_exercice': float,\n",
    "        #     'calories_cardio': float, 'calories_strength': float },\n",
    "        # ....\n",
    "        # ]\n",
    "        \n",
    "        for cdict in self.raw_from_manual:\n",
    "            cdate = self.__conv_to_date_str(cdict.get('date'))\n",
    "            found, cmt, cmg = self.get_daily_mass_measurement(cdate)  # is the mass data in the Withings file ?\n",
    "            if found:\n",
    "                cmt = np.mean(cmt)\n",
    "                cmg = np.mean(cmg)\n",
    "            else:\n",
    "                cmt = self.__conv_to_float(cdict.get('Masse Totale'))\n",
    "                cmg = self.__conv_to_float(cdict.get('Masse Grasse'))\n",
    "            cals_in = self.__conv_to_float(cdict.get('Calories in', '0.0'))\n",
    "            glu = self.__conv_to_float(cdict.get('Glucides', '0.0'))\n",
    "            lip = self.__conv_to_float(cdict.get('Lipides','0.0'))\n",
    "            prot = self.__conv_to_float(cdict.get('Proteines', '0.0'))\n",
    "            cals_ex = self.__conv_to_float(cdict.get('Calories Exercice Brut', '0.0'))\n",
    "            cals_card = self.__conv_to_float(cdict.get('C_Ex_Cardio', '0.0'))\n",
    "            cals_str = self.__conv_to_float(cdict.get('C_Ex_Strength', '0.0'))\n",
    "            new_rec = dict([ ('date', cdate), \n",
    "                             ('masse_totale', cmt),\n",
    "                             ('masse_grasse', cmg),\n",
    "                             ('calories_in', cals_in),\n",
    "                             ('glucides', glu),\n",
    "                             ('lipides', lip),\n",
    "                             ('proteines', prot),\n",
    "                             ('calories_exercice', cals_ex),\n",
    "                             ('calories_cardio', cals_card),\n",
    "                             ('calories_strength', cals_str)\n",
    "                             ])\n",
    "            self.daily_data.append(new_rec)            \n",
    "                    \n",
    "    def __add_daily_mass_measurement(self, cdate : datetime.datetime, cmt : float, cmg : float):\n",
    "        # utility : add cmt, cmg to the self.daily_mass_measurements records, or create it if first time\n",
    "        found = False\n",
    "        for i, daily_m_dict in enumerate(self.daily_mass_measurements):\n",
    "            if daily_m_dict.get('date') == cdate:\n",
    "                found = True\n",
    "                self.daily_mass_measurements[i]['mt'].append(cmt)\n",
    "                self.daily_mass_measurements[i]['mg'].append(cmg)\n",
    "        if not found:\n",
    "            new_rec = dict([ ('date', cdate), ('mt', [cmt]) , ('mg', [cmg]) ])\n",
    "            self.daily_mass_measurements.append(new_rec)\n",
    "            \n",
    "    def get_daily_mass_measurement(self, cdate : datetime.datetime):\n",
    "        # access to list of daily mass measurements\n",
    "        # returns :\n",
    "        # (True, list of mt measurements, list of mg measurements) if exist\n",
    "        # (False, 0.0, 0.0) if does not exist\n",
    "        found = False\n",
    "        daily_mt = 0.0\n",
    "        daily_mg = 0.0\n",
    "        \n",
    "        for i, daily_m_dict in enumerate(self.daily_mass_measurements):\n",
    "            if daily_m_dict.get('date') == cdate:\n",
    "                found = True\n",
    "                daily_mt = daily_m_dict.get('mt')\n",
    "                daily_mg = daily_m_dict.get('mg')\n",
    "                \n",
    "        return found, daily_mt, daily_mg\n",
    "    \n",
    "    def get_daily_data(self, cdate : datetime.datetime):\n",
    "        # access to list of daily data\n",
    "        \n",
    "        # returns :\n",
    "        # (True, dict of dialy data if exist\n",
    "        # (False, {}) if does not exist\n",
    "        found = False\n",
    "        ret_dict = {}\n",
    "        \n",
    "        for i, daily_m_dict in enumerate(self.daily_data):\n",
    "            if daily_m_dict.get('date') == cdate:\n",
    "                found = True\n",
    "                ret_dict = self.daily_data[i]\n",
    "                \n",
    "        return found, ret_dict\n",
    "    \n",
    "    def __extract_data(self,\n",
    "                       filename, \n",
    "                       champs,\n",
    "                       skip=2,\n",
    "                       delimiter=','):\n",
    "        \"\"\"\n",
    "        Helper function that reads a csv file, returns a list of dictionnaries\n",
    "        Each dict is a line, ie a daily measurement, in the file.\n",
    "        Skips the first line(s)\n",
    "        \n",
    "        Parameters :\n",
    "        filename (str) : name of the *.csv file\n",
    "        fieldnames (sequence) : sequence of the columns names\n",
    "        skip (int) : number of lines to skip at the beginning of the file\n",
    "        delimiter (str) : character used as a delimiter\n",
    "        \"\"\"\n",
    "\n",
    "        data = []\n",
    "        with open(filename, newline='') as csvfile:\n",
    "            fichier = csv.DictReader(csvfile, fieldnames=champs, delimiter=delimiter)\n",
    "            for i in range(skip):  # skip <skip> lines at the beginning of the file\n",
    "                next(fichier)\n",
    "            for row in fichier:\n",
    "                data.append(row)\n",
    "\n",
    "        return data\n",
    "    \n",
    "    def __conv_to_date_str(self, date_string : str) -> datetime.date:\n",
    "        \"\"\"\n",
    "        helper function that converts string outputs of dates, \n",
    "        with format \"YY-month_name-day\", and returns a date object\n",
    "        from datetime.\n",
    "        \"\"\"\n",
    "\n",
    "        dict_mois = {'août' : 8, \n",
    "                     'sept.' : 9,\n",
    "                     'oct.' : 10,\n",
    "                     'nov.' : 11,\n",
    "                     'déc.' : 12,\n",
    "                     'janv.' : 1,\n",
    "                     'févr.' : 2,\n",
    "                     'mars' : 3,\n",
    "                     'avr.' : 4,\n",
    "                     'mai' : 5,\n",
    "                     'juin' : 6,\n",
    "                     'juil.' : 7\n",
    "                    }\n",
    "        d = date_string.split(' ')[0]  # récupère la date en début de string : 2xxx-MM-DD\n",
    "        d = d.split('-')  # récupère year, month, day\n",
    "\n",
    "        # print(d)\n",
    "\n",
    "        try:\n",
    "            day = int(d[0])\n",
    "        except ValueError:\n",
    "            raise NameError('problème de format dans un champ date (jour)')\n",
    "\n",
    "        try:\n",
    "            year = 2000 + int(d[2])\n",
    "        except ValueError:\n",
    "            raise NameError('problème de format dans un champ date (année)')\n",
    "\n",
    "        try:\n",
    "            month = int(d[1])\n",
    "        except ValueError:\n",
    "            try:\n",
    "                month = dict_mois.get(d[1])\n",
    "            except ValueError:\n",
    "                raise NameError('problème de format dans un champ date (mois)')\n",
    "\n",
    "        date_object = datetime.date(year, month, day)\n",
    "\n",
    "        return date_object\n",
    "    \n",
    "    def __conv_to_date_num(self, date_string : str) -> datetime.date:\n",
    "        \"\"\"\n",
    "        helper function that converts a \"YYYY-MM-DD\" string into a date object\n",
    "        \"\"\"\n",
    "\n",
    "        d = date_string.split(' ')[0]  # récupère la date en début de string : 2xxx-MM-DD\n",
    "        d = d.split('-')  # récupère year, month, day\n",
    "\n",
    "        # print(d)\n",
    "\n",
    "        try:\n",
    "            day = int(d[2])\n",
    "        except ValueError:\n",
    "            raise NameError('problème de format dans un champ date (jour)')\n",
    "\n",
    "        try:\n",
    "            year = int(d[0])\n",
    "        except ValueError:\n",
    "            raise NameError('problème de format dans un champ date (année)')\n",
    "\n",
    "        try:\n",
    "            month = int(d[1])\n",
    "        except ValueError:\n",
    "            raise NameError('problème de format dans un champ date (mois)')\n",
    "\n",
    "        date_object = datetime.date(year, month, day)\n",
    "\n",
    "        return date_object\n",
    "    \n",
    "    def __conv_to_float(self, float_string:str) -> float:\n",
    "        \"\"\"\n",
    "        conversion basique+ en float.\n",
    "\n",
    "        renvoie 0 si string vide ou remplie d'espaces, ou string = '-'.\n",
    "        \"\"\"\n",
    "\n",
    "        if type(float_string) is None:\n",
    "            return 0\n",
    "\n",
    "        float_string = float_string.replace(\" \",\"\")\n",
    "        if not float_string:\n",
    "            return 0\n",
    "        if float_string == \"-\":\n",
    "            return 0\n",
    "\n",
    "        try:\n",
    "            float_string = float_string.replace(\" \",\"\")\n",
    "            valeur = float(float_string.replace(',','.'))\n",
    "        except ValueError:\n",
    "            raise NameError('une tentative de conversion en float a échouée car string non compatible')\n",
    "\n",
    "        return valeur"
   ]
  },
  {
   "cell_type": "code",
   "execution_count": 5,
   "id": "7e3e6568",
   "metadata": {},
   "outputs": [],
   "source": [
    "ds = GetData(ROOT + 'data_BEN.zip', ROOT + 'Suivi_Poids.csv')"
   ]
  },
  {
   "cell_type": "code",
   "execution_count": 6,
   "id": "1450bb96",
   "metadata": {},
   "outputs": [
    {
     "name": "stdout",
     "output_type": "stream",
     "text": [
      "Extraction fichier Zip Healthmate dans c:\\Users\\benjamin.deporte\\Documents\\095_Code_Python_Toy\\Weight/tmp...\n",
      "... Done\n"
     ]
    }
   ],
   "source": [
    "ds.extract()"
   ]
  },
  {
   "cell_type": "code",
   "execution_count": 7,
   "id": "fa4f632a",
   "metadata": {},
   "outputs": [
    {
     "name": "stdout",
     "output_type": "stream",
     "text": [
      "[{'date': datetime.date(2021, 10, 24), 'mt': [67.05, 67.1, 67.1, 67.1, 67.05, 67.05], 'mg': [8.09, 8.15, 8.1, 8.15, 8.18, 8.18]}, {'date': datetime.date(2021, 10, 23), 'mt': [66.55, 66.5, 66.5, 66.5, 66.6], 'mg': [7.74, 7.73, 7.82, 7.83, 7.85]}, {'date': datetime.date(2021, 10, 22), 'mt': [67.2, 67.2, 67.15, 67.2, 67.1, 67.2, 67.2, 67.2], 'mg': [8.15, 8.12, 8.14, 8.15, 8.17, 8.21, 8.26, 8.22]}, {'date': datetime.date(2021, 10, 21), 'mt': [67.7, 67.7, 67.65, 67.65, 67.75, 67.65, 67.7, 67.6], 'mg': [8.41, 8.41, 8.38, 8.42, 8.49, 8.47, 8.56, 8.45]}, {'date': datetime.date(2021, 10, 20), 'mt': [67.45, 67.45, 67.5, 67.4, 67.45, 67.4], 'mg': [7.91, 7.9, 7.99, 7.96, 7.97, 8.02]}, {'date': datetime.date(2021, 10, 19), 'mt': [67.6, 67.6, 67.6, 67.55, 67.6, 67.55], 'mg': [8.06, 8.13, 8.12, 8.13, 8.12, 8.15]}, {'date': datetime.date(2021, 10, 18), 'mt': [67.05, 66.95, 67.0, 67.0, 67.1, 67.0, 67.0], 'mg': [7.83, 7.81, 7.8, 7.87, 7.92, 7.91, 7.87]}, {'date': datetime.date(2021, 10, 17), 'mt': [67.35, 67.35, 67.3, 67.45, 67.35, 67.4], 'mg': [7.92, 7.97, 7.95, 8.04, 8.06, 8.07]}, {'date': datetime.date(2021, 10, 16), 'mt': [66.65, 66.85, 66.7, 66.75, 66.75, 66.7, 66.8], 'mg': [7.75, 7.83, 7.81, 7.89, 7.87, 7.93, 7.9]}, {'date': datetime.date(2021, 10, 15), 'mt': [67.05, 67.0, 67.0, 66.95, 67.0, 66.95, 67.05], 'mg': [8.11, 8.1, 8.1, 8.15, 8.1, 8.15, 8.2]}, {'date': datetime.date(2021, 10, 14), 'mt': [67.65, 67.65, 67.6, 67.35, 67.65, 67.75, 67.65, 67.7], 'mg': [8.12, 8.2, 8.11, 7.99, 8.18, 8.19, 8.18, 8.22]}, {'date': datetime.date(2021, 10, 13), 'mt': [67.4, 67.35, 67.35, 67.35, 67.45, 67.4, 67.4], 'mg': [8.05, 8.04, 8.12, 8.14, 8.17, 8.12, 8.2]}, {'date': datetime.date(2021, 10, 12), 'mt': [67.4, 67.3, 67.4, 67.5, 67.2], 'mg': [8.0, 8.0, 8.0, 8.1, 7.9]}, {'date': datetime.date(2021, 10, 11), 'mt': [67.8, 67.85, 67.8, 67.85, 67.8, 67.8, 67.85], 'mg': [8.48, 8.52, 8.48, 8.58, 8.57, 8.59, 8.6]}, {'date': datetime.date(2021, 10, 10), 'mt': [67.5, 67.45, 67.5, 67.5, 67.5, 67.4, 67.5, 67.6], 'mg': [8.08, 8.04, 8.14, 8.1, 8.17, 8.14, 8.21, 8.22]}, {'date': datetime.date(2021, 10, 9), 'mt': [67.15, 66.6, 67.05, 67.0, 67.05, 67.1, 67.05, 67.1], 'mg': [8.02, 7.81, 7.98, 8.05, 8.09, 8.12, 8.09, 8.08]}, {'date': datetime.date(2021, 10, 8), 'mt': [66.95, 66.9, 66.95, 66.85, 66.95, 66.95], 'mg': [7.86, 7.84, 7.92, 7.87, 7.9, 7.95]}, {'date': datetime.date(2021, 10, 7), 'mt': [67.35, 67.35, 67.4, 67.45, 67.3, 67.35, 67.4], 'mg': [8.04, 8.06, 8.16, 8.13, 8.13, 8.15, 8.18]}, {'date': datetime.date(2021, 10, 6), 'mt': [67.25, 67.25, 67.3, 67.25, 67.3, 67.35], 'mg': [7.98, 8.03, 8.0, 8.01, 8.02, 8.12]}, {'date': datetime.date(2021, 10, 5), 'mt': [66.55, 66.6, 66.55, 66.6, 66.6, 66.6], 'mg': [7.91, 7.93, 7.92, 7.98, 7.98, 8.0]}, {'date': datetime.date(2021, 10, 4), 'mt': [66.8, 66.8, 66.8, 66.8, 66.75, 66.75, 66.8], 'mg': [7.51, 7.53, 7.53, 7.58, 7.55, 7.55, 0]}, {'date': datetime.date(2021, 10, 3), 'mt': [67.0, 67.0, 67.0, 67.0, 67.09], 'mg': [7.8, 7.8, 7.9, 7.9, 8.1]}, {'date': datetime.date(2021, 10, 2), 'mt': [66.8, 66.7, 66.85, 66.85, 66.75, 66.8, 66.8], 'mg': [7.6, 7.86, 7.9, 7.99, 7.94, 7.94, 7.98]}, {'date': datetime.date(2021, 10, 1), 'mt': [66.55, 66.55, 66.55, 66.6, 66.7, 66.6], 'mg': [7.9, 7.8, 7.87, 7.91, 8.0, 7.9]}, {'date': datetime.date(2021, 9, 30), 'mt': [66.8, 66.85, 66.8, 66.85, 66.85, 66.9], 'mg': [7.79, 7.81, 7.77, 7.81, 7.81, 7.85]}, {'date': datetime.date(2021, 9, 29), 'mt': [66.85, 66.85, 66.8, 66.85, 66.85, 66.8, 66.8], 'mg': [7.81, 7.83, 7.84, 7.83, 7.83, 7.87, 7.87]}, {'date': datetime.date(2021, 9, 28), 'mt': [66.4, 66.45, 66.5, 66.4, 66.4, 66.45], 'mg': [7.81, 7.84, 7.9, 7.91, 7.93, 8.06]}, {'date': datetime.date(2021, 9, 27), 'mt': [66.1, 65.95, 66.0, 66.05, 66.0, 65.9, 66.0], 'mg': [7.84, 7.75, 7.74, 7.85, 7.86, 7.89, 7.92]}, {'date': datetime.date(2021, 9, 26), 'mt': [66.3, 66.2, 66.25, 66.2, 66.3, 66.25], 'mg': [7.95, 8.01, 7.97, 7.94, 8.05, 7.99]}, {'date': datetime.date(2021, 9, 25), 'mt': [66.6, 66.6, 66.6, 66.65, 66.35, 66.6, 66.6], 'mg': [8.14, 8.12, 8.19, 8.21, 8.04, 8.14, 8.15]}, {'date': datetime.date(2021, 9, 24), 'mt': [67.35, 67.4, 67.45, 67.4, 67.45, 67.5], 'mg': [8.22, 8.28, 8.35, 8.34, 8.27, 8.39]}, {'date': datetime.date(2021, 9, 23), 'mt': [67.25, 67.15, 67.25, 67.25, 67.25], 'mg': [8.41, 8.42, 8.46, 8.48, 8.46]}, {'date': datetime.date(2021, 9, 22), 'mt': [68.6, 68.55, 68.55, 68.65, 68.55], 'mg': [8.48, 8.55, 8.53, 8.6, 8.59]}, {'date': datetime.date(2021, 9, 21), 'mt': [67.8, 67.6, 67.85, 67.85, 67.85], 'mg': [8.68, 8.68, 8.74, 8.72, 8.8]}, {'date': datetime.date(2021, 9, 20), 'mt': [68.2, 68.25, 68.1, 68.2, 68.15], 'mg': [8.93, 8.97, 8.95, 8.93, 8.88]}, {'date': datetime.date(2021, 9, 19), 'mt': [68.7, 68.7, 68.6, 68.7, 68.7], 'mg': [8.8, 8.7, 8.8, 8.9, 8.8]}, {'date': datetime.date(2021, 9, 18), 'mt': [68.4, 68.5, 68.4, 68.3, 68.5], 'mg': [8.8, 8.8, 8.8, 8.8, 8.9]}, {'date': datetime.date(2021, 9, 17), 'mt': [68.65, 68.6, 68.6, 68.55, 68.75], 'mg': [8.66, 8.69, 8.75, 8.67, 8.81]}, {'date': datetime.date(2021, 9, 16), 'mt': [68.2, 68.15, 68.3, 68.15, 68.15, 67.95, 68.2], 'mg': [8.41, 8.42, 8.52, 8.42, 8.46, 8.45, 8.47]}, {'date': datetime.date(2021, 9, 15), 'mt': [68.1, 68.15, 68.05, 68.05, 68.15, 68.15, 68.25], 'mg': [8.38, 8.4, 8.39, 8.39, 8.33, 8.44, 8.49]}, {'date': datetime.date(2021, 9, 14), 'mt': [68.85, 68.75, 68.8, 68.6, 68.9, 68.85, 68.75], 'mg': [8.22, 8.23, 8.21, 8.2, 8.32, 8.38, 8.35]}, {'date': datetime.date(2021, 9, 13), 'mt': [68.05, 67.95, 67.9, 67.95, 67.95, 67.95], 'mg': [7.61, 7.64, 7.66, 7.68, 7.75, 7.77]}, {'date': datetime.date(2021, 9, 12), 'mt': [67.9, 67.85, 67.9, 67.95, 67.9, 67.85, 67.95, 68.05, 68.0, 68.1], 'mg': [8.3, 8.35, 8.33, 8.41, 8.28, 8.36, 8.41, 8.52, 8.55, 8.7]}, {'date': datetime.date(2021, 9, 11), 'mt': [68.0, 68.05, 68.15, 68.1, 68.05, 68.05], 'mg': [8.33, 8.45, 8.42, 8.49, 8.48, 8.52]}, {'date': datetime.date(2021, 9, 10), 'mt': [68.3, 68.3, 68.3, 68.25, 68.3, 68.35], 'mg': [8.56, 8.5, 8.54, 8.57, 8.57, 8.64]}, {'date': datetime.date(2021, 9, 9), 'mt': [67.85, 67.7, 67.75, 67.9, 67.85, 67.8], 'mg': [8.4, 8.34, 8.39, 8.48, 8.49, 8.49]}, {'date': datetime.date(2021, 9, 8), 'mt': [67.55, 67.55, 67.55, 67.5, 67.5], 'mg': [8.15, 8.21, 8.14, 8.2, 8.17]}, {'date': datetime.date(2021, 9, 7), 'mt': [67.75, 67.85, 67.8, 67.75, 67.8, 67.75], 'mg': [8.11, 8.14, 8.17, 8.16, 8.24, 8.14]}, {'date': datetime.date(2021, 9, 6), 'mt': [68.15, 68.2, 68.15, 68.2, 68.2], 'mg': [8.31, 8.35, 8.31, 8.37, 8.35]}, {'date': datetime.date(2021, 9, 5), 'mt': [67.7, 67.75, 67.6, 67.75, 67.75], 'mg': [8.38, 8.37, 8.35, 8.44, 8.44]}, {'date': datetime.date(2021, 9, 4), 'mt': [67.9, 67.6, 67.9, 67.95, 68.0, 67.95, 67.95], 'mg': [8.12, 8.03, 8.2, 8.24, 8.31, 8.34, 8.27]}, {'date': datetime.date(2021, 9, 3), 'mt': [67.75, 67.7, 67.85, 67.75, 67.8, 67.8], 'mg': [8.46, 8.47, 8.52, 8.55, 8.54, 8.5]}, {'date': datetime.date(2021, 9, 2), 'mt': [67.9, 67.9, 67.9, 67.9, 67.75], 'mg': [8.26, 8.27, 8.33, 8.37, 8.35]}, {'date': datetime.date(2021, 9, 1), 'mt': [67.25, 67.6], 'mg': [8.04, 8.25]}, {'date': datetime.date(2021, 8, 31), 'mt': [67.9, 67.6, 67.9, 67.85, 67.95, 68.05, 67.95], 'mg': [8.27, 8.23, 8.33, 8.4, 8.34, 8.52, 8.49]}, {'date': datetime.date(2021, 8, 30), 'mt': [68.35, 68.3, 68.3, 68.35, 68.35, 68.3, 68.3], 'mg': [8.75, 8.75, 8.75, 8.81, 8.89, 8.82, 8.88]}, {'date': datetime.date(2021, 8, 29), 'mt': [69.0, 68.95, 68.95, 68.9, 69.0, 69.0], 'mg': [8.71, 8.63, 8.71, 8.7, 8.73, 8.77]}, {'date': datetime.date(2021, 8, 28), 'mt': [69.3, 69.4, 69.4, 69.45, 69.45], 'mg': [8.25, 8.33, 8.36, 8.42, 8.5]}, {'date': datetime.date(2021, 8, 27), 'mt': [68.45, 68.35, 68.2, 68.35, 68.3, 68.3], 'mg': [8.47, 8.36, 8.31, 8.34, 8.4, 8.4]}, {'date': datetime.date(2021, 8, 26), 'mt': [68.3, 68.3, 68.25, 68.3, 68.3], 'mg': [8.51, 8.53, 8.55, 8.63, 8.59]}, {'date': datetime.date(2021, 8, 25), 'mt': [68.2, 68.0, 68.1, 68.05, 68.1], 'mg': [8.35, 8.27, 8.32, 8.37, 8.35]}, {'date': datetime.date(2021, 8, 24), 'mt': [68.25, 68.3, 68.35, 68.25, 68.35], 'mg': [8.51, 8.51, 8.6, 8.53, 8.6]}, {'date': datetime.date(2021, 8, 23), 'mt': [68.7, 68.65, 68.55, 68.6, 68.6], 'mg': [8.8, 8.77, 8.86, 8.86, 8.82]}, {'date': datetime.date(2021, 8, 22), 'mt': [70.05, 70.0, 70.15, 70.0, 70.1], 'mg': [8.36, 8.32, 8.5, 8.43, 8.41]}, {'date': datetime.date(2021, 8, 21), 'mt': [68.9, 68.9, 69.0, 68.95, 69.0], 'mg': [7.78, 7.84, 7.92, 7.9, 7.94]}, {'date': datetime.date(2021, 8, 20), 'mt': [69.15, 69.15, 69.15, 69.25, 69.2], 'mg': [8.64, 8.66, 8.62, 8.77, 8.71]}, {'date': datetime.date(2021, 8, 19), 'mt': [69.5, 69.65, 69.5], 'mg': [8.9, 8.91, 8.92]}, {'date': datetime.date(2021, 8, 18), 'mt': [69.65, 69.7, 69.65], 'mg': [8.91, 8.96, 8.89]}, {'date': datetime.date(2021, 8, 17), 'mt': [68.8, 68.75, 68.85, 68.8, 68.8], 'mg': [8.65, 8.62, 8.69, 8.75, 8.79]}, {'date': datetime.date(2021, 8, 16), 'mt': [69.1, 69.05, 69.2, 69.0], 'mg': [8.76, 8.84, 8.79, 8.81]}, {'date': datetime.date(2021, 8, 15), 'mt': [69.6, 69.45, 69.5], 'mg': [8.93, 8.81, 8.78]}, {'date': datetime.date(2021, 8, 14), 'mt': [68.9, 68.9, 68.95], 'mg': [8.66, 8.64, 8.66]}, {'date': datetime.date(2021, 8, 13), 'mt': [69.1, 69.3, 69.1, 69.2, 69.25], 'mg': [8.58, 8.72, 8.62, 8.71, 8.81]}, {'date': datetime.date(2021, 8, 12), 'mt': [68.55, 68.55, 68.6], 'mg': [8.36, 8.4, 8.49]}, {'date': datetime.date(2021, 8, 11), 'mt': [69.2, 69.3, 69.3], 'mg': [8.58, 8.61, 8.61]}, {'date': datetime.date(2021, 8, 10), 'mt': [69.0, 68.85, 68.95], 'mg': [8.63, 8.55, 8.64]}, {'date': datetime.date(2021, 8, 9), 'mt': [69.5, 69.45, 69.5], 'mg': [8.75, 8.75, 8.84]}, {'date': datetime.date(2021, 8, 8), 'mt': [69.25, 69.15, 69.3], 'mg': [8.81, 8.86, 8.94]}, {'date': datetime.date(2021, 8, 7), 'mt': [68.75, 68.8, 68.8], 'mg': [8.66, 8.72, 8.72]}, {'date': datetime.date(2021, 8, 6), 'mt': [68.85, 69.0, 68.95], 'mg': [8.61, 8.69, 8.7]}, {'date': datetime.date(2021, 8, 5), 'mt': [68.4, 68.3, 68.35], 'mg': [8.83, 8.86, 8.92]}, {'date': datetime.date(2021, 8, 4), 'mt': [68.4, 68.4, 68.35], 'mg': [8.62, 8.66, 8.67]}, {'date': datetime.date(2021, 8, 3), 'mt': [68.2, 68.15, 68.15], 'mg': [8.84, 8.87, 8.89]}, {'date': datetime.date(2021, 8, 2), 'mt': [68.4, 68.4, 68.45], 'mg': [9.32, 9.36, 9.38]}, {'date': datetime.date(2021, 8, 1), 'mt': [68.7, 68.7, 68.75], 'mg': [9.21, 9.23, 9.29]}, {'date': datetime.date(2021, 7, 31), 'mt': [68.8, 68.9, 68.95], 'mg': [8.78, 8.94, 8.94]}, {'date': datetime.date(2021, 7, 30), 'mt': [68.7, 68.75, 68.7], 'mg': [9.03, 9.04, 9.01]}, {'date': datetime.date(2021, 7, 29), 'mt': [68.55, 68.55, 68.65], 'mg': [9.28, 9.32, 9.34]}, {'date': datetime.date(2021, 7, 27), 'mt': [69.05, 69.0, 69.0, 69.0], 'mg': [9.54, 9.47, 9.55, 9.57]}, {'date': datetime.date(2021, 7, 26), 'mt': [68.95, 69.0, 68.95, 68.95], 'mg': [9.77, 9.69, 9.67, 9.67]}, {'date': datetime.date(2021, 7, 25), 'mt': [70.0, 69.95, 70.15], 'mg': [9.19, 9.21, 9.32]}, {'date': datetime.date(2021, 7, 24), 'mt': [70.1, 70.0, 70.15], 'mg': [9.07, 9.0, 9.1]}, {'date': datetime.date(2021, 7, 23), 'mt': [70.65, 70.65, 70.65], 'mg': [9.55, 9.51, 9.62]}, {'date': datetime.date(2021, 7, 22), 'mt': [70.3, 70.3, 70.35], 'mg': [9.17, 9.17, 9.24]}, {'date': datetime.date(2021, 7, 21), 'mt': [69.6, 69.7, 69.8], 'mg': [9.72, 9.71, 9.85]}, {'date': datetime.date(2021, 7, 20), 'mt': [69.3, 69.3, 69.3], 'mg': [9.88, 9.93, 9.99]}, {'date': datetime.date(2021, 7, 19), 'mt': [69.65, 69.5, 69.7], 'mg': [10.11, 10.08, 10.07]}, {'date': datetime.date(2021, 7, 18), 'mt': [70.5, 70.45, 70.55], 'mg': [10.16, 10.18, 10.17]}, {'date': datetime.date(2021, 7, 17), 'mt': [69.7, 69.8, 69.85], 'mg': [9.86, 9.98, 9.99]}, {'date': datetime.date(2021, 7, 16), 'mt': [70.65, 70.75, 70.6], 'mg': [9.84, 9.85, 9.86]}, {'date': datetime.date(2021, 7, 15), 'mt': [70.15, 70.05, 70.0], 'mg': [10.16, 10.12, 10.24]}, {'date': datetime.date(2021, 7, 14), 'mt': [70.75, 70.8, 70.8], 'mg': [10.32, 10.35, 10.42]}, {'date': datetime.date(2021, 7, 13), 'mt': [70.9, 70.65, 70.85], 'mg': [10.2, 10.13, 10.24]}, {'date': datetime.date(2021, 7, 12), 'mt': [72.05, 72.05, 72.0], 'mg': [10.22, 10.2, 10.2]}, {'date': datetime.date(2021, 7, 8), 'mt': [70.3, 70.3, 70.4], 'mg': [10.4, 10.33, 10.45]}, {'date': datetime.date(2021, 7, 7), 'mt': [70.3, 70.3, 70.25], 'mg': [10.07, 10.18, 10.15]}, {'date': datetime.date(2021, 7, 6), 'mt': [70.7, 70.85, 70.7], 'mg': [9.53, 9.63, 9.55]}, {'date': datetime.date(2021, 7, 5), 'mt': [70.3, 70.2, 70.35], 'mg': [10.48, 10.45, 10.45]}, {'date': datetime.date(2021, 7, 4), 'mt': [70.0, 70.05, 70.05], 'mg': [10.39, 10.44, 10.51]}, {'date': datetime.date(2021, 7, 3), 'mt': [70.6, 70.7, 70.65], 'mg': [10.44, 10.45, 10.47]}, {'date': datetime.date(2021, 7, 2), 'mt': [71.05, 71.1, 71.15], 'mg': [10.77, 10.86, 10.94]}, {'date': datetime.date(2021, 7, 1), 'mt': [71.5, 71.45, 71.6], 'mg': [10.84, 10.72, 10.9]}, {'date': datetime.date(2021, 6, 30), 'mt': [71.65, 71.65, 71.55], 'mg': [11.1, 11.14, 11.06]}, {'date': datetime.date(2021, 6, 29), 'mt': [71.75, 71.8, 71.7], 'mg': [10.87, 11.02, 10.87]}, {'date': datetime.date(2021, 6, 28), 'mt': [72.25, 72.25, 72.25], 'mg': [11.21, 11.23, 11.23]}, {'date': datetime.date(2021, 6, 27), 'mt': [71.95, 71.85, 71.85], 'mg': [9.61, 9.64, 9.68]}, {'date': datetime.date(2021, 6, 26), 'mt': [71.7, 71.7, 71.65], 'mg': [10.13, 10.13, 10.1]}, {'date': datetime.date(2021, 6, 25), 'mt': [71.2, 71.25, 71.1], 'mg': [10.88, 10.88, 10.86]}, {'date': datetime.date(2021, 6, 24), 'mt': [71.0, 70.95, 70.9], 'mg': [11.03, 11.0, 11.08]}, {'date': datetime.date(2021, 6, 23), 'mt': [71.1, 71.15, 71.25], 'mg': [10.89, 10.98, 10.93]}, {'date': datetime.date(2021, 6, 22), 'mt': [71.55, 71.55, 71.6], 'mg': [10.85, 10.99, 10.99]}, {'date': datetime.date(2021, 6, 21), 'mt': [72.2, 72.2, 72.15], 'mg': [10.93, 11.03, 10.95]}, {'date': datetime.date(2021, 6, 20), 'mt': [71.95, 72.0, 71.9], 'mg': [9.8, 9.78, 9.85]}, {'date': datetime.date(2021, 6, 19), 'mt': [71.15, 71.15, 71.1], 'mg': [10.36, 10.41, 10.47]}, {'date': datetime.date(2021, 6, 18), 'mt': [71.4, 71.45, 71.45], 'mg': [10.69, 10.81, 10.74]}, {'date': datetime.date(2021, 6, 17), 'mt': [71.25, 71.4, 71.4], 'mg': [10.37, 10.43, 10.5]}, {'date': datetime.date(2021, 6, 16), 'mt': [72.35, 72.25, 72.35], 'mg': [10.23, 10.23, 10.28]}, {'date': datetime.date(2021, 6, 15), 'mt': [71.65, 71.6, 71.6], 'mg': [10.26, 10.28, 10.36]}, {'date': datetime.date(2021, 6, 14), 'mt': [71.5, 71.55, 71.6], 'mg': [10.7, 10.73, 10.83]}, {'date': datetime.date(2021, 6, 13), 'mt': [71.45, 71.4, 71.5], 'mg': [11.11, 11.11, 11.1]}, {'date': datetime.date(2021, 6, 12), 'mt': [71.75, 71.9, 71.75, 71.9], 'mg': [11.25, 11.24, 11.2, 11.24]}, {'date': datetime.date(2021, 6, 11), 'mt': [72.2, 72.15, 72.3], 'mg': [10.91, 10.95, 10.99]}, {'date': datetime.date(2021, 6, 10), 'mt': [71.85, 71.9, 72.0, 71.9], 'mg': [11.16, 11.1, 11.28, 11.17]}, {'date': datetime.date(2021, 6, 9), 'mt': [72.35, 72.4, 72.4], 'mg': [11.34, 11.34, 11.27]}, {'date': datetime.date(2021, 6, 8), 'mt': [72.15, 72.3, 72.1], 'mg': [11.05, 11.11, 11.02]}, {'date': datetime.date(2021, 6, 7), 'mt': [71.75, 71.75, 71.8], 'mg': [11.06, 11.06, 11.13]}, {'date': datetime.date(2021, 6, 6), 'mt': [72.25, 72.35, 72.2], 'mg': [11.35, 11.53, 11.42]}, {'date': datetime.date(2021, 6, 5), 'mt': [73.0, 72.85, 72.95], 'mg': [10.6, 10.62, 10.68]}, {'date': datetime.date(2021, 6, 4), 'mt': [72.65, 72.7, 72.65], 'mg': [11.34, 11.32, 11.27]}, {'date': datetime.date(2021, 6, 3), 'mt': [72.7, 72.7, 72.7, 72.75], 'mg': [11.29, 11.22, 11.37, 11.32]}, {'date': datetime.date(2021, 6, 2), 'mt': [73.0, 72.75, 72.95], 'mg': [11.32, 11.17, 11.29]}, {'date': datetime.date(2021, 6, 1), 'mt': [72.5, 72.5, 72.6], 'mg': [11.05, 11.1, 11.21]}, {'date': datetime.date(2021, 5, 31), 'mt': [72.5, 72.5, 72.6], 'mg': [11.28, 11.33, 11.36]}, {'date': datetime.date(2021, 5, 29), 'mt': [72.45, 72.35, 72.45], 'mg': [11.3, 11.24, 11.44]}, {'date': datetime.date(2021, 5, 28), 'mt': [72.45, 72.4, 72.45], 'mg': [11.05, 11.19, 11.2]}, {'date': datetime.date(2021, 5, 27), 'mt': [71.95, 72.05, 71.85], 'mg': [11.22, 11.28, 11.26]}, {'date': datetime.date(2021, 5, 26), 'mt': [72.95, 72.85, 72.9, 72.9, 72.9], 'mg': [11.23, 11.1, 11.16, 11.28, 11.28]}, {'date': datetime.date(2021, 5, 25), 'mt': [72.55, 72.6, 72.55], 'mg': [10.93, 11.01, 11.1]}, {'date': datetime.date(2021, 5, 24), 'mt': [73.3, 73.35, 73.4], 'mg': [11.77, 11.83, 11.83]}, {'date': datetime.date(2021, 5, 23), 'mt': [73.1, 73.25, 73.2], 'mg': [10.96, 11.04, 11.02]}, {'date': datetime.date(2021, 5, 22), 'mt': [72.6, 72.7, 72.6], 'mg': [10.31, 10.29, 10.38]}, {'date': datetime.date(2021, 5, 21), 'mt': [72.8, 72.75, 72.8], 'mg': [11.37, 11.45, 11.42]}, {'date': datetime.date(2021, 5, 20), 'mt': [73.25, 73.25, 73.25], 'mg': [11.79, 11.85, 11.92]}, {'date': datetime.date(2021, 5, 19), 'mt': [73.65, 73.7, 73.65], 'mg': [11.74, 11.77, 11.69]}, {'date': datetime.date(2021, 5, 18), 'mt': [72.95, 72.95, 72.65], 'mg': [11.51, 11.49, 11.44]}, {'date': datetime.date(2021, 5, 17), 'mt': [73.1, 72.8, 73.0], 'mg': [11.86, 11.8, 11.8]}, {'date': datetime.date(2021, 5, 16), 'mt': [72.6, 72.65, 72.55], 'mg': [12.03, 12.11, 12.1]}, {'date': datetime.date(2021, 5, 15), 'mt': [72.6, 72.65, 72.7], 'mg': [11.61, 11.66, 11.64]}, {'date': datetime.date(2021, 5, 14), 'mt': [73.6, 73.6, 73.75], 'mg': [11.98, 11.92, 12.09]}, {'date': datetime.date(2021, 5, 13), 'mt': [73.15, 73.2, 73.2], 'mg': [12.12, 12.07, 11.99]}, {'date': datetime.date(2021, 5, 12), 'mt': [73.35, 73.35, 73.35], 'mg': [11.93, 11.93, 12.01]}, {'date': datetime.date(2021, 5, 11), 'mt': [73.2, 73.15, 73.2], 'mg': [11.79, 11.76, 11.81]}, {'date': datetime.date(2021, 5, 10), 'mt': [73.85, 73.85, 73.85], 'mg': [12.45, 12.42, 12.39]}, {'date': datetime.date(2021, 5, 9), 'mt': [73.15, 73.15, 73.2], 'mg': [11.91, 11.86, 11.89]}, {'date': datetime.date(2021, 5, 8), 'mt': [73.5, 73.6, 73.6], 'mg': [12.31, 12.34, 12.37]}, {'date': datetime.date(2021, 5, 7), 'mt': [73.45, 73.5, 73.55], 'mg': [12.22, 12.26, 12.31]}, {'date': datetime.date(2021, 5, 6), 'mt': [73.75, 73.75, 73.8], 'mg': [12.2, 12.14, 12.18]}, {'date': datetime.date(2021, 5, 5), 'mt': [74.35, 74.5, 74.45], 'mg': [12.29, 12.38, 12.46]}, {'date': datetime.date(2021, 5, 4), 'mt': [74.95, 75.0, 74.9], 'mg': [12.71, 12.74, 12.77]}, {'date': datetime.date(2021, 5, 3), 'mt': [74.4, 74.4, 74.55], 'mg': [12.82, 12.79, 12.86]}, {'date': datetime.date(2021, 5, 2), 'mt': [74.6, 74.7, 74.65], 'mg': [12.75, 12.89, 12.89]}, {'date': datetime.date(2021, 5, 1), 'mt': [74.35, 74.35, 74.45], 'mg': [12.32, 12.35, 12.35]}, {'date': datetime.date(2021, 4, 30), 'mt': [73.95, 73.95, 74.05], 'mg': [12.1, 12.02, 12.06]}, {'date': datetime.date(2021, 4, 29), 'mt': [74.4, 74.35, 74.4], 'mg': [12.46, 12.56, 12.46]}, {'date': datetime.date(2021, 4, 28), 'mt': [74.55, 74.55, 74.6], 'mg': [12.61, 12.61, 12.69]}, {'date': datetime.date(2021, 4, 27), 'mt': [74.2, 74.25, 74.2], 'mg': [12.25, 12.5, 12.44]}, {'date': datetime.date(2021, 4, 26), 'mt': [73.8, 73.75, 73.8], 'mg': [12.36, 12.46, 12.39]}, {'date': datetime.date(2021, 4, 25), 'mt': [74.1, 74.05, 74.1], 'mg': [12.3, 12.19, 12.11]}, {'date': datetime.date(2021, 4, 24), 'mt': [74.5, 74.4, 74.45], 'mg': [12.49, 12.54, 12.52]}, {'date': datetime.date(2021, 4, 23), 'mt': [74.65, 74.65, 74.7], 'mg': [12.3, 12.39, 12.39]}, {'date': datetime.date(2021, 4, 22), 'mt': [75.1, 75.15, 75.15], 'mg': [12.77, 12.86, 12.86]}, {'date': datetime.date(2021, 4, 21), 'mt': [75.15, 75.1, 75.0], 'mg': [12.83, 12.75, 12.74]}, {'date': datetime.date(2021, 4, 20), 'mt': [75.2, 75.2, 75.2], 'mg': [12.89, 12.89, 13.01]}, {'date': datetime.date(2021, 4, 19), 'mt': [74.15, 74.3, 74.25], 'mg': [12.76, 12.86, 12.96]}, {'date': datetime.date(2021, 4, 18), 'mt': [74.35, 74.45, 74.5], 'mg': [12.86, 12.9, 13.04]}, {'date': datetime.date(2021, 4, 17), 'mt': [75.15, 75.05, 75.0], 'mg': [13.26, 13.22, 13.22]}, {'date': datetime.date(2021, 4, 16), 'mt': [75.0, 75.05, 75.05], 'mg': [13.25, 13.28, 13.22]}, {'date': datetime.date(2021, 4, 15), 'mt': [75.6, 75.75, 75.7], 'mg': [13.23, 13.38, 13.38]}, {'date': datetime.date(2021, 4, 14), 'mt': [75.6, 75.6, 75.7], 'mg': [13.02, 13.02, 13.05]}, {'date': datetime.date(2021, 4, 13), 'mt': [76.0, 75.75, 75.85], 'mg': [13.3, 13.2, 13.12]}, {'date': datetime.date(2021, 4, 12), 'mt': [75.65, 75.7, 75.7, 75.75, 75.85], 'mg': [13.26, 13.35, 13.44, 13.47, 13.5]}, {'date': datetime.date(2021, 4, 11), 'mt': [75.0, 75.1, 75.1, 75.1, 75.05], 'mg': [13.59, 13.6, 13.65, 13.71, 13.54]}, {'date': datetime.date(2021, 4, 10), 'mt': [75.4, 75.4, 75.4], 'mg': [13.56, 13.62, 13.65]}, {'date': datetime.date(2021, 4, 9), 'mt': [75.8, 75.8, 75.8], 'mg': [13.23, 13.35, 13.29]}, {'date': datetime.date(2021, 4, 8), 'mt': [75.6, 75.65, 75.65], 'mg': [13.34, 13.37, 13.43]}, {'date': datetime.date(2021, 4, 7), 'mt': [75.8, 75.85, 75.7], 'mg': [13.5, 13.59, 13.49]}, {'date': datetime.date(2021, 4, 6), 'mt': [75.8, 75.8, 75.85], 'mg': [13.44, 13.44, 13.47]}, {'date': datetime.date(2021, 4, 5), 'mt': [76.25, 76.15, 76.2], 'mg': [14.12, 14.02, 14.02]}, {'date': datetime.date(2021, 4, 4), 'mt': [76.05, 76.0, 76.05], 'mg': [13.36, 13.51, 13.6]}, {'date': datetime.date(2021, 4, 3), 'mt': [76.25, 76.2, 76.2], 'mg': [13.12, 13.06, 13.18]}, {'date': datetime.date(2021, 4, 2), 'mt': [76.25, 76.25, 76.25, 76.25], 'mg': [12.88, 12.85, 12.88, 12.97]}, {'date': datetime.date(2021, 4, 1), 'mt': [75.95, 75.9, 75.95], 'mg': [13.8, 13.83, 13.89]}, {'date': datetime.date(2021, 3, 31), 'mt': [75.6, 75.6, 75.6, 75.7], 'mg': [13.63, 13.63, 13.75, 13.78]}, {'date': datetime.date(2021, 3, 30), 'mt': [75.8, 75.85, 75.8], 'mg': [13.91, 13.91, 13.94]}, {'date': datetime.date(2021, 3, 29), 'mt': [76.1, 76.25, 76.2], 'mg': [13.93, 13.99, 13.9]}, {'date': datetime.date(2021, 3, 28), 'mt': [76.2, 76.25, 76.25], 'mg': [13.75, 13.84, 13.84]}, {'date': datetime.date(2021, 3, 27), 'mt': [75.9, 75.8, 75.75], 'mg': [13.17, 13.26, 13.17]}, {'date': datetime.date(2021, 3, 26), 'mt': [76.6, 76.55, 76.55], 'mg': [13.92, 13.76, 13.85]}, {'date': datetime.date(2021, 3, 25), 'mt': [76.65, 76.7, 76.75], 'mg': [13.95, 13.92, 13.98]}, {'date': datetime.date(2021, 3, 24), 'mt': [76.85, 76.9, 76.8, 76.85, 76.95], 'mg': [13.64, 13.77, 13.64, 13.8, 13.83]}, {'date': datetime.date(2021, 3, 23), 'mt': [77.05, 77.05, 77.05], 'mg': [13.7, 13.74, 13.74]}, {'date': datetime.date(2021, 3, 22), 'mt': [76.9, 76.95, 76.95], 'mg': [14.01, 13.98, 14.14]}, {'date': datetime.date(2021, 3, 21), 'mt': [76.95, 76.8, 76.85], 'mg': [14.26, 14.29, 14.23]}, {'date': datetime.date(2021, 3, 20), 'mt': [76.65, 76.75, 76.55], 'mg': [13.92, 14.04, 13.85]}, {'date': datetime.date(2021, 3, 19), 'mt': [76.8, 76.8, 76.9], 'mg': [14.23, 14.17, 14.29]}, {'date': datetime.date(2021, 3, 18), 'mt': [76.85, 76.85, 76.9], 'mg': [13.86, 14.01, 13.89]}, {'date': datetime.date(2021, 3, 17), 'mt': [77.15, 77.2, 77.15], 'mg': [14.46, 14.4, 14.46]}, {'date': datetime.date(2021, 3, 16), 'mt': [77.45, 77.55, 77.65], 'mg': [14.5, 14.56, 14.63]}, {'date': datetime.date(2021, 3, 15), 'mt': [77.8, 77.7, 77.75], 'mg': [14.63, 14.63, 14.66]}, {'date': datetime.date(2021, 3, 14), 'mt': [76.75, 76.85, 76.8], 'mg': [13.08, 13.27, 13.17]}, {'date': datetime.date(2021, 3, 13), 'mt': [77.6, 77.55, 77.45], 'mg': [14.43, 14.37, 14.33]}, {'date': datetime.date(2021, 3, 12), 'mt': [77.4, 77.4, 77.3, 77.5, 77.4], 'mg': [14.56, 14.46, 14.55, 14.72, 14.4]}, {'date': datetime.date(2021, 3, 11), 'mt': [77.35, 77.45, 77.45], 'mg': [14.62, 14.65, 14.56]}, {'date': datetime.date(2021, 3, 10), 'mt': [77.95, 77.85, 78.0], 'mg': [14.82, 14.79, 15.02]}, {'date': datetime.date(2021, 3, 9), 'mt': [78.05, 78.0, 78.05], 'mg': [14.89, 14.89, 14.89]}, {'date': datetime.date(2021, 3, 8), 'mt': [77.5, 77.5, 77.5], 'mg': [15.07, 15.07, 14.97]}, {'date': datetime.date(2021, 3, 7), 'mt': [77.65, 77.7, 77.75], 'mg': [14.4, 14.4, 14.5]}, {'date': datetime.date(2021, 3, 6), 'mt': [77.55, 77.6, 77.65], 'mg': [14.85, 14.94, 15.01]}, {'date': datetime.date(2021, 3, 5), 'mt': [77.65, 77.7, 77.75], 'mg': [14.75, 14.82, 14.66]}, {'date': datetime.date(2021, 3, 4), 'mt': [77.6, 77.55, 77.6], 'mg': [14.85, 14.75, 14.82]}, {'date': datetime.date(2021, 3, 3), 'mt': [77.8, 77.85, 77.9], 'mg': [15.11, 15.11, 15.24]}, {'date': datetime.date(2021, 3, 2), 'mt': [78.2, 78.25, 78.2], 'mg': [15.12, 15.02, 15.02]}, {'date': datetime.date(2021, 3, 1), 'mt': [77.65, 77.85, 77.9], 'mg': [15.14, 15.37, 15.21]}, {'date': datetime.date(2021, 2, 28), 'mt': [78.05, 78.1, 78.05], 'mg': [14.52, 14.62, 14.46]}, {'date': datetime.date(2021, 2, 27), 'mt': [78.1, 78.1, 78.05], 'mg': [14.72, 14.79, 14.69]}, {'date': datetime.date(2021, 2, 26), 'mt': [78.45, 78.5, 78.5], 'mg': [14.88, 14.92, 14.75]}, {'date': datetime.date(2021, 2, 25), 'mt': [77.85, 77.85, 77.8], 'mg': [14.75, 14.75, 14.62]}, {'date': datetime.date(2021, 2, 24), 'mt': [78.3, 78.35, 78.35], 'mg': [14.98, 14.92, 14.85]}, {'date': datetime.date(2021, 2, 23), 'mt': [79.05, 79.05, 79.0], 'mg': [15.0, 15.21, 15.07]}, {'date': datetime.date(2021, 2, 22), 'mt': [78.25, 78.2, 78.2], 'mg': [14.92, 14.98, 14.98]}, {'date': datetime.date(2021, 2, 21), 'mt': [79.05, 79.1, 79.2], 'mg': [14.97, 15.07, 15.1]}, {'date': datetime.date(2021, 2, 20), 'mt': [78.6, 78.6, 78.65], 'mg': [15.25, 15.22, 15.32]}, {'date': datetime.date(2021, 2, 19), 'mt': [78.65, 78.75, 78.75], 'mg': [15.21, 15.28, 15.35]}, {'date': datetime.date(2021, 2, 18), 'mt': [78.7, 78.75, 78.75], 'mg': [15.48, 15.59, 15.52]}, {'date': datetime.date(2021, 2, 17), 'mt': [79.6, 79.6, 79.6], 'mg': [15.82, 15.89, 15.78]}, {'date': datetime.date(2021, 2, 16), 'mt': [79.6, 79.55, 79.6], 'mg': [15.89, 15.92, 15.92]}, {'date': datetime.date(2021, 2, 15), 'mt': [79.15, 79.1, 79.0], 'mg': [16.38, 16.38, 16.24]}, {'date': datetime.date(2021, 2, 14), 'mt': [79.35, 79.35, 79.45], 'mg': [15.96, 16.0, 15.96]}, {'date': datetime.date(2021, 2, 13), 'mt': [79.6, 79.55, 79.6], 'mg': [15.64, 15.68, 15.71]}, {'date': datetime.date(2021, 2, 12), 'mt': [79.9, 79.95, 80.0], 'mg': [15.95, 15.98, 16.05]}, {'date': datetime.date(2021, 2, 11), 'mt': [79.55, 79.6, 79.55], 'mg': [15.92, 15.88, 15.96]}, {'date': datetime.date(2021, 2, 10), 'mt': [80.4, 80.35, 80.3], 'mg': [16.21, 16.1, 16.11]}, {'date': datetime.date(2021, 2, 9), 'mt': [80.1], 'mg': [15.86]}, {'date': datetime.date(2021, 2, 8), 'mt': [80.2, 80.25, 80.25], 'mg': [16.0, 16.07, 15.96]}, {'date': datetime.date(2021, 2, 7), 'mt': [80.15, 80.15, 80.2], 'mg': [16.19, 16.22, 16.04]}, {'date': datetime.date(2021, 2, 6), 'mt': [80.7, 80.8, 80.6], 'mg': [15.79, 16.04, 15.83]}, {'date': datetime.date(2021, 2, 5), 'mt': [80.45, 80.45, 80.55], 'mg': [15.62, 15.51, 15.72]}, {'date': datetime.date(2021, 2, 4), 'mt': [80.7, 80.85, 80.85], 'mg': [15.97, 16.22, 16.29]}, {'date': datetime.date(2021, 2, 3), 'mt': [80.35, 80.35, 80.35], 'mg': [16.36, 16.32, 16.18]}, {'date': datetime.date(2021, 2, 2), 'mt': [80.65, 80.65, 80.75], 'mg': [16.42, 16.53, 16.56]}, {'date': datetime.date(2021, 2, 1), 'mt': [80.8, 80.8, 80.8], 'mg': [16.26, 16.26, 16.18]}, {'date': datetime.date(2021, 1, 30), 'mt': [81.15, 81.0, 81.15], 'mg': [16.68, 16.62, 16.57]}, {'date': datetime.date(2021, 1, 29), 'mt': [80.65, 80.7, 80.7], 'mg': [16.53, 16.67, 16.55]}, {'date': datetime.date(2021, 1, 28), 'mt': [81.05, 81.05, 81.1, 81.1, 81.15], 'mg': [16.65, 16.65, 16.76, 16.65, 16.87]}, {'date': datetime.date(2021, 1, 27), 'mt': [80.95, 81.1, 81.0], 'mg': [16.88, 17.06, 16.88]}, {'date': datetime.date(2021, 1, 26), 'mt': [81.2, 81.1, 81.25], 'mg': [16.64, 16.57, 16.71]}, {'date': datetime.date(2021, 1, 25), 'mt': [81.1, 81.05, 81.1], 'mg': [17.02, 17.06, 17.14]}, {'date': datetime.date(2021, 1, 24), 'mt': [81.2, 81.2, 81.3], 'mg': [17.24, 17.17, 17.39]}, {'date': datetime.date(2021, 1, 23), 'mt': [81.15, 81.2, 81.25], 'mg': [16.76, 16.72, 16.71]}, {'date': datetime.date(2021, 1, 22), 'mt': [81.25, 81.35, 81.3, 81.2, 81.2], 'mg': [16.79, 16.74, 16.71, 16.71, 16.6]}, {'date': datetime.date(2021, 1, 21), 'mt': [81.55, 81.6, 81.6], 'mg': [16.99, 16.91, 16.91]}, {'date': datetime.date(2021, 1, 20), 'mt': [81.95, 81.9, 82.0], 'mg': [16.8, 16.77, 16.88]}, {'date': datetime.date(2021, 1, 19), 'mt': [81.95, 82.15, 82.1], 'mg': [16.8, 17.02, 17.02]}, {'date': datetime.date(2021, 1, 18), 'mt': [82.2, 82.15, 82.15], 'mg': [17.48, 17.25, 17.41]}, {'date': datetime.date(2021, 1, 17), 'mt': [82.1, 82.15, 82.2], 'mg': [17.34, 17.37, 17.37]}, {'date': datetime.date(2021, 1, 16), 'mt': [82.25, 82.35, 82.3], 'mg': [17.36, 17.59, 17.47]}, {'date': datetime.date(2021, 1, 15), 'mt': [82.15, 82.05, 82.1], 'mg': [17.72, 17.65, 17.73]}, {'date': datetime.date(2021, 1, 14), 'mt': [82.05, 81.95, 82.1], 'mg': [18.2, 18.21, 18.24]}, {'date': datetime.date(2021, 1, 13), 'mt': [81.9, 82.0, 81.95], 'mg': [18.36, 18.4, 18.4]}, {'date': datetime.date(2021, 1, 12), 'mt': [82.8, 82.85, 82.7], 'mg': [18.71, 18.51, 18.48]}, {'date': datetime.date(2021, 1, 11), 'mt': [82.8, 82.75, 82.9], 'mg': [18.47, 18.47, 18.54]}, {'date': datetime.date(2021, 1, 10), 'mt': [82.75, 82.75, 82.7], 'mg': [17.3, 17.26, 17.19]}, {'date': datetime.date(2021, 1, 9), 'mt': [83.1, 83.1, 83.1], 'mg': [18.53, 18.57, 18.49]}, {'date': datetime.date(2021, 1, 8), 'mt': [82.95, 82.85, 82.65], 'mg': [18.38, 18.43, 18.2]}, {'date': datetime.date(2021, 1, 7), 'mt': [83.35, 83.4, 83.25], 'mg': [18.3, 18.41, 18.22]}, {'date': datetime.date(2021, 1, 6), 'mt': [83.7, 83.7, 83.75], 'mg': [18.71, 18.71, 18.75]}, {'date': datetime.date(2021, 1, 5), 'mt': [83.35, 83.3, 83.3], 'mg': [18.42, 18.42, 18.47]}, {'date': datetime.date(2021, 1, 4), 'mt': [84.6, 84.55, 84.55], 'mg': [18.24, 18.34, 18.34]}, {'date': datetime.date(2021, 1, 3), 'mt': [84.7, 84.7, 84.7], 'mg': [17.22, 17.22, 17.44]}, {'date': datetime.date(2021, 1, 2), 'mt': [84.35, 84.35, 84.4], 'mg': [18.54, 18.58, 18.66]}, {'date': datetime.date(2021, 1, 1), 'mt': [84.4, 84.35, 84.4], 'mg': [19.14, 18.97, 19.05]}, {'date': datetime.date(2020, 12, 31), 'mt': [84.5, 84.6, 84.6], 'mg': [19.04, 19.2, 18.93]}, {'date': datetime.date(2020, 12, 30), 'mt': [84.7, 84.65, 84.6], 'mg': [19.18, 19.19, 19.06]}, {'date': datetime.date(2020, 12, 29), 'mt': [84.65, 84.65, 84.65], 'mg': [19.58, 19.49, 19.54]}, {'date': datetime.date(2020, 12, 28), 'mt': [84.85, 84.85, 85.0], 'mg': [19.38, 19.38, 19.58]}, {'date': datetime.date(2020, 12, 27), 'mt': [84.6, 84.65, 84.7], 'mg': [19.8, 19.8, 19.7]}, {'date': datetime.date(2020, 12, 26), 'mt': [84.95, 85.0, 84.95], 'mg': [19.76, 19.84, 19.63]}, {'date': datetime.date(2020, 12, 25), 'mt': [84.65, 84.7, 84.7], 'mg': [18.4, 18.48, 18.39]}, {'date': datetime.date(2020, 12, 24), 'mt': [84.95, 84.8, 84.9], 'mg': [19.76, 19.73, 19.68]}, {'date': datetime.date(2020, 12, 23), 'mt': [85.5, 85.5, 85.4], 'mg': [19.9, 19.67, 19.51]}, {'date': datetime.date(2020, 12, 22), 'mt': [85.4, 85.45, 85.4], 'mg': [19.69, 19.59, 19.82]}, {'date': datetime.date(2020, 12, 21), 'mt': [85.35, 85.2, 85.4], 'mg': [20.23, 20.17, 20.14]}, {'date': datetime.date(2020, 12, 20), 'mt': [85.65, 85.7, 85.7], 'mg': [20.01, 20.14, 20.05]}, {'date': datetime.date(2020, 12, 19), 'mt': [85.85, 85.85, 85.75], 'mg': [20.11, 20.07, 19.95]}, {'date': datetime.date(2020, 12, 18), 'mt': [85.6, 85.75, 85.6], 'mg': [19.88, 19.99, 19.93]}, {'date': datetime.date(2020, 12, 17), 'mt': [85.65, 85.7, 85.65], 'mg': [19.38, 19.55, 19.51]}, {'date': datetime.date(2020, 12, 16), 'mt': [86.25, 86.25, 86.3], 'mg': [20.23, 20.23, 20.12]}, {'date': datetime.date(2020, 12, 15), 'mt': [86.2, 86.15, 86.15], 'mg': [20.28, 20.2, 20.1]}, {'date': datetime.date(2020, 12, 14), 'mt': [86.1, 86.05, 86.1], 'mg': [20.53, 20.49, 20.48]}, {'date': datetime.date(2020, 12, 13), 'mt': [86.1, 86.1, 86.05], 'mg': [20.8, 20.94, 20.72]}, {'date': datetime.date(2020, 12, 12), 'mt': [86.05, 86.05, 86.15], 'mg': [20.72, 20.72, 20.61]}, {'date': datetime.date(2020, 12, 11), 'mt': [86.6, 86.55, 86.65], 'mg': [20.44, 20.31, 20.29]}, {'date': datetime.date(2020, 12, 10), 'mt': [86.4, 86.25, 86.3], 'mg': [20.52, 20.64, 20.49]}, {'date': datetime.date(2020, 12, 9), 'mt': [86.5, 86.4, 86.45], 'mg': [20.32, 20.24, 20.28]}, {'date': datetime.date(2020, 12, 8), 'mt': [86.45, 86.35, 86.45], 'mg': [20.7, 20.81, 20.65]}, {'date': datetime.date(2020, 12, 7), 'mt': [86.1, 86.15, 86.1], 'mg': [21.12, 21.16, 21.26]}, {'date': datetime.date(2020, 12, 6), 'mt': [86.45, 86.35, 86.45], 'mg': [21.58, 21.46, 21.44]}, {'date': datetime.date(2020, 12, 5), 'mt': [87.0, 87.0, 87.0], 'mg': [21.31, 21.31, 21.12]}, {'date': datetime.date(2020, 12, 4), 'mt': [87.3, 87.25, 87.2], 'mg': [21.25, 21.26, 21.32]}, {'date': datetime.date(2020, 12, 3), 'mt': [87.2, 87.35, 87.35], 'mg': [21.08, 21.33, 21.19]}, {'date': datetime.date(2020, 12, 2), 'mt': [87.65, 87.6, 87.65], 'mg': [21.71, 21.62, 21.56]}, {'date': datetime.date(2020, 12, 1), 'mt': [87.8, 87.9, 87.85], 'mg': [20.85, 20.97, 21.08]}, {'date': datetime.date(2020, 11, 30), 'mt': [87.8, 87.85, 87.85], 'mg': [21.29, 21.52, 21.23]}, {'date': datetime.date(2020, 11, 29), 'mt': [88.25, 88.2, 88.3], 'mg': [21.03, 21.14, 20.77]}, {'date': datetime.date(2020, 11, 28), 'mt': [88.2, 88.2, 88.3], 'mg': [20.15, 19.9, 20.22]}, {'date': datetime.date(2020, 11, 27), 'mt': [88.85, 88.8, 88.85], 'mg': [20.1, 20.22, 19.89]}, {'date': datetime.date(2020, 11, 26), 'mt': [88.3, 88.3, 88.35], 'mg': [21.17, 21.02, 21.05]}, {'date': datetime.date(2020, 11, 25), 'mt': [88.6, 88.55, 88.55], 'mg': [21.19, 21.15, 21.0]}, {'date': datetime.date(2020, 11, 24), 'mt': [88.1, 88.15, 88.15], 'mg': [21.31, 21.6, 21.75]}, {'date': datetime.date(2020, 11, 23), 'mt': [88.15, 88.25, 88.2], 'mg': [22.3, 22.37, 22.33]}, {'date': datetime.date(2020, 11, 22), 'mt': [88.55, 88.55, 88.45], 'mg': [22.41, 22.11, 22.03]}, {'date': datetime.date(2020, 11, 21), 'mt': [88.3, 88.25, 88.35], 'mg': [22.41, 22.32, 22.25]}, {'date': datetime.date(2020, 11, 20), 'mt': [89.4, 89.3, 89.4], 'mg': [21.16, 21.03, 21.26]}, {'date': datetime.date(2020, 11, 19), 'mt': [89.05, 89.1, 89.05], 'mg': [20.95, 21.35, 21.11]}, {'date': datetime.date(2020, 11, 18), 'mt': [89.55, 89.45, 89.5], 'mg': [22.0, 21.92, 22.06]}, {'date': datetime.date(2020, 11, 17), 'mt': [89.7, 89.7, 89.6], 'mg': [22.11, 22.16, 22.03]}, {'date': datetime.date(2020, 11, 16), 'mt': [89.65, 89.75, 89.8], 'mg': [21.65, 21.83, 21.61]}, {'date': datetime.date(2020, 11, 15), 'mt': [89.55, 89.4, 89.5], 'mg': [23.04, 22.77, 22.95]}, {'date': datetime.date(2020, 11, 14), 'mt': [89.4, 89.4, 89.35], 'mg': [22.82, 22.82, 22.57]}, {'date': datetime.date(2020, 11, 13), 'mt': [89.6, 89.5, 89.6], 'mg': [22.61, 22.43, 22.24]}, {'date': datetime.date(2020, 11, 12), 'mt': [89.4, 89.4, 89.4], 'mg': [22.77, 22.66, 22.66]}, {'date': datetime.date(2020, 11, 11), 'mt': [89.9, 90.05, 90.0], 'mg': [22.26, 22.43, 22.71]}, {'date': datetime.date(2020, 11, 10), 'mt': [90.7, 90.85, 90.75], 'mg': [21.35, 21.56, 21.71]}, {'date': datetime.date(2020, 11, 9), 'mt': [90.45, 90.45, 90.5], 'mg': [22.25, 22.14, 22.45]}, {'date': datetime.date(2020, 11, 8), 'mt': [90.4, 90.55, 90.5], 'mg': [20.92, 21.29, 21.26]}, {'date': datetime.date(2020, 11, 7), 'mt': [90.05, 90.1, 90.1], 'mg': [23.54, 23.48, 22.73]}, {'date': datetime.date(2020, 11, 6), 'mt': [90.65, 90.7, 90.65], 'mg': [22.34, 22.6, 22.4]}, {'date': datetime.date(2020, 11, 5), 'mt': [90.9, 90.85, 90.9], 'mg': [22.8, 22.82, 22.36]}, {'date': datetime.date(2020, 11, 4), 'mt': [90.95, 90.9, 91.0], 'mg': [22.57, 22.64, 22.49]}, {'date': datetime.date(2020, 11, 3), 'mt': [90.9, 90.9, 90.85], 'mg': [23.19, 23.46, 23.8]}, {'date': datetime.date(2020, 11, 2), 'mt': [91.0, 90.95, 90.95], 'mg': [23.98, 23.39, 23.72]}, {'date': datetime.date(2020, 11, 1), 'mt': [91.1, 91.0, 90.95], 'mg': [23.95, 23.7, 23.94]}, {'date': datetime.date(2020, 10, 31), 'mt': [91.35, 91.45, 91.4], 'mg': [24.31, 24.34, 24.58]}, {'date': datetime.date(2020, 10, 30), 'mt': [91.65, 91.55, 91.6], 'mg': [24.22, 23.86, 24.57]}, {'date': datetime.date(2020, 10, 29), 'mt': [91.25, 91.5], 'mg': [23.07, 23.32]}, {'date': datetime.date(2020, 10, 28), 'mt': [91.7, 91.7, 91.7], 'mg': [24.03, 24.15, 24.09]}, {'date': datetime.date(2020, 10, 27), 'mt': [92.25, 92.2, 92.2], 'mg': [24.76, 24.66, 24.66]}, {'date': datetime.date(2020, 10, 26), 'mt': [91.85, 91.75, 91.75], 'mg': [24.32, 24.92, 25.37]}, {'date': datetime.date(2020, 10, 25), 'mt': [92.55, 92.5, 92.6], 'mg': [24.88, 25.36, 25.56]}, {'date': datetime.date(2020, 10, 24), 'mt': [92.35, 92.25, 92.2], 'mg': [24.61, 25.27, 24.89]}, {'date': datetime.date(2020, 10, 23), 'mt': [92.55, 92.55, 92.65], 'mg': [24.83, 24.71, 25.37]}, {'date': datetime.date(2020, 10, 22), 'mt': [93.0, 92.9, 93.0], 'mg': [24.66, 24.58, 24.72]}, {'date': datetime.date(2020, 10, 21), 'mt': [92.9, 93.05, 92.8], 'mg': [25.46, 25.05, 24.91]}, {'date': datetime.date(2020, 10, 20), 'mt': [93.3, 93.35, 93.35], 'mg': [24.96, 25.53, 25.29]}, {'date': datetime.date(2020, 10, 19), 'mt': [93.55, 93.4, 93.4], 'mg': [26.11, 25.22, 25.87]}, {'date': datetime.date(2020, 10, 18), 'mt': [94.0, 94.05, 93.9], 'mg': [25.4, 25.56, 25.74]}, {'date': datetime.date(2020, 10, 17), 'mt': [94.3, 94.25, 94.25], 'mg': [24.17, 24.43, 24.07]}, {'date': datetime.date(2020, 10, 16), 'mt': [94.75, 94.65, 94.8], 'mg': [25.13, 24.18, 24.92]}, {'date': datetime.date(2020, 10, 15), 'mt': [94.35, 94.25, 94.35], 'mg': [25.49, 25.29, 26.42]}, {'date': datetime.date(2020, 10, 14), 'mt': [94.65, 94.6, 94.65], 'mg': [25.36, 24.95, 25.67]}, {'date': datetime.date(2020, 10, 13), 'mt': [95.25, 95.15, 95.25], 'mg': [25.78, 25.89, 26.22]}, {'date': datetime.date(2020, 10, 12), 'mt': [94.8, 94.8, 94.85], 'mg': [25.48, 25.17, 25.64]}, {'date': datetime.date(2020, 10, 11), 'mt': [94.95, 94.95, 95.05, 95.0], 'mg': [25.54, 25.85, 26.12, 26.39]}, {'date': datetime.date(2020, 10, 10), 'mt': [95.0, 95.2, 95.15], 'mg': [25.95, 26.05, 26.58]}, {'date': datetime.date(2020, 10, 9), 'mt': [95.1, 95.05, 95.1], 'mg': [25.34, 25.36, 25.47]}, {'date': datetime.date(2020, 10, 8), 'mt': [95.1, 95.2, 95.15], 'mg': [25.91, 25.86, 25.51]}, {'date': datetime.date(2020, 10, 7), 'mt': [95.4, 95.4, 95.45], 'mg': [25.64, 24.88, 26.12]}, {'date': datetime.date(2020, 10, 6), 'mt': [95.5, 95.5, 95.5], 'mg': [26.74, 26.67, 26.48]}, {'date': datetime.date(2020, 10, 5), 'mt': [95.35, 95.3, 95.4], 'mg': [26.99, 26.57, 26.85]}, {'date': datetime.date(2020, 10, 4), 'mt': [95.55, 95.75, 95.65], 'mg': [26.59, 27.27, 27.18]}, {'date': datetime.date(2020, 10, 3), 'mt': [95.75, 95.85, 95.8], 'mg': [26.75, 27.22, 27.31]}, {'date': datetime.date(2020, 10, 2), 'mt': [96.7, 96.65, 96.65], 'mg': [26.74, 26.7, 27.23]}, {'date': datetime.date(2020, 10, 1), 'mt': [96.75, 96.95, 96.85], 'mg': [26.38, 26.48, 26.06]}, {'date': datetime.date(2020, 9, 30), 'mt': [97.5, 97.4, 97.45], 'mg': [26.17, 26.23, 25.72]}, {'date': datetime.date(2020, 9, 29), 'mt': [97.7, 97.7, 97.65], 'mg': [26.32, 26.39, 27.1]}, {'date': datetime.date(2020, 9, 28), 'mt': [97.2, 97.2, 97.2], 'mg': [27.75, 27.61, 28.09]}, {'date': datetime.date(2020, 9, 27), 'mt': [97.05, 96.9, 97.05], 'mg': [28.63, 27.97, 28.36]}, {'date': datetime.date(2020, 9, 26), 'mt': [97.6, 97.55, 97.55], 'mg': [26.24, 26.55, 26.34]}, {'date': datetime.date(2020, 9, 25), 'mt': [97.95, 98.05, 98.1], 'mg': [26.59, 27.22, 28.43]}, {'date': datetime.date(2020, 9, 24), 'mt': [98.15, 98.0, 98.05], 'mg': [26.4, 26.21, 26.6]}, {'date': datetime.date(2020, 9, 23), 'mt': [98.2, 98.0, 98.15], 'mg': [27.68, 27.59, 28.2]}, {'date': datetime.date(2020, 9, 22), 'mt': [98.3, 98.15, 98.3], 'mg': [27.49, 27.57, 27.9]}, {'date': datetime.date(2020, 9, 21), 'mt': [98.35, 98.55, 98.2, 98.25], 'mg': [28.64, 27.62, 27.68, 26.13]}, {'date': datetime.date(2020, 9, 20), 'mt': [98.75, 98.75], 'mg': [26.86, 27.36]}, {'date': datetime.date(2020, 9, 19), 'mt': [98.9, 98.9], 'mg': [27.76, 27.97]}, {'date': datetime.date(2020, 9, 18), 'mt': [98.7, 98.8, 98.85], 'mg': [28.79, 28.53, 28.57]}, {'date': datetime.date(2020, 9, 17), 'mt': [99.25], 'mg': [27.97]}, {'date': datetime.date(2020, 9, 16), 'mt': [99.5, 99.5, 99.5], 'mg': [28.24, 27.96, 27.38]}, {'date': datetime.date(2020, 9, 15), 'mt': [99.35], 'mg': [28.77]}, {'date': datetime.date(2020, 9, 14), 'mt': [99.25], 'mg': [28.18]}, {'date': datetime.date(2020, 9, 13), 'mt': [98.95, 98.9], 'mg': [30.49, 29.81]}, {'date': datetime.date(2020, 9, 12), 'mt': [99.2, 99.2], 'mg': [28.5, 28.64]}, {'date': datetime.date(2020, 9, 11), 'mt': [99.3, 99.15], 'mg': [29.8, 29.46]}, {'date': datetime.date(2020, 9, 10), 'mt': [99.85, 99.85], 'mg': [30.49, 29.33]}, {'date': datetime.date(2020, 9, 9), 'mt': [99.9], 'mg': [30.83]}, {'date': datetime.date(2020, 9, 8), 'mt': [100.6], 'mg': [30.48]}, {'date': datetime.date(2020, 9, 7), 'mt': [100.5], 'mg': [29.51]}, {'date': datetime.date(2020, 9, 6), 'mt': [100.7], 'mg': [29.3]}, {'date': datetime.date(2020, 9, 5), 'mt': [100.6], 'mg': [31.45]}, {'date': datetime.date(2020, 9, 4), 'mt': [100.8], 'mg': [29.46]}, {'date': datetime.date(2020, 9, 3), 'mt': [101.2], 'mg': [30.93]}, {'date': datetime.date(2020, 9, 2), 'mt': [101.15, 101.15], 'mg': [32.02, 31.87]}, {'date': datetime.date(2020, 9, 1), 'mt': [101.25], 'mg': [33.02]}, {'date': datetime.date(2020, 8, 31), 'mt': [101.5], 'mg': [33.48]}, {'date': datetime.date(2020, 8, 30), 'mt': [101.7, 101.75, 101.75], 'mg': [30.75, 30.33, 32.48]}, {'date': datetime.date(2020, 8, 22), 'mt': [103.2], 'mg': [31.56]}, {'date': datetime.date(2020, 8, 21), 'mt': [103.3, 103.4], 'mg': [30.84, 31.09]}, {'date': datetime.date(2020, 8, 20), 'mt': [103.45], 'mg': [31.45]}, {'date': datetime.date(2020, 8, 19), 'mt': [103.25], 'mg': [32.65]}, {'date': datetime.date(2020, 8, 18), 'mt': [103.55], 'mg': [34.13]}, {'date': datetime.date(2020, 8, 17), 'mt': [103.9], 'mg': [33.88]}, {'date': datetime.date(2020, 8, 16), 'mt': [104.05], 'mg': [34.43]}, {'date': datetime.date(2020, 8, 15), 'mt': [104.25], 'mg': [34.28]}, {'date': datetime.date(2020, 8, 14), 'mt': [104.5], 'mg': [33.85]}, {'date': datetime.date(2020, 8, 13), 'mt': [104.4], 'mg': [34.34]}, {'date': datetime.date(2020, 8, 12), 'mt': [104.35], 'mg': [33.8]}, {'date': datetime.date(2020, 8, 11), 'mt': [104.65], 'mg': [33.15]}, {'date': datetime.date(2020, 8, 10), 'mt': [105.4, 105.15], 'mg': [0, 0]}, {'date': datetime.date(2020, 8, 9), 'mt': [107.25], 'mg': [37.19]}, {'date': datetime.date(2020, 8, 7), 'mt': [106.55], 'mg': [0]}, {'date': datetime.date(2020, 8, 6), 'mt': [106.45], 'mg': [0]}, {'date': datetime.date(2020, 8, 5), 'mt': [105.5], 'mg': [0]}, {'date': datetime.date(2020, 8, 3), 'mt': [107.15], 'mg': [0]}, {'date': datetime.date(2020, 8, 2), 'mt': [106.85], 'mg': [0]}, {'date': datetime.date(2020, 8, 1), 'mt': [107.15], 'mg': [0]}, {'date': datetime.date(2020, 7, 26), 'mt': [108.35], 'mg': [0]}, {'date': datetime.date(2020, 7, 25), 'mt': [107.6], 'mg': [0]}, {'date': datetime.date(2020, 7, 24), 'mt': [108.4], 'mg': [0]}, {'date': datetime.date(2020, 7, 21), 'mt': [109.05], 'mg': [0]}, {'date': datetime.date(2020, 7, 11), 'mt': [108.25], 'mg': [0]}, {'date': datetime.date(2020, 7, 10), 'mt': [108.3], 'mg': [0]}, {'date': datetime.date(2020, 7, 5), 'mt': [108.85], 'mg': [0]}, {'date': datetime.date(2020, 7, 4), 'mt': [108.45], 'mg': [0]}, {'date': datetime.date(2020, 7, 3), 'mt': [107.95], 'mg': [0]}, {'date': datetime.date(2020, 7, 2), 'mt': [107.15], 'mg': [0]}, {'date': datetime.date(2020, 7, 1), 'mt': [106.35], 'mg': [0]}, {'date': datetime.date(2020, 6, 29), 'mt': [107.5], 'mg': [0]}, {'date': datetime.date(2020, 6, 27), 'mt': [108.3], 'mg': [0]}, {'date': datetime.date(2020, 6, 24), 'mt': [107.8], 'mg': [0]}, {'date': datetime.date(2020, 6, 23), 'mt': [107.5], 'mg': [0]}, {'date': datetime.date(2020, 6, 22), 'mt': [108.0], 'mg': [0]}, {'date': datetime.date(2020, 6, 19), 'mt': [108.2], 'mg': [0]}, {'date': datetime.date(2020, 6, 18), 'mt': [107.9], 'mg': [0]}, {'date': datetime.date(2020, 6, 15), 'mt': [108.35], 'mg': [0]}, {'date': datetime.date(2020, 6, 14), 'mt': [108.15], 'mg': [0]}, {'date': datetime.date(2020, 6, 11), 'mt': [107.7], 'mg': [0]}, {'date': datetime.date(2020, 6, 7), 'mt': [108.0], 'mg': [0]}, {'date': datetime.date(2020, 6, 6), 'mt': [107.25], 'mg': [0]}, {'date': datetime.date(2020, 6, 5), 'mt': [107.65], 'mg': [0]}, {'date': datetime.date(2020, 6, 4), 'mt': [109.3, 107.7], 'mg': [0, 0]}, {'date': datetime.date(2020, 6, 2), 'mt': [107.65], 'mg': [0]}, {'date': datetime.date(2020, 5, 31), 'mt': [107.6], 'mg': [0]}, {'date': datetime.date(2020, 5, 30), 'mt': [107.5], 'mg': [0]}, {'date': datetime.date(2020, 5, 29), 'mt': [108.5], 'mg': [0]}, {'date': datetime.date(2020, 5, 28), 'mt': [108.25], 'mg': [0]}, {'date': datetime.date(2020, 5, 27), 'mt': [109.05], 'mg': [0]}, {'date': datetime.date(2020, 5, 26), 'mt': [108.75], 'mg': [0]}, {'date': datetime.date(2020, 5, 21), 'mt': [108.25], 'mg': [0]}, {'date': datetime.date(2020, 5, 19), 'mt': [108.5], 'mg': [0]}, {'date': datetime.date(2020, 5, 18), 'mt': [108.8], 'mg': [0]}, {'date': datetime.date(2020, 5, 17), 'mt': [108.3], 'mg': [0]}, {'date': datetime.date(2020, 5, 16), 'mt': [108.25], 'mg': [0]}, {'date': datetime.date(2020, 5, 15), 'mt': [109.65], 'mg': [0]}, {'date': datetime.date(2020, 5, 13), 'mt': [108.1], 'mg': [0]}, {'date': datetime.date(2020, 5, 12), 'mt': [108.85], 'mg': [0]}, {'date': datetime.date(2020, 5, 11), 'mt': [108.35], 'mg': [0]}, {'date': datetime.date(2020, 5, 10), 'mt': [109.6], 'mg': [0]}, {'date': datetime.date(2020, 5, 9), 'mt': [108.45], 'mg': [0]}, {'date': datetime.date(2020, 5, 8), 'mt': [109.9], 'mg': [0]}, {'date': datetime.date(2020, 5, 7), 'mt': [109.75], 'mg': [0]}, {'date': datetime.date(2020, 5, 5), 'mt': [108.9], 'mg': [0]}, {'date': datetime.date(2020, 4, 30), 'mt': [108.15], 'mg': [0]}, {'date': datetime.date(2020, 4, 26), 'mt': [110.0], 'mg': [0]}, {'date': datetime.date(2020, 4, 18), 'mt': [112.85, 111.1, 109.6], 'mg': [37.12, 0, 0]}, {'date': datetime.date(2020, 2, 15), 'mt': [108.3], 'mg': [35.74]}, {'date': datetime.date(2019, 12, 29), 'mt': [107.4], 'mg': [27.46]}, {'date': datetime.date(2019, 12, 10), 'mt': [104.3], 'mg': [33.82]}, {'date': datetime.date(2019, 12, 4), 'mt': [104.55], 'mg': [31.81]}, {'date': datetime.date(2019, 11, 27), 'mt': [103.7], 'mg': [0]}, {'date': datetime.date(2019, 11, 26), 'mt': [103.2], 'mg': [0]}, {'date': datetime.date(2019, 11, 25), 'mt': [107.0], 'mg': [37.29]}, {'date': datetime.date(2019, 11, 22), 'mt': [103.65], 'mg': [23.66]}, {'date': datetime.date(2019, 11, 21), 'mt': [103.4], 'mg': [0]}, {'date': datetime.date(2019, 11, 20), 'mt': [104.6], 'mg': [30.68]}, {'date': datetime.date(2019, 11, 19), 'mt': [105.3], 'mg': [29.64]}, {'date': datetime.date(2019, 11, 18), 'mt': [103.45], 'mg': [32.97]}, {'date': datetime.date(2019, 11, 17), 'mt': [103.4], 'mg': [33.16]}, {'date': datetime.date(2019, 11, 16), 'mt': [106.15, 105.55, 103.2, 105.4, 105.4], 'mg': [31.52, 0, 0, 0, 0]}, {'date': datetime.date(2014, 6, 15), 'mt': [24.8], 'mg': [0.74]}, {'date': datetime.date(2014, 5, 27), 'mt': [25.2], 'mg': [0]}, {'date': datetime.date(2014, 5, 8), 'mt': [56.8], 'mg': [4.18]}, {'date': datetime.date(2014, 4, 10), 'mt': [60.3], 'mg': [6.28]}, {'date': datetime.date(2014, 2, 22), 'mt': [57.6], 'mg': [0]}, {'date': datetime.date(2013, 12, 22), 'mt': [24.0], 'mg': [0]}, {'date': datetime.date(2013, 10, 13), 'mt': [24.7], 'mg': [0]}, {'date': datetime.date(2013, 10, 11), 'mt': [49.95, 23.2, 23.3, 23.25], 'mg': [0, 0.7, 0, 0]}, {'date': datetime.date(2013, 10, 7), 'mt': [24.15], 'mg': [0]}, {'date': datetime.date(2013, 9, 27), 'mt': [95.75], 'mg': [27.24]}, {'date': datetime.date(2013, 9, 24), 'mt': [97.15], 'mg': [25.57]}, {'date': datetime.date(2013, 9, 23), 'mt': [96.8], 'mg': [26.95]}, {'date': datetime.date(2013, 9, 20), 'mt': [96.7], 'mg': [26.14]}, {'date': datetime.date(2013, 9, 19), 'mt': [96.55], 'mg': [26.35]}, {'date': datetime.date(2013, 9, 13), 'mt': [96.8], 'mg': [27.28]}, {'date': datetime.date(2013, 9, 6), 'mt': [97.2], 'mg': [24.13]}, {'date': datetime.date(2013, 9, 5), 'mt': [96.55], 'mg': [27.86]}, {'date': datetime.date(2013, 9, 4), 'mt': [96.6], 'mg': [25.86]}, {'date': datetime.date(2013, 9, 3), 'mt': [97.05], 'mg': [28.35]}, {'date': datetime.date(2013, 8, 22), 'mt': [54.05], 'mg': [2.81]}, {'date': datetime.date(2013, 7, 25), 'mt': [54.6], 'mg': [3.02]}, {'date': datetime.date(2013, 6, 21), 'mt': [54.75], 'mg': [3.09]}, {'date': datetime.date(2013, 6, 2), 'mt': [98.55], 'mg': [27.61]}, {'date': datetime.date(2013, 5, 26), 'mt': [5.55], 'mg': [0]}, {'date': datetime.date(2013, 5, 21), 'mt': [22.3], 'mg': [0]}, {'date': datetime.date(2013, 5, 18), 'mt': [100.9], 'mg': [27.33]}, {'date': datetime.date(2013, 5, 15), 'mt': [23.4], 'mg': [0]}, {'date': datetime.date(2013, 5, 2), 'mt': [54.65], 'mg': [3.06]}, {'date': datetime.date(2013, 4, 28), 'mt': [55.1], 'mg': [0]}, {'date': datetime.date(2013, 4, 25), 'mt': [63.45, 63.8, 42.95, 42.8, 43.1], 'mg': [0, 0, 0, 1.28, 1.29]}, {'date': datetime.date(2013, 4, 22), 'mt': [22.75], 'mg': [0]}, {'date': datetime.date(2013, 4, 4), 'mt': [62.85, 63.75], 'mg': [7.05, 0]}, {'date': datetime.date(2013, 3, 28), 'mt': [63.25, 63.9], 'mg': [7.13, 0]}, {'date': datetime.date(2013, 3, 21), 'mt': [63.45], 'mg': [0]}, {'date': datetime.date(2013, 3, 14), 'mt': [63.2], 'mg': [0]}, {'date': datetime.date(2013, 2, 14), 'mt': [62.75, 62.7], 'mg': [0, 0]}, {'date': datetime.date(2012, 12, 24), 'mt': [22.2], 'mg': [0]}, {'date': datetime.date(2012, 12, 20), 'mt': [62.35, 62.75], 'mg': [0, 0]}, {'date': datetime.date(2012, 12, 13), 'mt': [62.75, 62.7], 'mg': [0, 0]}, {'date': datetime.date(2012, 12, 6), 'mt': [63.4], 'mg': [0]}, {'date': datetime.date(2012, 11, 22), 'mt': [62.8, 63.3], 'mg': [0, 0]}, {'date': datetime.date(2012, 11, 15), 'mt': [60.4], 'mg': [0]}, {'date': datetime.date(2012, 10, 6), 'mt': [19.3], 'mg': [0.58]}, {'date': datetime.date(2012, 9, 27), 'mt': [61.3, 61.7], 'mg': [5.73, 6.73]}, {'date': datetime.date(2012, 9, 24), 'mt': [94.8], 'mg': [26.13]}, {'date': datetime.date(2012, 9, 17), 'mt': [94.7], 'mg': [26.11]}, {'date': datetime.date(2012, 9, 13), 'mt': [95.0], 'mg': [26.98]}, {'date': datetime.date(2012, 9, 6), 'mt': [60.95], 'mg': [0]}, {'date': datetime.date(2012, 8, 30), 'mt': [84.9, 95.45], 'mg': [21.25, 25.65]}, {'date': datetime.date(2012, 8, 28), 'mt': [96.45], 'mg': [25.55]}, {'date': datetime.date(2012, 8, 27), 'mt': [95.6], 'mg': [19.98]}, {'date': datetime.date(2012, 8, 26), 'mt': [95.2], 'mg': [28.03]}, {'date': datetime.date(2012, 8, 25), 'mt': [95.55], 'mg': [13.72]}, {'date': datetime.date(2012, 8, 24), 'mt': [95.25], 'mg': [26.88]}, {'date': datetime.date(2012, 8, 22), 'mt': [96.2], 'mg': [13.74]}, {'date': datetime.date(2012, 8, 17), 'mt': [96.45], 'mg': [27.44]}, {'date': datetime.date(2012, 8, 16), 'mt': [96.0], 'mg': [27.39]}, {'date': datetime.date(2012, 8, 13), 'mt': [96.35], 'mg': [26.12]}, {'date': datetime.date(2012, 8, 5), 'mt': [97.2], 'mg': [28.35]}, {'date': datetime.date(2012, 8, 4), 'mt': [96.6], 'mg': [27.5]}, {'date': datetime.date(2012, 7, 31), 'mt': [97.45], 'mg': [26.54]}, {'date': datetime.date(2012, 7, 30), 'mt': [96.6], 'mg': [27.3]}, {'date': datetime.date(2012, 7, 26), 'mt': [96.75], 'mg': [27.3]}, {'date': datetime.date(2012, 7, 25), 'mt': [97.9], 'mg': [27.86]}, {'date': datetime.date(2012, 7, 23), 'mt': [98.0], 'mg': [28.56]}, {'date': datetime.date(2012, 6, 18), 'mt': [98.35], 'mg': [25.32]}, {'date': datetime.date(2012, 6, 15), 'mt': [96.65], 'mg': [27.33]}, {'date': datetime.date(2012, 6, 10), 'mt': [97.65], 'mg': [28.59]}, {'date': datetime.date(2012, 3, 31), 'mt': [96.75], 'mg': [28.31]}, {'date': datetime.date(2011, 12, 5), 'mt': [20.0, 19.2], 'mg': [0, 0.58]}, {'date': datetime.date(2011, 11, 21), 'mt': [94.65], 'mg': [26.71]}, {'date': datetime.date(2011, 11, 5), 'mt': [19.85, 16.4, 18.4], 'mg': [0, 0, 0]}, {'date': datetime.date(2011, 11, 3), 'mt': [19.55], 'mg': [0]}, {'date': datetime.date(2011, 10, 12), 'mt': [19.15, 19.2], 'mg': [0, 0]}, {'date': datetime.date(2011, 10, 3), 'mt': [95.2], 'mg': [21.97]}, {'date': datetime.date(2011, 9, 20), 'mt': [93.9], 'mg': [25.89]}, {'date': datetime.date(2011, 9, 5), 'mt': [95.15], 'mg': [24.96]}, {'date': datetime.date(2011, 9, 2), 'mt': [56.2, 56.25], 'mg': [0, 3.3]}, {'date': datetime.date(2011, 8, 28), 'mt': [94.35], 'mg': [23.82]}, {'date': datetime.date(2011, 8, 26), 'mt': [94.2], 'mg': [23.22]}, {'date': datetime.date(2011, 8, 25), 'mt': [90.95], 'mg': [18.19]}, {'date': datetime.date(2011, 8, 22), 'mt': [95.0], 'mg': [21.84]}, {'date': datetime.date(2011, 8, 20), 'mt': [94.8], 'mg': [26.62]}, {'date': datetime.date(2011, 6, 9), 'mt': [92.8], 'mg': [23.08]}, {'date': datetime.date(2011, 5, 31), 'mt': [94.05], 'mg': [23.07]}, {'date': datetime.date(2011, 5, 28), 'mt': [22.35, 93.1], 'mg': [0, 25.19]}, {'date': datetime.date(2011, 5, 24), 'mt': [93.3], 'mg': [22.97]}, {'date': datetime.date(2011, 5, 23), 'mt': [93.6], 'mg': [23.2]}, {'date': datetime.date(2011, 5, 19), 'mt': [56.75], 'mg': [3.85]}, {'date': datetime.date(2011, 5, 16), 'mt': [93.4], 'mg': [24.96]}, {'date': datetime.date(2011, 5, 10), 'mt': [93.85], 'mg': [21.02]}, {'date': datetime.date(2011, 5, 9), 'mt': [93.1], 'mg': [22.83]}, {'date': datetime.date(2011, 5, 8), 'mt': [79.0, 79.05], 'mg': [15.75, 0]}, {'date': datetime.date(2011, 5, 7), 'mt': [92.7], 'mg': [22.55]}, {'date': datetime.date(2011, 5, 2), 'mt': [93.05], 'mg': [22.32]}, {'date': datetime.date(2011, 5, 1), 'mt': [92.85], 'mg': [24.48]}, {'date': datetime.date(2011, 4, 30), 'mt': [93.65], 'mg': [22.75]}, {'date': datetime.date(2011, 4, 27), 'mt': [93.6], 'mg': [23.21]}, {'date': datetime.date(2011, 4, 26), 'mt': [93.1], 'mg': [22.83]}, {'date': datetime.date(2011, 4, 22), 'mt': [93.45], 'mg': [19.76]}, {'date': datetime.date(2011, 4, 21), 'mt': [92.8], 'mg': [22.15]}, {'date': datetime.date(2011, 4, 20), 'mt': [92.35], 'mg': [22.27]}, {'date': datetime.date(2011, 4, 18), 'mt': [92.65], 'mg': [22.5]}, {'date': datetime.date(2011, 4, 16), 'mt': [92.35], 'mg': [24.09]}, {'date': datetime.date(2011, 4, 14), 'mt': [92.05], 'mg': [23.86]}, {'date': datetime.date(2011, 4, 13), 'mt': [93.1], 'mg': [22.85]}, {'date': datetime.date(2011, 4, 10), 'mt': [92.85], 'mg': [24.98]}, {'date': datetime.date(2011, 4, 8), 'mt': [93.15], 'mg': [22.86]}, {'date': datetime.date(2011, 4, 7), 'mt': [93.55], 'mg': [22.71]}, {'date': datetime.date(2011, 4, 4), 'mt': [93.45], 'mg': [22.63]}, {'date': datetime.date(2011, 4, 2), 'mt': [92.85], 'mg': [22.15]}, {'date': datetime.date(2011, 4, 1), 'mt': [92.9], 'mg': [22.69]}, {'date': datetime.date(2011, 3, 31), 'mt': [91.95], 'mg': [23.75]}, {'date': datetime.date(2011, 3, 30), 'mt': [92.7], 'mg': [22.05]}, {'date': datetime.date(2011, 3, 29), 'mt': [93.15], 'mg': [22.38]}, {'date': datetime.date(2011, 3, 28), 'mt': [92.85], 'mg': [22.62]}, {'date': datetime.date(2011, 3, 27), 'mt': [92.3], 'mg': [22.24]}, {'date': datetime.date(2011, 3, 26), 'mt': [92.85], 'mg': [22.18]}, {'date': datetime.date(2011, 3, 24), 'mt': [92.65], 'mg': [22.01]}, {'date': datetime.date(2011, 3, 23), 'mt': [92.85], 'mg': [21.7]}, {'date': datetime.date(2011, 3, 21), 'mt': [92.7], 'mg': [22.04]}, {'date': datetime.date(2011, 3, 19), 'mt': [92.55], 'mg': [21.95]}, {'date': datetime.date(2011, 3, 17), 'mt': [92.7], 'mg': [22.06]}, {'date': datetime.date(2011, 3, 16), 'mt': [93.45], 'mg': [22.62]}, {'date': datetime.date(2011, 3, 14), 'mt': [92.25], 'mg': [21.74]}, {'date': datetime.date(2011, 3, 13), 'mt': [92.05], 'mg': [23.82]}, {'date': datetime.date(2011, 3, 12), 'mt': [91.75], 'mg': [21.8]}, {'date': datetime.date(2011, 3, 11), 'mt': [92.2], 'mg': [21.7]}, {'date': datetime.date(2011, 3, 10), 'mt': [61.75, 92.5], 'mg': [6.43, 21.89]}, {'date': datetime.date(2011, 3, 9), 'mt': [91.95], 'mg': [21.95]}, {'date': datetime.date(2011, 3, 7), 'mt': [92.2], 'mg': [23.97]}, {'date': datetime.date(2011, 3, 6), 'mt': [91.5], 'mg': [22.07]}, {'date': datetime.date(2011, 3, 4), 'mt': [91.9], 'mg': [23.71]}, {'date': datetime.date(2011, 3, 3), 'mt': [92.6], 'mg': [22.44]}, {'date': datetime.date(2011, 3, 2), 'mt': [92.4], 'mg': [21.83]}, {'date': datetime.date(2011, 2, 28), 'mt': [92.65], 'mg': [22.03]}, {'date': datetime.date(2011, 2, 27), 'mt': [92.25], 'mg': [21.7]}, {'date': datetime.date(2011, 2, 26), 'mt': [92.55], 'mg': [21.92]}, {'date': datetime.date(2011, 2, 25), 'mt': [92.45], 'mg': [20.04]}, {'date': datetime.date(2011, 2, 24), 'mt': [62.45], 'mg': [6.54]}, {'date': datetime.date(2011, 2, 23), 'mt': [91.7], 'mg': [21.78]}, {'date': datetime.date(2011, 2, 22), 'mt': [92.45], 'mg': [21.88]}, {'date': datetime.date(2011, 2, 21), 'mt': [92.5], 'mg': [22.37]}, {'date': datetime.date(2011, 2, 20), 'mt': [92.35], 'mg': [22.26]}, {'date': datetime.date(2011, 2, 19), 'mt': [91.6], 'mg': [21.67]}, {'date': datetime.date(2011, 2, 18), 'mt': [92.2], 'mg': [21.66]}, {'date': datetime.date(2011, 2, 16), 'mt': [92.3], 'mg': [21.76]}, {'date': datetime.date(2011, 2, 15), 'mt': [92.5], 'mg': [21.91]}, {'date': datetime.date(2011, 2, 14), 'mt': [91.2], 'mg': [20.97]}, {'date': datetime.date(2011, 2, 13), 'mt': [91.75], 'mg': [21.35]}, {'date': datetime.date(2011, 2, 12), 'mt': [92.6], 'mg': [21.99]}, {'date': datetime.date(2011, 2, 11), 'mt': [91.85], 'mg': [21.42]}, {'date': datetime.date(2011, 2, 10), 'mt': [92.35], 'mg': [21.78]}, {'date': datetime.date(2011, 2, 9), 'mt': [92.4], 'mg': [21.83]}, {'date': datetime.date(2011, 2, 8), 'mt': [92.45], 'mg': [21.85]}, {'date': datetime.date(2011, 2, 7), 'mt': [22.45, 91.9], 'mg': [0, 21.89]}, {'date': datetime.date(2011, 2, 6), 'mt': [91.6], 'mg': [23.46]}, {'date': datetime.date(2011, 2, 2), 'mt': [93.0], 'mg': [22.24]}, {'date': datetime.date(2011, 1, 30), 'mt': [92.35], 'mg': [21.79]}, {'date': datetime.date(2011, 1, 29), 'mt': [92.5], 'mg': [24.19]}, {'date': datetime.date(2011, 1, 28), 'mt': [93.4], 'mg': [22.56]}, {'date': datetime.date(2011, 1, 27), 'mt': [92.95], 'mg': [21.74]}, {'date': datetime.date(2011, 1, 26), 'mt': [93.1], 'mg': [21.86]}, {'date': datetime.date(2011, 1, 23), 'mt': [92.45], 'mg': [22.32]}, {'date': datetime.date(2011, 1, 22), 'mt': [92.6], 'mg': [21.95]}, {'date': datetime.date(2011, 1, 18), 'mt': [93.1], 'mg': [22.32]}, {'date': datetime.date(2011, 1, 17), 'mt': [92.85], 'mg': [21.67]}, {'date': datetime.date(2011, 1, 15), 'mt': [91.8], 'mg': [21.82]}, {'date': datetime.date(2011, 1, 11), 'mt': [92.15], 'mg': [22.09]}, {'date': datetime.date(2011, 1, 8), 'mt': [93.0], 'mg': [22.24]}, {'date': datetime.date(2011, 1, 7), 'mt': [92.45], 'mg': [21.41]}, {'date': datetime.date(2011, 1, 5), 'mt': [93.0], 'mg': [21.79]}, {'date': datetime.date(2011, 1, 4), 'mt': [92.95], 'mg': [20.36]}, {'date': datetime.date(2011, 1, 3), 'mt': [92.15], 'mg': [21.61]}, {'date': datetime.date(2010, 12, 31), 'mt': [92.05], 'mg': [21.99]}, {'date': datetime.date(2010, 12, 28), 'mt': [92.25], 'mg': [23.5]}, {'date': datetime.date(2010, 12, 27), 'mt': [92.45], 'mg': [21.87]}, {'date': datetime.date(2010, 12, 26), 'mt': [92.95], 'mg': [22.22]}, {'date': datetime.date(2010, 12, 25), 'mt': [13.15, 12.95, 92.3], 'mg': [0, 0, 21.72]}, {'date': datetime.date(2010, 12, 21), 'mt': [92.2], 'mg': [21.66]}, {'date': datetime.date(2010, 12, 20), 'mt': [93.0], 'mg': [22.24]}, {'date': datetime.date(2010, 12, 19), 'mt': [92.1], 'mg': [23.85]}, {'date': datetime.date(2010, 12, 18), 'mt': [92.65], 'mg': [21.98]}, {'date': datetime.date(2010, 12, 17), 'mt': [92.3], 'mg': [21.27]}, {'date': datetime.date(2010, 12, 15), 'mt': [92.25], 'mg': [21.23]}, {'date': datetime.date(2010, 12, 14), 'mt': [92.35], 'mg': [21.78]}, {'date': datetime.date(2010, 12, 13), 'mt': [92.25], 'mg': [21.69]}, {'date': datetime.date(2010, 12, 12), 'mt': [92.3], 'mg': [22.21]}, {'date': datetime.date(2010, 12, 11), 'mt': [92.3], 'mg': [22.17]}, {'date': datetime.date(2010, 12, 10), 'mt': [92.05], 'mg': [21.56]}, {'date': datetime.date(2010, 12, 8), 'mt': [92.85], 'mg': [21.67]}, {'date': datetime.date(2010, 12, 7), 'mt': [16.95, 17.9, 93.35], 'mg': [0, 0, 22.49]}, {'date': datetime.date(2010, 12, 6), 'mt': [93.15], 'mg': [22.34]}, {'date': datetime.date(2010, 12, 5), 'mt': [92.7], 'mg': [22.47]}, {'date': datetime.date(2010, 12, 4), 'mt': [18.15, 92.9], 'mg': [0, 22.65]}, {'date': datetime.date(2010, 12, 3), 'mt': [93.0], 'mg': [22.24]}, {'date': datetime.date(2010, 12, 2), 'mt': [92.45], 'mg': [24.11]}, {'date': datetime.date(2010, 12, 1), 'mt': [93.4], 'mg': [22.52]}, {'date': datetime.date(2010, 11, 30), 'mt': [17.45, 17.4, 93.0], 'mg': [0, 0, 22.24]}, {'date': datetime.date(2010, 11, 29), 'mt': [93.2], 'mg': [22.84]}, {'date': datetime.date(2010, 11, 28), 'mt': [92.7], 'mg': [24.34]}, {'date': datetime.date(2010, 11, 27), 'mt': [93.85], 'mg': [22.86]}, {'date': datetime.date(2010, 11, 25), 'mt': [93.2], 'mg': [22.37]}, {'date': datetime.date(2010, 11, 24), 'mt': [93.4], 'mg': [22.54]}, {'date': datetime.date(2010, 11, 23), 'mt': [93.7], 'mg': [22.73]}, {'date': datetime.date(2010, 11, 22), 'mt': [93.65], 'mg': [22.73]}, {'date': datetime.date(2010, 11, 20), 'mt': [92.6], 'mg': [21.95]}, {'date': datetime.date(2010, 11, 19), 'mt': [17.3, 93.4], 'mg': [0, 22.54]}, {'date': datetime.date(2010, 11, 18), 'mt': [93.3], 'mg': [22.44]}, {'date': datetime.date(2010, 11, 17), 'mt': [93.85, 93.9], 'mg': [22.39, 22.4]}, {'date': datetime.date(2010, 11, 16), 'mt': [93.7], 'mg': [22.77]}, {'date': datetime.date(2010, 11, 13), 'mt': [93.2], 'mg': [22.85]}, {'date': datetime.date(2010, 11, 12), 'mt': [93.7], 'mg': [22.76]}, {'date': datetime.date(2010, 11, 11), 'mt': [92.85], 'mg': [22.58]}, {'date': datetime.date(2010, 11, 10), 'mt': [93.05, 93.0], 'mg': [22.25, 24.09]}, {'date': datetime.date(2010, 11, 9), 'mt': [93.4], 'mg': [22.52]}, {'date': datetime.date(2010, 11, 8), 'mt': [94.7], 'mg': [23.49]}, {'date': datetime.date(2010, 11, 6), 'mt': [94.3], 'mg': [20.75]}, {'date': datetime.date(2010, 11, 5), 'mt': [93.9], 'mg': [22.89]}, {'date': datetime.date(2010, 11, 4), 'mt': [93.0], 'mg': [22.24]}, {'date': datetime.date(2010, 11, 3), 'mt': [93.9], 'mg': [22.44]}, {'date': datetime.date(2010, 11, 2), 'mt': [93.6], 'mg': [22.2]}, {'date': datetime.date(2010, 11, 1), 'mt': [92.95], 'mg': [22.21]}, {'date': datetime.date(2010, 10, 31), 'mt': [92.65, 92.7], 'mg': [24.29, 22.48]}, {'date': datetime.date(2010, 10, 30), 'mt': [93.15, 93.25, 93.25], 'mg': [24.69, 13.46, 24.78]}, {'date': datetime.date(2010, 10, 29), 'mt': [94.25, 95.25], 'mg': [21.23, 23.42]}]\n"
     ]
    }
   ],
   "source": [
    "print(ds.daily_mass_measurements)"
   ]
  },
  {
   "cell_type": "code",
   "execution_count": 8,
   "id": "70b974f8",
   "metadata": {},
   "outputs": [
    {
     "name": "stdout",
     "output_type": "stream",
     "text": [
      "[{'date': datetime.date(2020, 8, 1), 'masse_totale': 107.15, 'masse_grasse': 0.0, 'calories_in': 0, 'glucides': 0, 'lipides': 0, 'proteines': 0, 'calories_exercice': 0, 'calories_cardio': 0, 'calories_strength': 0}, {'date': datetime.date(2020, 8, 2), 'masse_totale': 106.85, 'masse_grasse': 0.0, 'calories_in': 0, 'glucides': 0, 'lipides': 0, 'proteines': 0, 'calories_exercice': 0, 'calories_cardio': 0, 'calories_strength': 0}, {'date': datetime.date(2020, 8, 3), 'masse_totale': 107.15, 'masse_grasse': 0.0, 'calories_in': 1918.0, 'glucides': 195.0, 'lipides': 89.0, 'proteines': 72.0, 'calories_exercice': 0, 'calories_cardio': 0, 'calories_strength': 0}, {'date': datetime.date(2020, 8, 5), 'masse_totale': 105.5, 'masse_grasse': 0.0, 'calories_in': 1949.0, 'glucides': 213.0, 'lipides': 83.0, 'proteines': 86.0, 'calories_exercice': 0, 'calories_cardio': 0, 'calories_strength': 0}, {'date': datetime.date(2020, 8, 6), 'masse_totale': 106.45, 'masse_grasse': 0.0, 'calories_in': 1937.0, 'glucides': 134.0, 'lipides': 66.0, 'proteines': 59.0, 'calories_exercice': 0, 'calories_cardio': 0, 'calories_strength': 0}, {'date': datetime.date(2020, 8, 7), 'masse_totale': 106.55, 'masse_grasse': 0.0, 'calories_in': 1673.0, 'glucides': 165.0, 'lipides': 67.0, 'proteines': 95.0, 'calories_exercice': 0, 'calories_cardio': 0, 'calories_strength': 0}, {'date': datetime.date(2020, 8, 9), 'masse_totale': 107.25, 'masse_grasse': 37.19, 'calories_in': 1862.0, 'glucides': 232.0, 'lipides': 70.0, 'proteines': 66.0, 'calories_exercice': 0, 'calories_cardio': 0, 'calories_strength': 0}, {'date': datetime.date(2020, 8, 10), 'masse_totale': 105.275, 'masse_grasse': 0.0, 'calories_in': 1467.0, 'glucides': 204.0, 'lipides': 43.0, 'proteines': 63.0, 'calories_exercice': 0, 'calories_cardio': 0, 'calories_strength': 0}, {'date': datetime.date(2020, 8, 11), 'masse_totale': 104.65, 'masse_grasse': 33.15, 'calories_in': 1773.0, 'glucides': 186.0, 'lipides': 49.0, 'proteines': 104.0, 'calories_exercice': 0, 'calories_cardio': 0, 'calories_strength': 0}, {'date': datetime.date(2020, 8, 12), 'masse_totale': 104.35, 'masse_grasse': 33.8, 'calories_in': 1893.0, 'glucides': 220.0, 'lipides': 59.0, 'proteines': 90.0, 'calories_exercice': 0, 'calories_cardio': 0, 'calories_strength': 0}, {'date': datetime.date(2020, 8, 13), 'masse_totale': 104.4, 'masse_grasse': 34.34, 'calories_in': 1823.0, 'glucides': 223.0, 'lipides': 72.0, 'proteines': 7.0, 'calories_exercice': 0, 'calories_cardio': 0, 'calories_strength': 0}, {'date': datetime.date(2020, 8, 14), 'masse_totale': 104.5, 'masse_grasse': 33.85, 'calories_in': 1891.0, 'glucides': 218.0, 'lipides': 62.0, 'proteines': 84.0, 'calories_exercice': 0, 'calories_cardio': 0, 'calories_strength': 0}, {'date': datetime.date(2020, 8, 15), 'masse_totale': 104.25, 'masse_grasse': 34.28, 'calories_in': 1925.0, 'glucides': 186.0, 'lipides': 84.0, 'proteines': 69.0, 'calories_exercice': 0, 'calories_cardio': 0, 'calories_strength': 0}, {'date': datetime.date(2020, 8, 16), 'masse_totale': 104.05, 'masse_grasse': 34.43, 'calories_in': 2021.0, 'glucides': 216.0, 'lipides': 92.0, 'proteines': 81.0, 'calories_exercice': 0, 'calories_cardio': 0, 'calories_strength': 0}, {'date': datetime.date(2020, 8, 17), 'masse_totale': 103.9, 'masse_grasse': 33.88, 'calories_in': 1947.0, 'glucides': 233.0, 'lipides': 67.0, 'proteines': 74.0, 'calories_exercice': 0, 'calories_cardio': 0, 'calories_strength': 0}, {'date': datetime.date(2020, 8, 18), 'masse_totale': 103.55, 'masse_grasse': 34.13, 'calories_in': 1788.0, 'glucides': 221.0, 'lipides': 51.0, 'proteines': 100.0, 'calories_exercice': 0, 'calories_cardio': 0, 'calories_strength': 0}, {'date': datetime.date(2020, 8, 19), 'masse_totale': 103.25, 'masse_grasse': 32.65, 'calories_in': 1915.0, 'glucides': 180.0, 'lipides': 69.0, 'proteines': 86.0, 'calories_exercice': 0, 'calories_cardio': 0, 'calories_strength': 0}, {'date': datetime.date(2020, 8, 20), 'masse_totale': 103.45, 'masse_grasse': 31.45, 'calories_in': 1842.0, 'glucides': 223.0, 'lipides': 53.0, 'proteines': 75.0, 'calories_exercice': 0, 'calories_cardio': 0, 'calories_strength': 0}, {'date': datetime.date(2020, 8, 21), 'masse_totale': 103.35, 'masse_grasse': 30.965, 'calories_in': 1703.0, 'glucides': 245.0, 'lipides': 44.0, 'proteines': 47.0, 'calories_exercice': 0, 'calories_cardio': 0, 'calories_strength': 0}, {'date': datetime.date(2020, 8, 22), 'masse_totale': 103.2, 'masse_grasse': 31.56, 'calories_in': 1916.0, 'glucides': 191.0, 'lipides': 83.0, 'proteines': 79.0, 'calories_exercice': 0, 'calories_cardio': 0, 'calories_strength': 0}, {'date': datetime.date(2020, 8, 30), 'masse_totale': 101.73333333333333, 'masse_grasse': 31.186666666666667, 'calories_in': 1969.0, 'glucides': 270.0, 'lipides': 52.0, 'proteines': 101.0, 'calories_exercice': 196.0, 'calories_cardio': 196.0, 'calories_strength': 0}, {'date': datetime.date(2020, 8, 31), 'masse_totale': 101.5, 'masse_grasse': 33.48, 'calories_in': 1952.0, 'glucides': 208.0, 'lipides': 70.0, 'proteines': 80.0, 'calories_exercice': 302.0, 'calories_cardio': 302.0, 'calories_strength': 0}, {'date': datetime.date(2020, 9, 1), 'masse_totale': 101.25, 'masse_grasse': 33.02, 'calories_in': 2015.0, 'glucides': 262.0, 'lipides': 48.0, 'proteines': 120.0, 'calories_exercice': 281.0, 'calories_cardio': 281.0, 'calories_strength': 0}, {'date': datetime.date(2020, 9, 2), 'masse_totale': 101.15, 'masse_grasse': 31.945, 'calories_in': 1942.0, 'glucides': 162.0, 'lipides': 94.0, 'proteines': 100.0, 'calories_exercice': 419.0, 'calories_cardio': 419.0, 'calories_strength': 0}, {'date': datetime.date(2020, 9, 3), 'masse_totale': 101.2, 'masse_grasse': 30.93, 'calories_in': 1938.0, 'glucides': 227.0, 'lipides': 72.0, 'proteines': 93.0, 'calories_exercice': 403.0, 'calories_cardio': 403.0, 'calories_strength': 0}, {'date': datetime.date(2020, 9, 4), 'masse_totale': 100.8, 'masse_grasse': 29.46, 'calories_in': 1851.0, 'glucides': 274.0, 'lipides': 43.0, 'proteines': 91.0, 'calories_exercice': 439.0, 'calories_cardio': 439.0, 'calories_strength': 0}, {'date': datetime.date(2020, 9, 5), 'masse_totale': 100.6, 'masse_grasse': 31.45, 'calories_in': 1774.0, 'glucides': 214.0, 'lipides': 54.0, 'proteines': 90.0, 'calories_exercice': 563.0, 'calories_cardio': 563.0, 'calories_strength': 0}, {'date': datetime.date(2020, 9, 6), 'masse_totale': 100.7, 'masse_grasse': 29.3, 'calories_in': 1763.0, 'glucides': 211.0, 'lipides': 57.0, 'proteines': 86.0, 'calories_exercice': 479.0, 'calories_cardio': 479.0, 'calories_strength': 0}, {'date': datetime.date(2020, 9, 7), 'masse_totale': 100.5, 'masse_grasse': 29.51, 'calories_in': 2029.0, 'glucides': 224.0, 'lipides': 92.0, 'proteines': 77.0, 'calories_exercice': 220.0, 'calories_cardio': 220.0, 'calories_strength': 0}, {'date': datetime.date(2020, 9, 8), 'masse_totale': 100.6, 'masse_grasse': 30.48, 'calories_in': 1889.0, 'glucides': 166.0, 'lipides': 80.0, 'proteines': 115.0, 'calories_exercice': 0, 'calories_cardio': 0, 'calories_strength': 0}, {'date': datetime.date(2020, 9, 9), 'masse_totale': 99.9, 'masse_grasse': 30.83, 'calories_in': 1872.0, 'glucides': 208.0, 'lipides': 59.0, 'proteines': 121.0, 'calories_exercice': 597.0, 'calories_cardio': 597.0, 'calories_strength': 0}, {'date': datetime.date(2020, 9, 10), 'masse_totale': 99.85, 'masse_grasse': 29.909999999999997, 'calories_in': 1980.0, 'glucides': 182.0, 'lipides': 85.0, 'proteines': 111.0, 'calories_exercice': 582.0, 'calories_cardio': 582.0, 'calories_strength': 0}, {'date': datetime.date(2020, 9, 11), 'masse_totale': 99.225, 'masse_grasse': 29.630000000000003, 'calories_in': 1952.0, 'glucides': 217.0, 'lipides': 73.0, 'proteines': 83.0, 'calories_exercice': 672.0, 'calories_cardio': 672.0, 'calories_strength': 0}, {'date': datetime.date(2020, 9, 12), 'masse_totale': 99.2, 'masse_grasse': 28.57, 'calories_in': 1927.0, 'glucides': 258.0, 'lipides': 59.0, 'proteines': 88.0, 'calories_exercice': 0, 'calories_cardio': 0, 'calories_strength': 0}, {'date': datetime.date(2020, 9, 13), 'masse_totale': 98.92500000000001, 'masse_grasse': 30.15, 'calories_in': 1916.0, 'glucides': 237.0, 'lipides': 62.0, 'proteines': 102.0, 'calories_exercice': 827.0, 'calories_cardio': 827.0, 'calories_strength': 0}, {'date': datetime.date(2020, 9, 14), 'masse_totale': 99.25, 'masse_grasse': 28.18, 'calories_in': 1938.0, 'glucides': 195.0, 'lipides': 76.0, 'proteines': 113.0, 'calories_exercice': 775.0, 'calories_cardio': 775.0, 'calories_strength': 0}, {'date': datetime.date(2020, 9, 15), 'masse_totale': 99.35, 'masse_grasse': 28.77, 'calories_in': 1953.0, 'glucides': 229.0, 'lipides': 67.0, 'proteines': 102.0, 'calories_exercice': 555.0, 'calories_cardio': 555.0, 'calories_strength': 0}, {'date': datetime.date(2020, 9, 16), 'masse_totale': 99.5, 'masse_grasse': 27.86, 'calories_in': 1866.0, 'glucides': 176.0, 'lipides': 72.0, 'proteines': 125.0, 'calories_exercice': 0, 'calories_cardio': 0, 'calories_strength': 0}, {'date': datetime.date(2020, 9, 17), 'masse_totale': 99.25, 'masse_grasse': 27.97, 'calories_in': 1867.0, 'glucides': 206.0, 'lipides': 55.0, 'proteines': 126.0, 'calories_exercice': 293.0, 'calories_cardio': 293.0, 'calories_strength': 0}, {'date': datetime.date(2020, 9, 18), 'masse_totale': 98.78333333333335, 'masse_grasse': 28.63, 'calories_in': 1868.0, 'glucides': 175.0, 'lipides': 69.0, 'proteines': 128.0, 'calories_exercice': 705.0, 'calories_cardio': 705.0, 'calories_strength': 0}, {'date': datetime.date(2020, 9, 19), 'masse_totale': 98.9, 'masse_grasse': 27.865000000000002, 'calories_in': 1828.0, 'glucides': 229.0, 'lipides': 66.0, 'proteines': 79.0, 'calories_exercice': 541.0, 'calories_cardio': 541.0, 'calories_strength': 0}, {'date': datetime.date(2020, 9, 20), 'masse_totale': 98.75, 'masse_grasse': 27.11, 'calories_in': 1848.0, 'glucides': 174.0, 'lipides': 67.0, 'proteines': 140.0, 'calories_exercice': 0, 'calories_cardio': 0, 'calories_strength': 0}, {'date': datetime.date(2020, 9, 21), 'masse_totale': 98.33749999999999, 'masse_grasse': 27.5175, 'calories_in': 1871.0, 'glucides': 160.0, 'lipides': 79.0, 'proteines': 124.0, 'calories_exercice': 518.0, 'calories_cardio': 518.0, 'calories_strength': 0}, {'date': datetime.date(2020, 9, 22), 'masse_totale': 98.25, 'masse_grasse': 27.653333333333336, 'calories_in': 1857.0, 'glucides': 167.0, 'lipides': 69.0, 'proteines': 137.0, 'calories_exercice': 603.0, 'calories_cardio': 603.0, 'calories_strength': 0}, {'date': datetime.date(2020, 9, 23), 'masse_totale': 98.11666666666667, 'masse_grasse': 27.823333333333334, 'calories_in': 1853.0, 'glucides': 175.0, 'lipides': 71.0, 'proteines': 128.0, 'calories_exercice': 555.0, 'calories_cardio': 555.0, 'calories_strength': 0}, {'date': datetime.date(2020, 9, 24), 'masse_totale': 98.06666666666666, 'masse_grasse': 26.403333333333336, 'calories_in': 1750.0, 'glucides': 198.0, 'lipides': 50.0, 'proteines': 128.0, 'calories_exercice': 0, 'calories_cardio': 0, 'calories_strength': 0}, {'date': datetime.date(2020, 9, 25), 'masse_totale': 98.03333333333335, 'masse_grasse': 27.413333333333338, 'calories_in': 1842.0, 'glucides': 180.0, 'lipides': 75.0, 'proteines': 118.0, 'calories_exercice': 625.0, 'calories_cardio': 625.0, 'calories_strength': 0}, {'date': datetime.date(2020, 9, 26), 'masse_totale': 97.56666666666666, 'masse_grasse': 26.376666666666665, 'calories_in': 1900.0, 'glucides': 220.0, 'lipides': 69.0, 'proteines': 86.0, 'calories_exercice': 565.0, 'calories_cardio': 565.0, 'calories_strength': 0}, {'date': datetime.date(2020, 9, 27), 'masse_totale': 97.0, 'masse_grasse': 28.319999999999997, 'calories_in': 1833.0, 'glucides': 175.0, 'lipides': 67.0, 'proteines': 127.0, 'calories_exercice': 492.0, 'calories_cardio': 492.0, 'calories_strength': 0}, {'date': datetime.date(2020, 9, 28), 'masse_totale': 97.2, 'masse_grasse': 27.816666666666666, 'calories_in': 2023.0, 'glucides': 156.0, 'lipides': 83.0, 'proteines': 99.0, 'calories_exercice': 0, 'calories_cardio': 0, 'calories_strength': 0}, {'date': datetime.date(2020, 9, 29), 'masse_totale': 97.68333333333334, 'masse_grasse': 26.603333333333335, 'calories_in': 1804.0, 'glucides': 163.0, 'lipides': 70.0, 'proteines': 126.0, 'calories_exercice': 487.0, 'calories_cardio': 487.0, 'calories_strength': 0}, {'date': datetime.date(2020, 9, 30), 'masse_totale': 97.45, 'masse_grasse': 26.040000000000003, 'calories_in': 1825.0, 'glucides': 137.0, 'lipides': 78.0, 'proteines': 135.0, 'calories_exercice': 553.0, 'calories_cardio': 553.0, 'calories_strength': 0}, {'date': datetime.date(2020, 10, 1), 'masse_totale': 96.84999999999998, 'masse_grasse': 26.30666666666667, 'calories_in': 1915.0, 'glucides': 142.0, 'lipides': 77.0, 'proteines': 92.0, 'calories_exercice': 606.0, 'calories_cardio': 606.0, 'calories_strength': 0}, {'date': datetime.date(2020, 10, 2), 'masse_totale': 96.66666666666667, 'masse_grasse': 26.89, 'calories_in': 1780.0, 'glucides': 146.0, 'lipides': 68.0, 'proteines': 136.0, 'calories_exercice': 0, 'calories_cardio': 0, 'calories_strength': 0}, {'date': datetime.date(2020, 10, 3), 'masse_totale': 95.8, 'masse_grasse': 27.093333333333334, 'calories_in': 1874.0, 'glucides': 239.0, 'lipides': 57.0, 'proteines': 116.0, 'calories_exercice': 553.0, 'calories_cardio': 553.0, 'calories_strength': 0}, {'date': datetime.date(2020, 10, 4), 'masse_totale': 95.65000000000002, 'masse_grasse': 27.013333333333332, 'calories_in': 1840.0, 'glucides': 238.0, 'lipides': 43.0, 'proteines': 120.0, 'calories_exercice': 512.0, 'calories_cardio': 512.0, 'calories_strength': 0}, {'date': datetime.date(2020, 10, 5), 'masse_totale': 95.34999999999998, 'masse_grasse': 26.80333333333333, 'calories_in': 1853.0, 'glucides': 180.0, 'lipides': 59.0, 'proteines': 148.0, 'calories_exercice': 0, 'calories_cardio': 0, 'calories_strength': 0}, {'date': datetime.date(2020, 10, 6), 'masse_totale': 95.5, 'masse_grasse': 26.63, 'calories_in': 1829.0, 'glucides': 182.0, 'lipides': 63.0, 'proteines': 128.0, 'calories_exercice': 499.0, 'calories_cardio': 499.0, 'calories_strength': 0}, {'date': datetime.date(2020, 10, 7), 'masse_totale': 95.41666666666667, 'masse_grasse': 25.546666666666667, 'calories_in': 1860.0, 'glucides': 169.0, 'lipides': 77.0, 'proteines': 123.0, 'calories_exercice': 619.0, 'calories_cardio': 619.0, 'calories_strength': 0}, {'date': datetime.date(2020, 10, 8), 'masse_totale': 95.15000000000002, 'masse_grasse': 25.76, 'calories_in': 1807.0, 'glucides': 171.0, 'lipides': 61.0, 'proteines': 139.0, 'calories_exercice': 522.0, 'calories_cardio': 522.0, 'calories_strength': 0}, {'date': datetime.date(2020, 10, 9), 'masse_totale': 95.08333333333333, 'masse_grasse': 25.39, 'calories_in': 1842.0, 'glucides': 156.0, 'lipides': 70.0, 'proteines': 138.0, 'calories_exercice': 0, 'calories_cardio': 0, 'calories_strength': 0}, {'date': datetime.date(2020, 10, 10), 'masse_totale': 95.11666666666667, 'masse_grasse': 26.19333333333333, 'calories_in': 1831.0, 'glucides': 247.0, 'lipides': 52.0, 'proteines': 90.0, 'calories_exercice': 537.0, 'calories_cardio': 537.0, 'calories_strength': 0}, {'date': datetime.date(2020, 10, 11), 'masse_totale': 94.9875, 'masse_grasse': 25.975, 'calories_in': 1726.0, 'glucides': 172.0, 'lipides': 50.0, 'proteines': 126.0, 'calories_exercice': 0, 'calories_cardio': 0, 'calories_strength': 0}, {'date': datetime.date(2020, 10, 12), 'masse_totale': 94.81666666666666, 'masse_grasse': 25.430000000000003, 'calories_in': 1875.0, 'glucides': 176.0, 'lipides': 59.0, 'proteines': 156.0, 'calories_exercice': 0, 'calories_cardio': 0, 'calories_strength': 0}, {'date': datetime.date(2020, 10, 13), 'masse_totale': 95.21666666666665, 'masse_grasse': 25.963333333333335, 'calories_in': 1796.0, 'glucides': 214.0, 'lipides': 51.0, 'proteines': 124.0, 'calories_exercice': 537.0, 'calories_cardio': 537.0, 'calories_strength': 0}, {'date': datetime.date(2020, 10, 14), 'masse_totale': 94.63333333333333, 'masse_grasse': 25.326666666666668, 'calories_in': 1824.0, 'glucides': 174.0, 'lipides': 65.0, 'proteines': 123.0, 'calories_exercice': 552.0, 'calories_cardio': 552.0, 'calories_strength': 0}, {'date': datetime.date(2020, 10, 15), 'masse_totale': 94.31666666666666, 'masse_grasse': 25.733333333333334, 'calories_in': 1845.0, 'glucides': 144.0, 'lipides': 79.0, 'proteines': 125.0, 'calories_exercice': 523.0, 'calories_cardio': 523.0, 'calories_strength': 0}, {'date': datetime.date(2020, 10, 16), 'masse_totale': 94.73333333333333, 'masse_grasse': 24.743333333333336, 'calories_in': 1846.0, 'glucides': 198.0, 'lipides': 60.0, 'proteines': 134.0, 'calories_exercice': 0, 'calories_cardio': 0, 'calories_strength': 0}, {'date': datetime.date(2020, 10, 17), 'masse_totale': 94.26666666666667, 'masse_grasse': 24.223333333333333, 'calories_in': 2096.0, 'glucides': 241.0, 'lipides': 78.0, 'proteines': 78.0, 'calories_exercice': 563.0, 'calories_cardio': 563.0, 'calories_strength': 0}, {'date': datetime.date(2020, 10, 18), 'masse_totale': 93.98333333333335, 'masse_grasse': 25.566666666666663, 'calories_in': 1945.0, 'glucides': 206.0, 'lipides': 61.0, 'proteines': 142.0, 'calories_exercice': 504.0, 'calories_cardio': 504.0, 'calories_strength': 0}, {'date': datetime.date(2020, 10, 19), 'masse_totale': 93.45, 'masse_grasse': 25.733333333333334, 'calories_in': 1872.0, 'glucides': 163.0, 'lipides': 78.0, 'proteines': 123.0, 'calories_exercice': 503.0, 'calories_cardio': 503.0, 'calories_strength': 0}, {'date': datetime.date(2020, 10, 20), 'masse_totale': 93.33333333333333, 'masse_grasse': 25.26, 'calories_in': 1854.0, 'glucides': 160.0, 'lipides': 76.0, 'proteines': 117.0, 'calories_exercice': 0, 'calories_cardio': 0, 'calories_strength': 0}, {'date': datetime.date(2020, 10, 21), 'masse_totale': 92.91666666666667, 'masse_grasse': 25.14, 'calories_in': 1891.0, 'glucides': 188.0, 'lipides': 77.0, 'proteines': 111.0, 'calories_exercice': 504.0, 'calories_cardio': 504.0, 'calories_strength': 0}, {'date': datetime.date(2020, 10, 22), 'masse_totale': 92.96666666666665, 'masse_grasse': 24.653333333333332, 'calories_in': 1865.0, 'glucides': 198.0, 'lipides': 60.0, 'proteines': 123.0, 'calories_exercice': 612.0, 'calories_cardio': 612.0, 'calories_strength': 0}, {'date': datetime.date(2020, 10, 23), 'masse_totale': 92.58333333333333, 'masse_grasse': 24.97, 'calories_in': 2004.0, 'glucides': 255.0, 'lipides': 63.0, 'proteines': 92.0, 'calories_exercice': 545.0, 'calories_cardio': 545.0, 'calories_strength': 0}, {'date': datetime.date(2020, 10, 24), 'masse_totale': 92.26666666666667, 'masse_grasse': 24.923333333333332, 'calories_in': 1871.0, 'glucides': 217.0, 'lipides': 48.0, 'proteines': 140.0, 'calories_exercice': 0, 'calories_cardio': 0, 'calories_strength': 0}, {'date': datetime.date(2020, 10, 25), 'masse_totale': 92.55, 'masse_grasse': 25.266666666666666, 'calories_in': 1927.0, 'glucides': 185.0, 'lipides': 66.0, 'proteines': 100.0, 'calories_exercice': 521.0, 'calories_cardio': 521.0, 'calories_strength': 0}, {'date': datetime.date(2020, 10, 26), 'masse_totale': 91.78333333333335, 'masse_grasse': 24.87, 'calories_in': 1965.0, 'glucides': 210.0, 'lipides': 75.0, 'proteines': 115.0, 'calories_exercice': 826.0, 'calories_cardio': 826.0, 'calories_strength': 0}, {'date': datetime.date(2020, 10, 27), 'masse_totale': 92.21666666666665, 'masse_grasse': 24.69333333333333, 'calories_in': 1860.0, 'glucides': 206.0, 'lipides': 63.0, 'proteines': 116.0, 'calories_exercice': 749.0, 'calories_cardio': 749.0, 'calories_strength': 0}, {'date': datetime.date(2020, 10, 28), 'masse_totale': 91.7, 'masse_grasse': 24.09, 'calories_in': 1754.0, 'glucides': 190.0, 'lipides': 63.0, 'proteines': 117.0, 'calories_exercice': 0, 'calories_cardio': 0, 'calories_strength': 0}, {'date': datetime.date(2020, 10, 29), 'masse_totale': 91.375, 'masse_grasse': 23.195, 'calories_in': 1802.0, 'glucides': 125.0, 'lipides': 69.0, 'proteines': 116.0, 'calories_exercice': 0, 'calories_cardio': 0, 'calories_strength': 0}, {'date': datetime.date(2020, 10, 30), 'masse_totale': 91.59999999999998, 'masse_grasse': 24.21666666666667, 'calories_in': 1858.0, 'glucides': 195.0, 'lipides': 49.0, 'proteines': 125.0, 'calories_exercice': 839.0, 'calories_cardio': 839.0, 'calories_strength': 0}, {'date': datetime.date(2020, 10, 31), 'masse_totale': 91.40000000000002, 'masse_grasse': 24.409999999999997, 'calories_in': 1944.0, 'glucides': 186.0, 'lipides': 66.0, 'proteines': 103.0, 'calories_exercice': 733.0, 'calories_cardio': 733.0, 'calories_strength': 0}, {'date': datetime.date(2020, 11, 1), 'masse_totale': 91.01666666666667, 'masse_grasse': 23.863333333333333, 'calories_in': 1878.0, 'glucides': 188.0, 'lipides': 62.0, 'proteines': 120.0, 'calories_exercice': 946.0, 'calories_cardio': 946.0, 'calories_strength': 0}, {'date': datetime.date(2020, 11, 2), 'masse_totale': 90.96666666666665, 'masse_grasse': 23.69666666666667, 'calories_in': 1901.0, 'glucides': 271.0, 'lipides': 49.0, 'proteines': 98.0, 'calories_exercice': 0, 'calories_cardio': 0, 'calories_strength': 0}, {'date': datetime.date(2020, 11, 3), 'masse_totale': 90.88333333333333, 'masse_grasse': 23.483333333333334, 'calories_in': 1883.0, 'glucides': 177.0, 'lipides': 69.0, 'proteines': 122.0, 'calories_exercice': 709.0, 'calories_cardio': 709.0, 'calories_strength': 0}, {'date': datetime.date(2020, 11, 4), 'masse_totale': 90.95, 'masse_grasse': 22.566666666666666, 'calories_in': 1856.0, 'glucides': 206.0, 'lipides': 50.0, 'proteines': 136.0, 'calories_exercice': 734.0, 'calories_cardio': 734.0, 'calories_strength': 0}, {'date': datetime.date(2020, 11, 5), 'masse_totale': 90.88333333333333, 'masse_grasse': 22.66, 'calories_in': 1782.0, 'glucides': 148.0, 'lipides': 70.0, 'proteines': 135.0, 'calories_exercice': 699.0, 'calories_cardio': 699.0, 'calories_strength': 0}, {'date': datetime.date(2020, 11, 6), 'masse_totale': 90.66666666666667, 'masse_grasse': 22.44666666666667, 'calories_in': 1860.0, 'glucides': 151.0, 'lipides': 82.0, 'proteines': 96.0, 'calories_exercice': 0, 'calories_cardio': 0, 'calories_strength': 0}, {'date': datetime.date(2020, 11, 7), 'masse_totale': 90.08333333333333, 'masse_grasse': 23.25, 'calories_in': 2302.0, 'glucides': 173.0, 'lipides': 58.0, 'proteines': 98.0, 'calories_exercice': 743.0, 'calories_cardio': 743.0, 'calories_strength': 0}, {'date': datetime.date(2020, 11, 8), 'masse_totale': 90.48333333333333, 'masse_grasse': 21.156666666666666, 'calories_in': 1839.0, 'glucides': 257.0, 'lipides': 43.0, 'proteines': 95.0, 'calories_exercice': 0, 'calories_cardio': 0, 'calories_strength': 0}, {'date': datetime.date(2020, 11, 9), 'masse_totale': 90.46666666666665, 'masse_grasse': 22.28, 'calories_in': 1788.0, 'glucides': 174.0, 'lipides': 65.0, 'proteines': 124.0, 'calories_exercice': 720.0, 'calories_cardio': 720.0, 'calories_strength': 0}, {'date': datetime.date(2020, 11, 10), 'masse_totale': 90.76666666666667, 'masse_grasse': 21.540000000000003, 'calories_in': 1830.0, 'glucides': 176.0, 'lipides': 71.0, 'proteines': 120.0, 'calories_exercice': 716.0, 'calories_cardio': 716.0, 'calories_strength': 0}, {'date': datetime.date(2020, 11, 11), 'masse_totale': 89.98333333333333, 'masse_grasse': 22.46666666666667, 'calories_in': 1813.0, 'glucides': 190.0, 'lipides': 51.0, 'proteines': 128.0, 'calories_exercice': 706.0, 'calories_cardio': 706.0, 'calories_strength': 0}, {'date': datetime.date(2020, 11, 12), 'masse_totale': 89.40000000000002, 'masse_grasse': 22.69666666666667, 'calories_in': 1835.0, 'glucides': 207.0, 'lipides': 62.0, 'proteines': 113.0, 'calories_exercice': 0, 'calories_cardio': 0, 'calories_strength': 0}, {'date': datetime.date(2020, 11, 13), 'masse_totale': 89.56666666666666, 'masse_grasse': 22.426666666666666, 'calories_in': 1816.0, 'glucides': 153.0, 'lipides': 69.0, 'proteines': 131.0, 'calories_exercice': 699.0, 'calories_cardio': 699.0, 'calories_strength': 0}, {'date': datetime.date(2020, 11, 14), 'masse_totale': 89.38333333333333, 'masse_grasse': 22.736666666666668, 'calories_in': 1890.0, 'glucides': 241.0, 'lipides': 64.0, 'proteines': 85.0, 'calories_exercice': 743.0, 'calories_cardio': 743.0, 'calories_strength': 0}, {'date': datetime.date(2020, 11, 15), 'masse_totale': 89.48333333333333, 'masse_grasse': 22.92, 'calories_in': 1862.0, 'glucides': 158.0, 'lipides': 70.0, 'proteines': 126.0, 'calories_exercice': 581.0, 'calories_cardio': 581.0, 'calories_strength': 0}, {'date': datetime.date(2020, 11, 16), 'masse_totale': 89.73333333333333, 'masse_grasse': 21.69666666666667, 'calories_in': 1830.0, 'glucides': 147.0, 'lipides': 72.0, 'proteines': 128.0, 'calories_exercice': 0, 'calories_cardio': 0, 'calories_strength': 0}, {'date': datetime.date(2020, 11, 17), 'masse_totale': 89.66666666666667, 'masse_grasse': 22.099999999999998, 'calories_in': 1906.0, 'glucides': 158.0, 'lipides': 78.0, 'proteines': 137.0, 'calories_exercice': 654.0, 'calories_cardio': 654.0, 'calories_strength': 0}, {'date': datetime.date(2020, 11, 18), 'masse_totale': 89.5, 'masse_grasse': 21.993333333333336, 'calories_in': 1664.0, 'glucides': 124.0, 'lipides': 60.0, 'proteines': 128.0, 'calories_exercice': 226.0, 'calories_cardio': 226.0, 'calories_strength': 0}, {'date': datetime.date(2020, 11, 19), 'masse_totale': 89.06666666666666, 'masse_grasse': 21.136666666666667, 'calories_in': 1844.0, 'glucides': 166.0, 'lipides': 83.0, 'proteines': 105.0, 'calories_exercice': 706.0, 'calories_cardio': 706.0, 'calories_strength': 0}, {'date': datetime.date(2020, 11, 20), 'masse_totale': 89.36666666666667, 'masse_grasse': 21.150000000000002, 'calories_in': 1826.0, 'glucides': 157.0, 'lipides': 86.0, 'proteines': 101.0, 'calories_exercice': 0, 'calories_cardio': 0, 'calories_strength': 0}, {'date': datetime.date(2020, 11, 21), 'masse_totale': 88.3, 'masse_grasse': 22.326666666666668, 'calories_in': 1827.0, 'glucides': 148.0, 'lipides': 66.0, 'proteines': 122.0, 'calories_exercice': 772.0, 'calories_cardio': 772.0, 'calories_strength': 0}, {'date': datetime.date(2020, 11, 22), 'masse_totale': 88.51666666666667, 'masse_grasse': 22.183333333333334, 'calories_in': 1814.0, 'glucides': 294.0, 'lipides': 40.0, 'proteines': 73.0, 'calories_exercice': 724.0, 'calories_cardio': 724.0, 'calories_strength': 0}, {'date': datetime.date(2020, 11, 23), 'masse_totale': 88.2, 'masse_grasse': 22.333333333333332, 'calories_in': 1777.0, 'glucides': 167.0, 'lipides': 62.0, 'proteines': 126.0, 'calories_exercice': 743.0, 'calories_cardio': 743.0, 'calories_strength': 0}, {'date': datetime.date(2020, 11, 24), 'masse_totale': 88.13333333333333, 'masse_grasse': 21.55333333333333, 'calories_in': 1811.0, 'glucides': 199.0, 'lipides': 55.0, 'proteines': 133.0, 'calories_exercice': 0, 'calories_cardio': 0, 'calories_strength': 0}, {'date': datetime.date(2020, 11, 25), 'masse_totale': 88.56666666666666, 'masse_grasse': 21.113333333333333, 'calories_in': 1779.0, 'glucides': 158.0, 'lipides': 57.0, 'proteines': 153.0, 'calories_exercice': 732.0, 'calories_cardio': 732.0, 'calories_strength': 0}, {'date': datetime.date(2020, 11, 26), 'masse_totale': 88.31666666666666, 'masse_grasse': 21.08, 'calories_in': 1780.0, 'glucides': 156.0, 'lipides': 65.0, 'proteines': 144.0, 'calories_exercice': 159.0, 'calories_cardio': 0, 'calories_strength': 159.0}, {'date': datetime.date(2020, 11, 27), 'masse_totale': 88.83333333333333, 'masse_grasse': 20.07, 'calories_in': 1825.0, 'glucides': 171.0, 'lipides': 74.0, 'proteines': 107.0, 'calories_exercice': 0, 'calories_cardio': 0, 'calories_strength': 0}, {'date': datetime.date(2020, 11, 28), 'masse_totale': 88.23333333333333, 'masse_grasse': 20.09, 'calories_in': 1817.0, 'glucides': 246.0, 'lipides': 49.0, 'proteines': 87.0, 'calories_exercice': 736.0, 'calories_cardio': 736.0, 'calories_strength': 0}, {'date': datetime.date(2020, 11, 29), 'masse_totale': 88.25, 'masse_grasse': 20.98, 'calories_in': 1820.0, 'glucides': 177.0, 'lipides': 66.0, 'proteines': 123.0, 'calories_exercice': 329.0, 'calories_cardio': 0, 'calories_strength': 329.0}, {'date': datetime.date(2020, 11, 30), 'masse_totale': 87.83333333333333, 'masse_grasse': 21.346666666666668, 'calories_in': 1796.0, 'glucides': 197.0, 'lipides': 51.0, 'proteines': 136.0, 'calories_exercice': 771.0, 'calories_cardio': 771.0, 'calories_strength': 0}, {'date': datetime.date(2020, 12, 1), 'masse_totale': 87.84999999999998, 'masse_grasse': 20.966666666666665, 'calories_in': 1798.0, 'glucides': 157.0, 'lipides': 68.0, 'proteines': 136.0, 'calories_exercice': 335.0, 'calories_cardio': 0, 'calories_strength': 335.0}, {'date': datetime.date(2020, 12, 2), 'masse_totale': 87.63333333333333, 'masse_grasse': 21.63, 'calories_in': 1813.0, 'glucides': 183.0, 'lipides': 58.0, 'proteines': 135.0, 'calories_exercice': 790.0, 'calories_cardio': 790.0, 'calories_strength': 0}, {'date': datetime.date(2020, 12, 3), 'masse_totale': 87.3, 'masse_grasse': 21.2, 'calories_in': 1759.0, 'glucides': 177.0, 'lipides': 56.0, 'proteines': 136.0, 'calories_exercice': 0, 'calories_cardio': 0, 'calories_strength': 0}, {'date': datetime.date(2020, 12, 4), 'masse_totale': 87.25, 'masse_grasse': 21.276666666666667, 'calories_in': 1799.0, 'glucides': 163.0, 'lipides': 69.0, 'proteines': 139.0, 'calories_exercice': 666.0, 'calories_cardio': 666.0, 'calories_strength': 0}, {'date': datetime.date(2020, 12, 5), 'masse_totale': 87.0, 'masse_grasse': 21.246666666666666, 'calories_in': 1778.0, 'glucides': 253.0, 'lipides': 49.0, 'proteines': 88.0, 'calories_exercice': 0, 'calories_cardio': 0, 'calories_strength': 0}, {'date': datetime.date(2020, 12, 6), 'masse_totale': 86.41666666666667, 'masse_grasse': 21.493333333333336, 'calories_in': 1796.0, 'glucides': 202.0, 'lipides': 55.0, 'proteines': 123.0, 'calories_exercice': 645.0, 'calories_cardio': 645.0, 'calories_strength': 0}, {'date': datetime.date(2020, 12, 7), 'masse_totale': 86.11666666666667, 'masse_grasse': 21.180000000000003, 'calories_in': 1750.0, 'glucides': 135.0, 'lipides': 66.0, 'proteines': 154.0, 'calories_exercice': 0, 'calories_cardio': 0, 'calories_strength': 0}, {'date': datetime.date(2020, 12, 8), 'masse_totale': 86.41666666666667, 'masse_grasse': 20.72, 'calories_in': 1804.0, 'glucides': 161.0, 'lipides': 73.0, 'proteines': 123.0, 'calories_exercice': 283.0, 'calories_cardio': 0, 'calories_strength': 283.0}, {'date': datetime.date(2020, 12, 9), 'masse_totale': 86.45, 'masse_grasse': 20.28, 'calories_in': 1800.0, 'glucides': 211.0, 'lipides': 54.0, 'proteines': 106.0, 'calories_exercice': 738.0, 'calories_cardio': 738.0, 'calories_strength': 0}, {'date': datetime.date(2020, 12, 10), 'masse_totale': 86.31666666666666, 'masse_grasse': 20.549999999999997, 'calories_in': 1740.0, 'glucides': 161.0, 'lipides': 58.0, 'proteines': 134.0, 'calories_exercice': 248.0, 'calories_cardio': 0, 'calories_strength': 248.0}, {'date': datetime.date(2020, 12, 11), 'masse_totale': 86.59999999999998, 'masse_grasse': 20.346666666666668, 'calories_in': 1826.0, 'glucides': 238.0, 'lipides': 58.0, 'proteines': 90.0, 'calories_exercice': 0, 'calories_cardio': 0, 'calories_strength': 0}, {'date': datetime.date(2020, 12, 12), 'masse_totale': 86.08333333333333, 'masse_grasse': 20.683333333333334, 'calories_in': 1942.0, 'glucides': 143.0, 'lipides': 72.0, 'proteines': 130.0, 'calories_exercice': 346.0, 'calories_cardio': 0, 'calories_strength': 346.0}, {'date': datetime.date(2020, 12, 13), 'masse_totale': 86.08333333333333, 'masse_grasse': 20.82, 'calories_in': 1881.0, 'glucides': 186.0, 'lipides': 74.0, 'proteines': 116.0, 'calories_exercice': 928.0, 'calories_cardio': 928.0, 'calories_strength': 0}, {'date': datetime.date(2020, 12, 14), 'masse_totale': 86.08333333333333, 'masse_grasse': 20.5, 'calories_in': 1793.0, 'glucides': 178.0, 'lipides': 60.0, 'proteines': 139.0, 'calories_exercice': 0, 'calories_cardio': 0, 'calories_strength': 0}, {'date': datetime.date(2020, 12, 15), 'masse_totale': 86.16666666666667, 'masse_grasse': 20.193333333333335, 'calories_in': 1787.0, 'glucides': 117.0, 'lipides': 82.0, 'proteines': 134.0, 'calories_exercice': 723.0, 'calories_cardio': 723.0, 'calories_strength': 0}, {'date': datetime.date(2020, 12, 16), 'masse_totale': 86.26666666666667, 'masse_grasse': 20.19333333333333, 'calories_in': 1806.0, 'glucides': 145.0, 'lipides': 85.0, 'proteines': 94.0, 'calories_exercice': 0, 'calories_cardio': 0, 'calories_strength': 0}, {'date': datetime.date(2020, 12, 17), 'masse_totale': 85.66666666666667, 'masse_grasse': 19.48, 'calories_in': 1875.0, 'glucides': 181.0, 'lipides': 75.0, 'proteines': 118.0, 'calories_exercice': 760.0, 'calories_cardio': 760.0, 'calories_strength': 0}, {'date': datetime.date(2020, 12, 18), 'masse_totale': 85.64999999999999, 'masse_grasse': 19.933333333333334, 'calories_in': 1873.0, 'glucides': 142.0, 'lipides': 78.0, 'proteines': 115.0, 'calories_exercice': 321.0, 'calories_cardio': 0, 'calories_strength': 321.0}, {'date': datetime.date(2020, 12, 19), 'masse_totale': 85.81666666666666, 'masse_grasse': 20.043333333333333, 'calories_in': 1798.0, 'glucides': 188.0, 'lipides': 58.0, 'proteines': 85.0, 'calories_exercice': 0, 'calories_cardio': 0, 'calories_strength': 0}, {'date': datetime.date(2020, 12, 20), 'masse_totale': 85.68333333333334, 'masse_grasse': 20.066666666666666, 'calories_in': 1829.0, 'glucides': 155.0, 'lipides': 69.0, 'proteines': 128.0, 'calories_exercice': 689.0, 'calories_cardio': 689.0, 'calories_strength': 0}, {'date': datetime.date(2020, 12, 21), 'masse_totale': 85.31666666666668, 'masse_grasse': 20.180000000000003, 'calories_in': 1847.0, 'glucides': 187.0, 'lipides': 76.0, 'proteines': 115.0, 'calories_exercice': 224.0, 'calories_cardio': 0, 'calories_strength': 224.0}, {'date': datetime.date(2020, 12, 22), 'masse_totale': 85.41666666666667, 'masse_grasse': 19.7, 'calories_in': 1762.0, 'glucides': 199.0, 'lipides': 56.0, 'proteines': 118.0, 'calories_exercice': 0, 'calories_cardio': 0, 'calories_strength': 0}, {'date': datetime.date(2020, 12, 23), 'masse_totale': 85.46666666666665, 'masse_grasse': 19.69333333333333, 'calories_in': 1849.0, 'glucides': 261.0, 'lipides': 52.0, 'proteines': 97.0, 'calories_exercice': 653.0, 'calories_cardio': 653.0, 'calories_strength': 0}, {'date': datetime.date(2020, 12, 24), 'masse_totale': 84.88333333333334, 'masse_grasse': 19.723333333333333, 'calories_in': 1949.0, 'glucides': 189.0, 'lipides': 79.0, 'proteines': 92.0, 'calories_exercice': 267.0, 'calories_cardio': 0, 'calories_strength': 267.0}, {'date': datetime.date(2020, 12, 25), 'masse_totale': 84.68333333333334, 'masse_grasse': 18.423333333333332, 'calories_in': 2153.0, 'glucides': 173.0, 'lipides': 87.0, 'proteines': 75.0, 'calories_exercice': 0, 'calories_cardio': 0, 'calories_strength': 0}, {'date': datetime.date(2020, 12, 26), 'masse_totale': 84.96666666666665, 'masse_grasse': 19.743333333333336, 'calories_in': 1693.0, 'glucides': 171.0, 'lipides': 50.0, 'proteines': 139.0, 'calories_exercice': 0, 'calories_cardio': 0, 'calories_strength': 0}, {'date': datetime.date(2020, 12, 27), 'masse_totale': 84.64999999999999, 'masse_grasse': 19.766666666666666, 'calories_in': 2074.0, 'glucides': 234.0, 'lipides': 68.0, 'proteines': 86.0, 'calories_exercice': 644.0, 'calories_cardio': 644.0, 'calories_strength': 0}, {'date': datetime.date(2020, 12, 28), 'masse_totale': 84.89999999999999, 'masse_grasse': 19.446666666666665, 'calories_in': 2076.0, 'glucides': 167.0, 'lipides': 82.0, 'proteines': 74.0, 'calories_exercice': 0, 'calories_cardio': 0, 'calories_strength': 0}, {'date': datetime.date(2020, 12, 29), 'masse_totale': 84.65, 'masse_grasse': 19.536666666666665, 'calories_in': 2000.0, 'glucides': 206.0, 'lipides': 79.0, 'proteines': 117.0, 'calories_exercice': 743.0, 'calories_cardio': 743.0, 'calories_strength': 0}, {'date': datetime.date(2020, 12, 30), 'masse_totale': 84.65, 'masse_grasse': 19.143333333333334, 'calories_in': 1788.0, 'glucides': 184.0, 'lipides': 63.0, 'proteines': 114.0, 'calories_exercice': 218.0, 'calories_cardio': 0, 'calories_strength': 218.0}, {'date': datetime.date(2020, 12, 31), 'masse_totale': 84.56666666666666, 'masse_grasse': 19.056666666666665, 'calories_in': 1793.0, 'glucides': 156.0, 'lipides': 70.0, 'proteines': 138.0, 'calories_exercice': 0, 'calories_cardio': 0, 'calories_strength': 0}, {'date': datetime.date(2021, 1, 1), 'masse_totale': 84.38333333333334, 'masse_grasse': 19.05333333333333, 'calories_in': 1806.0, 'glucides': 171.0, 'lipides': 64.0, 'proteines': 119.0, 'calories_exercice': 703.0, 'calories_cardio': 703.0, 'calories_strength': 0}, {'date': datetime.date(2021, 1, 2), 'masse_totale': 84.36666666666666, 'masse_grasse': 18.593333333333334, 'calories_in': 1893.0, 'glucides': 193.0, 'lipides': 54.0, 'proteines': 74.0, 'calories_exercice': 266.0, 'calories_cardio': 0, 'calories_strength': 266.0}, {'date': datetime.date(2021, 1, 3), 'masse_totale': 84.7, 'masse_grasse': 17.293333333333333, 'calories_in': 1864.0, 'glucides': 133.0, 'lipides': 70.0, 'proteines': 125.0, 'calories_exercice': 657.0, 'calories_cardio': 657.0, 'calories_strength': 0}, {'date': datetime.date(2021, 1, 4), 'masse_totale': 84.56666666666666, 'masse_grasse': 18.30666666666667, 'calories_in': 1734.0, 'glucides': 150.0, 'lipides': 50.0, 'proteines': 119.0, 'calories_exercice': 0, 'calories_cardio': 0, 'calories_strength': 0}, {'date': datetime.date(2021, 1, 5), 'masse_totale': 83.31666666666666, 'masse_grasse': 18.436666666666667, 'calories_in': 1667.0, 'glucides': 151.0, 'lipides': 55.0, 'proteines': 140.0, 'calories_exercice': 709.0, 'calories_cardio': 709.0, 'calories_strength': 0}, {'date': datetime.date(2021, 1, 6), 'masse_totale': 83.71666666666667, 'masse_grasse': 18.723333333333333, 'calories_in': 1715.0, 'glucides': 155.0, 'lipides': 60.0, 'proteines': 13.0, 'calories_exercice': 0, 'calories_cardio': 0, 'calories_strength': 0}, {'date': datetime.date(2021, 1, 7), 'masse_totale': 83.33333333333333, 'masse_grasse': 18.31, 'calories_in': 1668.0, 'glucides': 126.0, 'lipides': 57.0, 'proteines': 110.0, 'calories_exercice': 739.0, 'calories_cardio': 739.0, 'calories_strength': 0}, {'date': datetime.date(2021, 1, 8), 'masse_totale': 82.81666666666668, 'masse_grasse': 18.33666666666667, 'calories_in': 1750.0, 'glucides': 212.0, 'lipides': 48.0, 'proteines': 117.0, 'calories_exercice': 0, 'calories_cardio': 0, 'calories_strength': 0}, {'date': datetime.date(2021, 1, 9), 'masse_totale': 83.1, 'masse_grasse': 18.53, 'calories_in': 2004.0, 'glucides': 177.0, 'lipides': 48.0, 'proteines': 52.0, 'calories_exercice': 0, 'calories_cardio': 0, 'calories_strength': 0}, {'date': datetime.date(2021, 1, 10), 'masse_totale': 82.73333333333333, 'masse_grasse': 17.25, 'calories_in': 1684.0, 'glucides': 195.0, 'lipides': 48.0, 'proteines': 116.0, 'calories_exercice': 0, 'calories_cardio': 0, 'calories_strength': 0}, {'date': datetime.date(2021, 1, 11), 'masse_totale': 82.81666666666668, 'masse_grasse': 18.493333333333332, 'calories_in': 1716.0, 'glucides': 128.0, 'lipides': 60.0, 'proteines': 108.0, 'calories_exercice': 200.0, 'calories_cardio': 0, 'calories_strength': 200.0}, {'date': datetime.date(2021, 1, 12), 'masse_totale': 82.78333333333332, 'masse_grasse': 18.566666666666666, 'calories_in': 1761.0, 'glucides': 175.0, 'lipides': 68.0, 'proteines': 124.0, 'calories_exercice': 729.0, 'calories_cardio': 729.0, 'calories_strength': 0}, {'date': datetime.date(2021, 1, 13), 'masse_totale': 81.95, 'masse_grasse': 18.386666666666667, 'calories_in': 1732.0, 'glucides': 210.0, 'lipides': 52.0, 'proteines': 81.0, 'calories_exercice': 240.0, 'calories_cardio': 0, 'calories_strength': 240.0}, {'date': datetime.date(2021, 1, 14), 'masse_totale': 82.03333333333333, 'masse_grasse': 18.216666666666665, 'calories_in': 1806.0, 'glucides': 172.0, 'lipides': 66.0, 'proteines': 114.0, 'calories_exercice': 753.0, 'calories_cardio': 753.0, 'calories_strength': 0}, {'date': datetime.date(2021, 1, 15), 'masse_totale': 82.1, 'masse_grasse': 17.7, 'calories_in': 1749.0, 'glucides': 164.0, 'lipides': 77.0, 'proteines': 70.0, 'calories_exercice': 0, 'calories_cardio': 0, 'calories_strength': 0}, {'date': datetime.date(2021, 1, 16), 'masse_totale': 82.3, 'masse_grasse': 17.473333333333333, 'calories_in': 1846.0, 'glucides': 224.0, 'lipides': 52.0, 'proteines': 77.0, 'calories_exercice': 279.0, 'calories_cardio': 0, 'calories_strength': 279.0}, {'date': datetime.date(2021, 1, 17), 'masse_totale': 82.14999999999999, 'masse_grasse': 17.36, 'calories_in': 1799.0, 'glucides': 210.0, 'lipides': 37.0, 'proteines': 117.0, 'calories_exercice': 681.0, 'calories_cardio': 681.0, 'calories_strength': 0}, {'date': datetime.date(2021, 1, 18), 'masse_totale': 82.16666666666667, 'masse_grasse': 17.38, 'calories_in': 1801.0, 'glucides': 125.0, 'lipides': 60.0, 'proteines': 133.0, 'calories_exercice': 363.0, 'calories_cardio': 0, 'calories_strength': 363.0}, {'date': datetime.date(2021, 1, 19), 'masse_totale': 82.06666666666668, 'masse_grasse': 16.94666666666667, 'calories_in': 1822.0, 'glucides': 140.0, 'lipides': 84.0, 'proteines': 126.0, 'calories_exercice': 0, 'calories_cardio': 0, 'calories_strength': 0}, {'date': datetime.date(2021, 1, 20), 'masse_totale': 81.95, 'masse_grasse': 16.816666666666666, 'calories_in': 1852.0, 'glucides': 158.0, 'lipides': 63.0, 'proteines': 124.0, 'calories_exercice': 763.0, 'calories_cardio': 763.0, 'calories_strength': 0}, {'date': datetime.date(2021, 1, 21), 'masse_totale': 81.58333333333333, 'masse_grasse': 16.936666666666667, 'calories_in': 1779.0, 'glucides': 116.0, 'lipides': 86.0, 'proteines': 133.0, 'calories_exercice': 0, 'calories_cardio': 0, 'calories_strength': 0}, {'date': datetime.date(2021, 1, 22), 'masse_totale': 81.25999999999999, 'masse_grasse': 16.71, 'calories_in': 1788.0, 'glucides': 141.0, 'lipides': 51.0, 'proteines': 118.0, 'calories_exercice': 0, 'calories_cardio': 0, 'calories_strength': 0}, {'date': datetime.date(2021, 1, 23), 'masse_totale': 81.2, 'masse_grasse': 16.73, 'calories_in': 1845.0, 'glucides': 186.0, 'lipides': 58.0, 'proteines': 107.0, 'calories_exercice': 428.0, 'calories_cardio': 0, 'calories_strength': 428.0}, {'date': datetime.date(2021, 1, 24), 'masse_totale': 81.23333333333333, 'masse_grasse': 17.266666666666666, 'calories_in': 1882.0, 'glucides': 161.0, 'lipides': 78.0, 'proteines': 93.0, 'calories_exercice': 725.0, 'calories_cardio': 725.0, 'calories_strength': 0}, {'date': datetime.date(2021, 1, 25), 'masse_totale': 81.08333333333333, 'masse_grasse': 17.073333333333334, 'calories_in': 1859.0, 'glucides': 151.0, 'lipides': 89.0, 'proteines': 110.0, 'calories_exercice': 585.0, 'calories_cardio': 0, 'calories_strength': 585.0}, {'date': datetime.date(2021, 1, 26), 'masse_totale': 81.18333333333334, 'masse_grasse': 16.64, 'calories_in': 1823.0, 'glucides': 156.0, 'lipides': 66.0, 'proteines': 120.0, 'calories_exercice': 0, 'calories_cardio': 0, 'calories_strength': 0}, {'date': datetime.date(2021, 1, 27), 'masse_totale': 81.01666666666667, 'masse_grasse': 16.939999999999998, 'calories_in': 1782.0, 'glucides': 96.0, 'lipides': 77.0, 'proteines': 125.0, 'calories_exercice': 0, 'calories_cardio': 0, 'calories_strength': 0}, {'date': datetime.date(2021, 1, 28), 'masse_totale': 81.08999999999999, 'masse_grasse': 16.716, 'calories_in': 1869.0, 'glucides': 156.0, 'lipides': 73.0, 'proteines': 122.0, 'calories_exercice': 727.0, 'calories_cardio': 727.0, 'calories_strength': 0}, {'date': datetime.date(2021, 1, 29), 'masse_totale': 80.68333333333334, 'masse_grasse': 16.583333333333332, 'calories_in': 1881.0, 'glucides': 162.0, 'lipides': 69.0, 'proteines': 140.0, 'calories_exercice': 395.0, 'calories_cardio': 0, 'calories_strength': 395.0}, {'date': datetime.date(2021, 1, 30), 'masse_totale': 81.10000000000001, 'masse_grasse': 16.62333333333333, 'calories_in': 2064.0, 'glucides': 225.0, 'lipides': 61.0, 'proteines': 94.0, 'calories_exercice': 0, 'calories_cardio': 0, 'calories_strength': 0}, {'date': datetime.date(2021, 1, 31), 'masse_totale': 81.4, 'masse_grasse': 16.03, 'calories_in': 1786.0, 'glucides': 147.0, 'lipides': 57.0, 'proteines': 112.0, 'calories_exercice': 1041.0, 'calories_cardio': 766.0, 'calories_strength': 275.0}, {'date': datetime.date(2021, 2, 1), 'masse_totale': 80.8, 'masse_grasse': 16.233333333333334, 'calories_in': 1802.0, 'glucides': 144.0, 'lipides': 62.0, 'proteines': 128.0, 'calories_exercice': 0, 'calories_cardio': 0, 'calories_strength': 0}, {'date': datetime.date(2021, 2, 2), 'masse_totale': 80.68333333333334, 'masse_grasse': 16.503333333333334, 'calories_in': 1834.0, 'glucides': 138.0, 'lipides': 49.0, 'proteines': 153.0, 'calories_exercice': 229.0, 'calories_cardio': 0, 'calories_strength': 229.0}, {'date': datetime.date(2021, 2, 3), 'masse_totale': 80.35, 'masse_grasse': 16.286666666666665, 'calories_in': 2105.0, 'glucides': 188.0, 'lipides': 64.0, 'proteines': 145.0, 'calories_exercice': 736.0, 'calories_cardio': 736.0, 'calories_strength': 0}, {'date': datetime.date(2021, 2, 4), 'masse_totale': 80.8, 'masse_grasse': 16.16, 'calories_in': 1828.0, 'glucides': 115.0, 'lipides': 55.0, 'proteines': 135.0, 'calories_exercice': 187.0, 'calories_cardio': 0, 'calories_strength': 187.0}, {'date': datetime.date(2021, 2, 5), 'masse_totale': 80.48333333333333, 'masse_grasse': 15.616666666666667, 'calories_in': 1818.0, 'glucides': 161.0, 'lipides': 64.0, 'proteines': 145.0, 'calories_exercice': 0, 'calories_cardio': 0, 'calories_strength': 0}, {'date': datetime.date(2021, 2, 6), 'masse_totale': 80.7, 'masse_grasse': 15.886666666666665, 'calories_in': 1912.0, 'glucides': 286.0, 'lipides': 48.0, 'proteines': 85.0, 'calories_exercice': 1009.0, 'calories_cardio': 711.0, 'calories_strength': 298.0}, {'date': datetime.date(2021, 2, 7), 'masse_totale': 80.16666666666667, 'masse_grasse': 16.15, 'calories_in': 1867.0, 'glucides': 133.0, 'lipides': 54.0, 'proteines': 110.0, 'calories_exercice': 0, 'calories_cardio': 0, 'calories_strength': 0}, {'date': datetime.date(2021, 2, 8), 'masse_totale': 80.23333333333333, 'masse_grasse': 16.01, 'calories_in': 1846.0, 'glucides': 119.0, 'lipides': 82.0, 'proteines': 152.0, 'calories_exercice': 437.0, 'calories_cardio': 0, 'calories_strength': 437.0}, {'date': datetime.date(2021, 2, 9), 'masse_totale': 80.1, 'masse_grasse': 15.86, 'calories_in': 1804.0, 'glucides': 132.0, 'lipides': 58.0, 'proteines': 146.0, 'calories_exercice': 718.0, 'calories_cardio': 718.0, 'calories_strength': 0}, {'date': datetime.date(2021, 2, 10), 'masse_totale': 80.35000000000001, 'masse_grasse': 16.14, 'calories_in': 1818.0, 'glucides': 147.0, 'lipides': 61.0, 'proteines': 108.0, 'calories_exercice': 0, 'calories_cardio': 0, 'calories_strength': 0}, {'date': datetime.date(2021, 2, 11), 'masse_totale': 79.56666666666666, 'masse_grasse': 15.920000000000002, 'calories_in': 1829.0, 'glucides': 102.0, 'lipides': 93.0, 'proteines': 144.0, 'calories_exercice': 316.0, 'calories_cardio': 0, 'calories_strength': 316.0}, {'date': datetime.date(2021, 2, 12), 'masse_totale': 79.95, 'masse_grasse': 15.993333333333334, 'calories_in': 1804.0, 'glucides': 168.0, 'lipides': 92.0, 'proteines': 148.0, 'calories_exercice': 0, 'calories_cardio': 0, 'calories_strength': 0}, {'date': datetime.date(2021, 2, 13), 'masse_totale': 79.58333333333333, 'masse_grasse': 15.676666666666668, 'calories_in': 1865.0, 'glucides': 211.0, 'lipides': 53.0, 'proteines': 135.0, 'calories_exercice': 0, 'calories_cardio': 0, 'calories_strength': 0}, {'date': datetime.date(2021, 2, 14), 'masse_totale': 79.38333333333333, 'masse_grasse': 15.973333333333334, 'calories_in': 2025.0, 'glucides': 248.0, 'lipides': 66.0, 'proteines': 112.0, 'calories_exercice': 789.0, 'calories_cardio': 789.0, 'calories_strength': 0}, {'date': datetime.date(2021, 2, 15), 'masse_totale': 79.08333333333333, 'masse_grasse': 16.333333333333332, 'calories_in': 1767.0, 'glucides': 204.0, 'lipides': 44.0, 'proteines': 147.0, 'calories_exercice': 0, 'calories_cardio': 0, 'calories_strength': 0}, {'date': datetime.date(2021, 2, 16), 'masse_totale': 79.58333333333333, 'masse_grasse': 15.910000000000002, 'calories_in': 2162.0, 'glucides': 211.0, 'lipides': 84.0, 'proteines': 138.0, 'calories_exercice': 228.0, 'calories_cardio': 0, 'calories_strength': 228.0}, {'date': datetime.date(2021, 2, 17), 'masse_totale': 79.6, 'masse_grasse': 15.83, 'calories_in': 1841.0, 'glucides': 201.0, 'lipides': 52.0, 'proteines': 135.0, 'calories_exercice': 0, 'calories_cardio': 0, 'calories_strength': 0}, {'date': datetime.date(2021, 2, 18), 'masse_totale': 78.73333333333333, 'masse_grasse': 15.530000000000001, 'calories_in': 1869.0, 'glucides': 184.0, 'lipides': 68.0, 'proteines': 112.0, 'calories_exercice': 0, 'calories_cardio': 0, 'calories_strength': 0}, {'date': datetime.date(2021, 2, 19), 'masse_totale': 78.71666666666667, 'masse_grasse': 15.280000000000001, 'calories_in': 1915.0, 'glucides': 197.0, 'lipides': 64.0, 'proteines': 143.0, 'calories_exercice': 0, 'calories_cardio': 0, 'calories_strength': 0}, {'date': datetime.date(2021, 2, 20), 'masse_totale': 78.61666666666666, 'masse_grasse': 15.263333333333334, 'calories_in': 1901.0, 'glucides': 182.0, 'lipides': 75.0, 'proteines': 107.0, 'calories_exercice': 0, 'calories_cardio': 0, 'calories_strength': 0}, {'date': datetime.date(2021, 2, 21), 'masse_totale': 79.11666666666666, 'masse_grasse': 15.046666666666667, 'calories_in': 1875.0, 'glucides': 233.0, 'lipides': 58.0, 'proteines': 98.0, 'calories_exercice': 0, 'calories_cardio': 0, 'calories_strength': 0}, {'date': datetime.date(2021, 2, 22), 'masse_totale': 78.21666666666665, 'masse_grasse': 14.959999999999999, 'calories_in': 1839.0, 'glucides': 161.0, 'lipides': 64.0, 'proteines': 140.0, 'calories_exercice': 0, 'calories_cardio': 0, 'calories_strength': 0}, {'date': datetime.date(2021, 2, 23), 'masse_totale': 79.03333333333333, 'masse_grasse': 15.093333333333334, 'calories_in': 1801.0, 'glucides': 147.0, 'lipides': 55.0, 'proteines': 139.0, 'calories_exercice': 0, 'calories_cardio': 0, 'calories_strength': 0}, {'date': datetime.date(2021, 2, 24), 'masse_totale': 78.33333333333333, 'masse_grasse': 14.916666666666666, 'calories_in': 1874.0, 'glucides': 170.0, 'lipides': 64.0, 'proteines': 144.0, 'calories_exercice': 0, 'calories_cardio': 0, 'calories_strength': 0}, {'date': datetime.date(2021, 2, 25), 'masse_totale': 77.83333333333333, 'masse_grasse': 14.706666666666665, 'calories_in': 2378.0, 'glucides': 255.0, 'lipides': 68.0, 'proteines': 102.0, 'calories_exercice': 0, 'calories_cardio': 0, 'calories_strength': 0}, {'date': datetime.date(2021, 2, 26), 'masse_totale': 78.48333333333333, 'masse_grasse': 14.85, 'calories_in': 1786.0, 'glucides': 249.0, 'lipides': 27.0, 'proteines': 136.0, 'calories_exercice': 0, 'calories_cardio': 0, 'calories_strength': 0}, {'date': datetime.date(2021, 2, 27), 'masse_totale': 78.08333333333333, 'masse_grasse': 14.733333333333333, 'calories_in': 1814.0, 'glucides': 223.0, 'lipides': 35.0, 'proteines': 143.0, 'calories_exercice': 0, 'calories_cardio': 0, 'calories_strength': 0}, {'date': datetime.date(2021, 2, 28), 'masse_totale': 78.06666666666666, 'masse_grasse': 14.533333333333333, 'calories_in': 1850.0, 'glucides': 228.0, 'lipides': 45.0, 'proteines': 64.0, 'calories_exercice': 0, 'calories_cardio': 0, 'calories_strength': 0}, {'date': datetime.date(2021, 3, 1), 'masse_totale': 77.8, 'masse_grasse': 15.24, 'calories_in': 1888.0, 'glucides': 193.0, 'lipides': 81.0, 'proteines': 86.0, 'calories_exercice': 0, 'calories_cardio': 0, 'calories_strength': 0}, {'date': datetime.date(2021, 3, 2), 'masse_totale': 78.21666666666665, 'masse_grasse': 15.053333333333333, 'calories_in': 1853.0, 'glucides': 140.0, 'lipides': 48.0, 'proteines': 133.0, 'calories_exercice': 0, 'calories_cardio': 0, 'calories_strength': 0}, {'date': datetime.date(2021, 3, 3), 'masse_totale': 77.85, 'masse_grasse': 15.153333333333334, 'calories_in': 1806.0, 'glucides': 198.0, 'lipides': 38.0, 'proteines': 140.0, 'calories_exercice': 0, 'calories_cardio': 0, 'calories_strength': 0}, {'date': datetime.date(2021, 3, 4), 'masse_totale': 77.58333333333333, 'masse_grasse': 14.806666666666667, 'calories_in': 1854.0, 'glucides': 223.0, 'lipides': 53.0, 'proteines': 140.0, 'calories_exercice': 0, 'calories_cardio': 0, 'calories_strength': 0}, {'date': datetime.date(2021, 3, 5), 'masse_totale': 77.7, 'masse_grasse': 14.743333333333334, 'calories_in': 1772.0, 'glucides': 178.0, 'lipides': 55.0, 'proteines': 122.0, 'calories_exercice': 493.0, 'calories_cardio': 0, 'calories_strength': 493.0}, {'date': datetime.date(2021, 3, 6), 'masse_totale': 77.6, 'masse_grasse': 14.933333333333332, 'calories_in': 2013.0, 'glucides': 281.0, 'lipides': 42.0, 'proteines': 123.0, 'calories_exercice': 0, 'calories_cardio': 0, 'calories_strength': 0}, {'date': datetime.date(2021, 3, 7), 'masse_totale': 77.7, 'masse_grasse': 14.433333333333332, 'calories_in': 1868.0, 'glucides': 172.0, 'lipides': 50.0, 'proteines': 145.0, 'calories_exercice': 0, 'calories_cardio': 0, 'calories_strength': 0}, {'date': datetime.date(2021, 3, 8), 'masse_totale': 77.5, 'masse_grasse': 15.036666666666667, 'calories_in': 1829.0, 'glucides': 183.0, 'lipides': 69.0, 'proteines': 101.0, 'calories_exercice': 487.0, 'calories_cardio': 0, 'calories_strength': 487.0}, {'date': datetime.date(2021, 3, 9), 'masse_totale': 78.03333333333335, 'masse_grasse': 14.89, 'calories_in': 1863.0, 'glucides': 154.0, 'lipides': 71.0, 'proteines': 142.0, 'calories_exercice': 0, 'calories_cardio': 0, 'calories_strength': 0}, {'date': datetime.date(2021, 3, 10), 'masse_totale': 77.93333333333334, 'masse_grasse': 14.876666666666665, 'calories_in': 1807.0, 'glucides': 186.0, 'lipides': 39.0, 'proteines': 155.0, 'calories_exercice': 408.0, 'calories_cardio': 408.0, 'calories_strength': 0}, {'date': datetime.date(2021, 3, 11), 'masse_totale': 77.41666666666667, 'masse_grasse': 14.61, 'calories_in': 1584.0, 'glucides': 149.0, 'lipides': 56.0, 'proteines': 158.0, 'calories_exercice': 439.0, 'calories_cardio': 0, 'calories_strength': 439.0}, {'date': datetime.date(2021, 3, 12), 'masse_totale': 77.4, 'masse_grasse': 14.538000000000002, 'calories_in': 1828.0, 'glucides': 183.0, 'lipides': 53.0, 'proteines': 140.0, 'calories_exercice': 0, 'calories_cardio': 0, 'calories_strength': 0}, {'date': datetime.date(2021, 3, 13), 'masse_totale': 77.53333333333332, 'masse_grasse': 14.376666666666665, 'calories_in': 2940.0, 'glucides': 173.0, 'lipides': 90.0, 'proteines': 100.0, 'calories_exercice': 294.0, 'calories_cardio': 0, 'calories_strength': 294.0}, {'date': datetime.date(2021, 3, 14), 'masse_totale': 76.8, 'masse_grasse': 13.173333333333334, 'calories_in': 1786.0, 'glucides': 207.0, 'lipides': 72.0, 'proteines': 74.0, 'calories_exercice': 0, 'calories_cardio': 0, 'calories_strength': 0}, {'date': datetime.date(2021, 3, 15), 'masse_totale': 77.75, 'masse_grasse': 14.64, 'calories_in': 1755.0, 'glucides': 178.0, 'lipides': 57.0, 'proteines': 138.0, 'calories_exercice': 494.0, 'calories_cardio': 0, 'calories_strength': 494.0}, {'date': datetime.date(2021, 3, 16), 'masse_totale': 77.55, 'masse_grasse': 14.563333333333334, 'calories_in': 1832.0, 'glucides': 141.0, 'lipides': 79.0, 'proteines': 135.0, 'calories_exercice': 0, 'calories_cardio': 0, 'calories_strength': 0}, {'date': datetime.date(2021, 3, 17), 'masse_totale': 77.16666666666667, 'masse_grasse': 14.44, 'calories_in': 2210.0, 'glucides': 221.0, 'lipides': 59.0, 'proteines': 125.0, 'calories_exercice': 586.0, 'calories_cardio': 586.0, 'calories_strength': 0}, {'date': datetime.date(2021, 3, 18), 'masse_totale': 76.86666666666666, 'masse_grasse': 13.92, 'calories_in': 1871.0, 'glucides': 158.0, 'lipides': 85.0, 'proteines': 117.0, 'calories_exercice': 297.0, 'calories_cardio': 96.0, 'calories_strength': 201.0}, {'date': datetime.date(2021, 3, 19), 'masse_totale': 76.83333333333333, 'masse_grasse': 14.229999999999999, 'calories_in': 1832.0, 'glucides': 164.0, 'lipides': 68.0, 'proteines': 127.0, 'calories_exercice': 0, 'calories_cardio': 0, 'calories_strength': 0}, {'date': datetime.date(2021, 3, 20), 'masse_totale': 76.64999999999999, 'masse_grasse': 13.936666666666667, 'calories_in': 1844.0, 'glucides': 231.0, 'lipides': 51.0, 'proteines': 101.0, 'calories_exercice': 192.0, 'calories_cardio': 0, 'calories_strength': 192.0}, {'date': datetime.date(2021, 3, 21), 'masse_totale': 76.86666666666666, 'masse_grasse': 14.26, 'calories_in': 1871.0, 'glucides': 207.0, 'lipides': 46.0, 'proteines': 150.0, 'calories_exercice': 475.0, 'calories_cardio': 475.0, 'calories_strength': 0}, {'date': datetime.date(2021, 3, 22), 'masse_totale': 76.93333333333334, 'masse_grasse': 14.043333333333335, 'calories_in': 1804.0, 'glucides': 176.0, 'lipides': 58.0, 'proteines': 141.0, 'calories_exercice': 240.0, 'calories_cardio': 0, 'calories_strength': 240.0}, {'date': datetime.date(2021, 3, 23), 'masse_totale': 77.05, 'masse_grasse': 13.726666666666667, 'calories_in': 1904.0, 'glucides': 282.0, 'lipides': 49.0, 'proteines': 78.0, 'calories_exercice': 519.0, 'calories_cardio': 519.0, 'calories_strength': 0}, {'date': datetime.date(2021, 3, 24), 'masse_totale': 76.86999999999999, 'masse_grasse': 13.735999999999999, 'calories_in': 1789.0, 'glucides': 123.0, 'lipides': 80.0, 'proteines': 146.0, 'calories_exercice': 0, 'calories_cardio': 0, 'calories_strength': 0}, {'date': datetime.date(2021, 3, 25), 'masse_totale': 76.7, 'masse_grasse': 13.949999999999998, 'calories_in': 1785.0, 'glucides': 111.0, 'lipides': 86.0, 'proteines': 135.0, 'calories_exercice': 297.0, 'calories_cardio': 0, 'calories_strength': 297.0}, {'date': datetime.date(2021, 3, 26), 'masse_totale': 76.56666666666666, 'masse_grasse': 13.843333333333334, 'calories_in': 2095.0, 'glucides': 334.0, 'lipides': 42.0, 'proteines': 62.0, 'calories_exercice': 347.0, 'calories_cardio': 347.0, 'calories_strength': 0}, {'date': datetime.date(2021, 3, 27), 'masse_totale': 75.81666666666666, 'masse_grasse': 13.200000000000001, 'calories_in': 1860.0, 'glucides': 132.0, 'lipides': 88.0, 'proteines': 126.0, 'calories_exercice': 0, 'calories_cardio': 0, 'calories_strength': 0}, {'date': datetime.date(2021, 3, 28), 'masse_totale': 76.23333333333333, 'masse_grasse': 13.81, 'calories_in': 1756.0, 'glucides': 118.0, 'lipides': 64.0, 'proteines': 147.0, 'calories_exercice': 0, 'calories_cardio': 0, 'calories_strength': 0}, {'date': datetime.date(2021, 3, 29), 'masse_totale': 76.18333333333334, 'masse_grasse': 13.94, 'calories_in': 1796.0, 'glucides': 132.0, 'lipides': 81.0, 'proteines': 135.0, 'calories_exercice': 328.0, 'calories_cardio': 0, 'calories_strength': 328.0}, {'date': datetime.date(2021, 3, 30), 'masse_totale': 75.81666666666666, 'masse_grasse': 13.92, 'calories_in': 1934.0, 'glucides': 131.0, 'lipides': 72.0, 'proteines': 159.0, 'calories_exercice': 449.0, 'calories_cardio': 449.0, 'calories_strength': 0}, {'date': datetime.date(2021, 3, 31), 'masse_totale': 75.625, 'masse_grasse': 13.697500000000002, 'calories_in': 1824.0, 'glucides': 144.0, 'lipides': 72.0, 'proteines': 145.0, 'calories_exercice': 272.0, 'calories_cardio': 0, 'calories_strength': 272.0}, {'date': datetime.date(2021, 4, 1), 'masse_totale': 75.93333333333334, 'masse_grasse': 13.840000000000002, 'calories_in': 1809.0, 'glucides': 154.0, 'lipides': 70.0, 'proteines': 141.0, 'calories_exercice': 0, 'calories_cardio': 0, 'calories_strength': 0}, {'date': datetime.date(2021, 4, 2), 'masse_totale': 76.25, 'masse_grasse': 12.895, 'calories_in': 1859.0, 'glucides': 284.0, 'lipides': 44.0, 'proteines': 78.0, 'calories_exercice': 0, 'calories_cardio': 0, 'calories_strength': 0}, {'date': datetime.date(2021, 4, 3), 'masse_totale': 76.21666666666665, 'masse_grasse': 13.12, 'calories_in': 1797.0, 'glucides': 220.0, 'lipides': 23.0, 'proteines': 148.0, 'calories_exercice': 344.0, 'calories_cardio': 0, 'calories_strength': 344.0}, {'date': datetime.date(2021, 4, 4), 'masse_totale': 76.03333333333335, 'masse_grasse': 13.49, 'calories_in': 2060.0, 'glucides': 203.0, 'lipides': 59.0, 'proteines': 83.0, 'calories_exercice': 494.0, 'calories_cardio': 494.0, 'calories_strength': 0}, {'date': datetime.date(2021, 4, 5), 'masse_totale': 76.2, 'masse_grasse': 14.053333333333333, 'calories_in': 1782.0, 'glucides': 197.0, 'lipides': 38.0, 'proteines': 153.0, 'calories_exercice': 0, 'calories_cardio': 0, 'calories_strength': 0}, {'date': datetime.date(2021, 4, 6), 'masse_totale': 75.81666666666666, 'masse_grasse': 13.450000000000001, 'calories_in': 1795.0, 'glucides': 183.0, 'lipides': 52.0, 'proteines': 141.0, 'calories_exercice': 241.0, 'calories_cardio': 0, 'calories_strength': 241.0}, {'date': datetime.date(2021, 4, 7), 'masse_totale': 75.78333333333332, 'masse_grasse': 13.526666666666666, 'calories_in': 1772.0, 'glucides': 164.0, 'lipides': 58.0, 'proteines': 132.0, 'calories_exercice': 469.0, 'calories_cardio': 469.0, 'calories_strength': 0}, {'date': datetime.date(2021, 4, 8), 'masse_totale': 75.63333333333334, 'masse_grasse': 13.38, 'calories_in': 1829.0, 'glucides': 161.0, 'lipides': 82.0, 'proteines': 112.0, 'calories_exercice': 0, 'calories_cardio': 0, 'calories_strength': 0}, {'date': datetime.date(2021, 4, 9), 'masse_totale': 75.8, 'masse_grasse': 13.29, 'calories_in': 1789.0, 'glucides': 159.0, 'lipides': 39.0, 'proteines': 153.0, 'calories_exercice': 0, 'calories_cardio': 0, 'calories_strength': 0}, {'date': datetime.date(2021, 4, 10), 'masse_totale': 75.4, 'masse_grasse': 13.61, 'calories_in': 1771.0, 'glucides': 159.0, 'lipides': 39.0, 'proteines': 153.0, 'calories_exercice': 301.0, 'calories_cardio': 0, 'calories_strength': 301.0}, {'date': datetime.date(2021, 4, 11), 'masse_totale': 75.07, 'masse_grasse': 13.618, 'calories_in': 2318.0, 'glucides': 168.0, 'lipides': 47.0, 'proteines': 102.0, 'calories_exercice': 436.0, 'calories_cardio': 436.0, 'calories_strength': 0}, {'date': datetime.date(2021, 4, 12), 'masse_totale': 75.72999999999999, 'masse_grasse': 13.404, 'calories_in': 1802.0, 'glucides': 132.0, 'lipides': 70.0, 'proteines': 135.0, 'calories_exercice': 0, 'calories_cardio': 0, 'calories_strength': 0}, {'date': datetime.date(2021, 4, 13), 'masse_totale': 75.86666666666666, 'masse_grasse': 13.206666666666665, 'calories_in': 1797.0, 'glucides': 232.0, 'lipides': 42.0, 'proteines': 116.0, 'calories_exercice': 143.0, 'calories_cardio': 0, 'calories_strength': 143.0}, {'date': datetime.date(2021, 4, 14), 'masse_totale': 75.63333333333333, 'masse_grasse': 13.030000000000001, 'calories_in': 1780.0, 'glucides': 172.0, 'lipides': 57.0, 'proteines': 137.0, 'calories_exercice': 0, 'calories_cardio': 0, 'calories_strength': 0}, {'date': datetime.date(2021, 4, 15), 'masse_totale': 75.68333333333334, 'masse_grasse': 13.33, 'calories_in': 1901.0, 'glucides': 199.0, 'lipides': 51.0, 'proteines': 168.0, 'calories_exercice': 361.0, 'calories_cardio': 361.0, 'calories_strength': 0}, {'date': datetime.date(2021, 4, 16), 'masse_totale': 75.03333333333335, 'masse_grasse': 13.25, 'calories_in': 1786.0, 'glucides': 177.0, 'lipides': 48.0, 'proteines': 130.0, 'calories_exercice': 0, 'calories_cardio': 0, 'calories_strength': 0}, {'date': datetime.date(2021, 4, 17), 'masse_totale': 75.06666666666666, 'masse_grasse': 13.233333333333334, 'calories_in': 1793.0, 'glucides': 109.0, 'lipides': 70.0, 'proteines': 142.0, 'calories_exercice': 0, 'calories_cardio': 0, 'calories_strength': 0}, {'date': datetime.date(2021, 4, 18), 'masse_totale': 74.43333333333334, 'masse_grasse': 12.933333333333332, 'calories_in': 1827.0, 'glucides': 168.0, 'lipides': 47.0, 'proteines': 111.0, 'calories_exercice': 341.0, 'calories_cardio': 0, 'calories_strength': 341.0}, {'date': datetime.date(2021, 4, 19), 'masse_totale': 74.23333333333333, 'masse_grasse': 12.86, 'calories_in': 1851.0, 'glucides': 205.0, 'lipides': 48.0, 'proteines': 141.0, 'calories_exercice': 0, 'calories_cardio': 0, 'calories_strength': 0}, {'date': datetime.date(2021, 4, 20), 'masse_totale': 75.2, 'masse_grasse': 12.93, 'calories_in': 1825.0, 'glucides': 161.0, 'lipides': 45.0, 'proteines': 138.0, 'calories_exercice': 324.0, 'calories_cardio': 324.0, 'calories_strength': 0}, {'date': datetime.date(2021, 4, 21), 'masse_totale': 75.08333333333333, 'masse_grasse': 12.773333333333333, 'calories_in': 1812.0, 'glucides': 182.0, 'lipides': 54.0, 'proteines': 152.0, 'calories_exercice': 0, 'calories_cardio': 0, 'calories_strength': 0}, {'date': datetime.date(2021, 4, 22), 'masse_totale': 75.13333333333334, 'masse_grasse': 12.829999999999998, 'calories_in': 1784.0, 'glucides': 204.0, 'lipides': 49.0, 'proteines': 129.0, 'calories_exercice': 250.0, 'calories_cardio': 0, 'calories_strength': 250.0}, {'date': datetime.date(2021, 4, 23), 'masse_totale': 74.66666666666667, 'masse_grasse': 12.36, 'calories_in': 1813.0, 'glucides': 200.0, 'lipides': 38.0, 'proteines': 97.0, 'calories_exercice': 0, 'calories_cardio': 0, 'calories_strength': 0}, {'date': datetime.date(2021, 4, 24), 'masse_totale': 74.45, 'masse_grasse': 12.516666666666666, 'calories_in': 1999.0, 'glucides': 188.0, 'lipides': 93.0, 'proteines': 110.0, 'calories_exercice': 734.0, 'calories_cardio': 734.0, 'calories_strength': 0}, {'date': datetime.date(2021, 4, 25), 'masse_totale': 74.08333333333333, 'masse_grasse': 12.200000000000001, 'calories_in': 1789.0, 'glucides': 186.0, 'lipides': 41.0, 'proteines': 116.0, 'calories_exercice': 0, 'calories_cardio': 0, 'calories_strength': 0}, {'date': datetime.date(2021, 4, 26), 'masse_totale': 73.78333333333335, 'masse_grasse': 12.403333333333334, 'calories_in': 1817.0, 'glucides': 154.0, 'lipides': 75.0, 'proteines': 135.0, 'calories_exercice': 0, 'calories_cardio': 0, 'calories_strength': 0}, {'date': datetime.date(2021, 4, 27), 'masse_totale': 74.21666666666665, 'masse_grasse': 12.396666666666667, 'calories_in': 1847.0, 'glucides': 224.0, 'lipides': 49.0, 'proteines': 92.0, 'calories_exercice': 144.0, 'calories_cardio': 0, 'calories_strength': 144.0}, {'date': datetime.date(2021, 4, 28), 'masse_totale': 74.56666666666666, 'masse_grasse': 12.636666666666665, 'calories_in': 1826.0, 'glucides': 180.0, 'lipides': 63.0, 'proteines': 124.0, 'calories_exercice': 0, 'calories_cardio': 0, 'calories_strength': 0}, {'date': datetime.date(2021, 4, 29), 'masse_totale': 74.38333333333334, 'masse_grasse': 12.493333333333334, 'calories_in': 2415.0, 'glucides': 188.0, 'lipides': 47.0, 'proteines': 89.0, 'calories_exercice': 0, 'calories_cardio': 0, 'calories_strength': 0}, {'date': datetime.date(2021, 4, 30), 'masse_totale': 73.98333333333333, 'masse_grasse': 12.06, 'calories_in': 1787.0, 'glucides': 160.0, 'lipides': 75.0, 'proteines': 130.0, 'calories_exercice': 141.0, 'calories_cardio': 0, 'calories_strength': 141.0}, {'date': datetime.date(2021, 5, 1), 'masse_totale': 74.38333333333333, 'masse_grasse': 12.340000000000002, 'calories_in': 1799.0, 'glucides': 101.0, 'lipides': 19.0, 'proteines': 90.0, 'calories_exercice': 0, 'calories_cardio': 0, 'calories_strength': 0}, {'date': datetime.date(2021, 5, 2), 'masse_totale': 74.65, 'masse_grasse': 12.843333333333334, 'calories_in': 1841.0, 'glucides': 212.0, 'lipides': 41.0, 'proteines': 157.0, 'calories_exercice': 649.0, 'calories_cardio': 536.0, 'calories_strength': 113.0}, {'date': datetime.date(2021, 5, 3), 'masse_totale': 74.45, 'masse_grasse': 12.823333333333332, 'calories_in': 1838.0, 'glucides': 172.0, 'lipides': 82.0, 'proteines': 99.0, 'calories_exercice': 0, 'calories_cardio': 0, 'calories_strength': 0}, {'date': datetime.date(2021, 5, 4), 'masse_totale': 74.95, 'masse_grasse': 12.74, 'calories_in': 1830.0, 'glucides': 150.0, 'lipides': 82.0, 'proteines': 114.0, 'calories_exercice': 182.0, 'calories_cardio': 0, 'calories_strength': 182.0}, {'date': datetime.date(2021, 5, 5), 'masse_totale': 74.43333333333334, 'masse_grasse': 12.376666666666667, 'calories_in': 1793.0, 'glucides': 144.0, 'lipides': 75.0, 'proteines': 132.0, 'calories_exercice': 0, 'calories_cardio': 0, 'calories_strength': 0}, {'date': datetime.date(2021, 5, 6), 'masse_totale': 73.76666666666667, 'masse_grasse': 12.173333333333332, 'calories_in': 1825.0, 'glucides': 203.0, 'lipides': 61.0, 'proteines': 113.0, 'calories_exercice': 210.0, 'calories_cardio': 0, 'calories_strength': 210.0}, {'date': datetime.date(2021, 5, 7), 'masse_totale': 73.5, 'masse_grasse': 12.263333333333334, 'calories_in': 1884.0, 'glucides': 245.0, 'lipides': 54.0, 'proteines': 102.0, 'calories_exercice': 0, 'calories_cardio': 0, 'calories_strength': 0}, {'date': datetime.date(2021, 5, 8), 'masse_totale': 73.56666666666666, 'masse_grasse': 12.339999999999998, 'calories_in': 1910.0, 'glucides': 220.0, 'lipides': 55.0, 'proteines': 136.0, 'calories_exercice': 760.0, 'calories_cardio': 760.0, 'calories_strength': 0}, {'date': datetime.date(2021, 5, 9), 'masse_totale': 73.16666666666667, 'masse_grasse': 11.886666666666665, 'calories_in': 1835.0, 'glucides': 166.0, 'lipides': 41.0, 'proteines': 76.0, 'calories_exercice': 0, 'calories_cardio': 0, 'calories_strength': 0}, {'date': datetime.date(2021, 5, 10), 'masse_totale': 73.85, 'masse_grasse': 12.42, 'calories_in': 1900.0, 'glucides': 145.0, 'lipides': 69.0, 'proteines': 128.0, 'calories_exercice': 0, 'calories_cardio': 0, 'calories_strength': 0}, {'date': datetime.date(2021, 5, 11), 'masse_totale': 73.18333333333334, 'masse_grasse': 11.786666666666667, 'calories_in': 1865.0, 'glucides': 162.0, 'lipides': 71.0, 'proteines': 137.0, 'calories_exercice': 0, 'calories_cardio': 0, 'calories_strength': 0}, {'date': datetime.date(2021, 5, 12), 'masse_totale': 73.35, 'masse_grasse': 11.956666666666665, 'calories_in': 1912.0, 'glucides': 240.0, 'lipides': 68.0, 'proteines': 80.0, 'calories_exercice': 0, 'calories_cardio': 0, 'calories_strength': 0}, {'date': datetime.date(2021, 5, 13), 'masse_totale': 73.18333333333334, 'masse_grasse': 12.06, 'calories_in': 1882.0, 'glucides': 156.0, 'lipides': 63.0, 'proteines': 140.0, 'calories_exercice': 217.0, 'calories_cardio': 0, 'calories_strength': 217.0}, {'date': datetime.date(2021, 5, 14), 'masse_totale': 73.64999999999999, 'masse_grasse': 11.996666666666664, 'calories_in': 1811.0, 'glucides': 161.0, 'lipides': 65.0, 'proteines': 76.0, 'calories_exercice': 0, 'calories_cardio': 0, 'calories_strength': 0}, {'date': datetime.date(2021, 5, 15), 'masse_totale': 72.64999999999999, 'masse_grasse': 11.636666666666665, 'calories_in': 1849.0, 'glucides': 159.0, 'lipides': 49.0, 'proteines': 132.0, 'calories_exercice': 200.0, 'calories_cardio': 0, 'calories_strength': 200.0}, {'date': datetime.date(2021, 5, 16), 'masse_totale': 72.60000000000001, 'masse_grasse': 12.08, 'calories_in': 2493.0, 'glucides': 309.0, 'lipides': 60.0, 'proteines': 142.0, 'calories_exercice': 526.0, 'calories_cardio': 526.0, 'calories_strength': 0}, {'date': datetime.date(2021, 5, 17), 'masse_totale': 72.96666666666665, 'masse_grasse': 11.82, 'calories_in': 1838.0, 'glucides': 170.0, 'lipides': 72.0, 'proteines': 123.0, 'calories_exercice': 213.0, 'calories_cardio': 0, 'calories_strength': 213.0}, {'date': datetime.date(2021, 5, 18), 'masse_totale': 72.85000000000001, 'masse_grasse': 11.479999999999999, 'calories_in': 1797.0, 'glucides': 203.0, 'lipides': 55.0, 'proteines': 122.0, 'calories_exercice': 0, 'calories_cardio': 0, 'calories_strength': 0}, {'date': datetime.date(2021, 5, 19), 'masse_totale': 73.66666666666667, 'masse_grasse': 11.733333333333333, 'calories_in': 1961.0, 'glucides': 172.0, 'lipides': 48.0, 'proteines': 169.0, 'calories_exercice': 164.0, 'calories_cardio': 0, 'calories_strength': 164.0}, {'date': datetime.date(2021, 5, 20), 'masse_totale': 73.25, 'masse_grasse': 11.853333333333333, 'calories_in': 1778.0, 'glucides': 148.0, 'lipides': 68.0, 'proteines': 139.0, 'calories_exercice': 0, 'calories_cardio': 0, 'calories_strength': 0}, {'date': datetime.date(2021, 5, 21), 'masse_totale': 72.78333333333335, 'masse_grasse': 11.413333333333334, 'calories_in': 2531.0, 'glucides': 309.0, 'lipides': 60.0, 'proteines': 121.0, 'calories_exercice': 277.0, 'calories_cardio': 0, 'calories_strength': 277.0}, {'date': datetime.date(2021, 5, 22), 'masse_totale': 72.63333333333334, 'masse_grasse': 10.326666666666668, 'calories_in': 1919.0, 'glucides': 63.0, 'lipides': 48.0, 'proteines': 102.0, 'calories_exercice': 0, 'calories_cardio': 0, 'calories_strength': 0}, {'date': datetime.date(2021, 5, 23), 'masse_totale': 73.18333333333334, 'masse_grasse': 11.006666666666666, 'calories_in': 1976.0, 'glucides': 156.0, 'lipides': 69.0, 'proteines': 143.0, 'calories_exercice': 828.0, 'calories_cardio': 828.0, 'calories_strength': 0}, {'date': datetime.date(2021, 5, 24), 'masse_totale': 73.35, 'masse_grasse': 11.81, 'calories_in': 1812.0, 'glucides': 152.0, 'lipides': 57.0, 'proteines': 154.0, 'calories_exercice': 283.0, 'calories_cardio': 0, 'calories_strength': 283.0}, {'date': datetime.date(2021, 5, 25), 'masse_totale': 72.56666666666666, 'masse_grasse': 11.013333333333334, 'calories_in': 1820.0, 'glucides': 191.0, 'lipides': 48.0, 'proteines': 152.0, 'calories_exercice': 0, 'calories_cardio': 0, 'calories_strength': 0}, {'date': datetime.date(2021, 5, 26), 'masse_totale': 72.9, 'masse_grasse': 11.209999999999999, 'calories_in': 1797.0, 'glucides': 163.0, 'lipides': 49.0, 'proteines': 156.0, 'calories_exercice': 354.0, 'calories_cardio': 0, 'calories_strength': 354.0}, {'date': datetime.date(2021, 5, 27), 'masse_totale': 71.95, 'masse_grasse': 11.253333333333332, 'calories_in': 1857.0, 'glucides': 186.0, 'lipides': 42.0, 'proteines': 145.0, 'calories_exercice': 0, 'calories_cardio': 0, 'calories_strength': 0}, {'date': datetime.date(2021, 5, 28), 'masse_totale': 72.43333333333334, 'masse_grasse': 11.146666666666667, 'calories_in': 1824.0, 'glucides': 197.0, 'lipides': 49.0, 'proteines': 148.0, 'calories_exercice': 0, 'calories_cardio': 0, 'calories_strength': 0}, {'date': datetime.date(2021, 5, 29), 'masse_totale': 72.41666666666667, 'masse_grasse': 11.326666666666666, 'calories_in': 2342.0, 'glucides': 174.0, 'lipides': 71.0, 'proteines': 129.0, 'calories_exercice': 343.0, 'calories_cardio': 0, 'calories_strength': 343.0}, {'date': datetime.date(2021, 5, 30), 'masse_totale': 72.4, 'masse_grasse': 11.3, 'calories_in': 1888.0, 'glucides': 183.0, 'lipides': 46.0, 'proteines': 143.0, 'calories_exercice': 494.0, 'calories_cardio': 494.0, 'calories_strength': 0}, {'date': datetime.date(2021, 5, 31), 'masse_totale': 72.53333333333333, 'masse_grasse': 11.323333333333332, 'calories_in': 1812.0, 'glucides': 208.0, 'lipides': 45.0, 'proteines': 142.0, 'calories_exercice': 251.0, 'calories_cardio': 0, 'calories_strength': 251.0}, {'date': datetime.date(2021, 6, 1), 'masse_totale': 72.53333333333333, 'masse_grasse': 11.12, 'calories_in': 1985.0, 'glucides': 231.0, 'lipides': 57.0, 'proteines': 145.0, 'calories_exercice': 0, 'calories_cardio': 0, 'calories_strength': 0}, {'date': datetime.date(2021, 6, 2), 'masse_totale': 72.89999999999999, 'masse_grasse': 11.26, 'calories_in': 1825.0, 'glucides': 179.0, 'lipides': 52.0, 'proteines': 155.0, 'calories_exercice': 262.0, 'calories_cardio': 0, 'calories_strength': 262.0}, {'date': datetime.date(2021, 6, 3), 'masse_totale': 72.7125, 'masse_grasse': 11.299999999999999, 'calories_in': 1788.0, 'glucides': 173.0, 'lipides': 42.0, 'proteines': 139.0, 'calories_exercice': 0, 'calories_cardio': 0, 'calories_strength': 0}, {'date': datetime.date(2021, 6, 4), 'masse_totale': 72.66666666666667, 'masse_grasse': 11.31, 'calories_in': 2063.0, 'glucides': 249.0, 'lipides': 48.0, 'proteines': 59.0, 'calories_exercice': 0, 'calories_cardio': 0, 'calories_strength': 0}, {'date': datetime.date(2021, 6, 5), 'masse_totale': 72.93333333333334, 'masse_grasse': 10.633333333333333, 'calories_in': 2005.0, 'glucides': 236.0, 'lipides': 56.0, 'proteines': 98.0, 'calories_exercice': 568.0, 'calories_cardio': 568.0, 'calories_strength': 0}, {'date': datetime.date(2021, 6, 6), 'masse_totale': 72.26666666666667, 'masse_grasse': 11.433333333333332, 'calories_in': 1855.0, 'glucides': 165.0, 'lipides': 44.0, 'proteines': 166.0, 'calories_exercice': 229.0, 'calories_cardio': 0, 'calories_strength': 229.0}, {'date': datetime.date(2021, 6, 7), 'masse_totale': 71.76666666666667, 'masse_grasse': 11.083333333333334, 'calories_in': 1936.0, 'glucides': 188.0, 'lipides': 70.0, 'proteines': 142.0, 'calories_exercice': 0, 'calories_cardio': 0, 'calories_strength': 0}, {'date': datetime.date(2021, 6, 8), 'masse_totale': 72.18333333333332, 'masse_grasse': 11.06, 'calories_in': 2019.0, 'glucides': 174.0, 'lipides': 77.0, 'proteines': 127.0, 'calories_exercice': 0, 'calories_cardio': 0, 'calories_strength': 0}, {'date': datetime.date(2021, 6, 9), 'masse_totale': 72.38333333333334, 'masse_grasse': 11.316666666666668, 'calories_in': 1786.0, 'glucides': 180.0, 'lipides': 55.0, 'proteines': 143.0, 'calories_exercice': 334.0, 'calories_cardio': 0, 'calories_strength': 334.0}, {'date': datetime.date(2021, 6, 10), 'masse_totale': 71.9125, 'masse_grasse': 11.1775, 'calories_in': 1860.0, 'glucides': 253.0, 'lipides': 37.0, 'proteines': 133.0, 'calories_exercice': 0, 'calories_cardio': 0, 'calories_strength': 0}, {'date': datetime.date(2021, 6, 11), 'masse_totale': 72.21666666666668, 'masse_grasse': 10.950000000000001, 'calories_in': 1975.0, 'glucides': 184.0, 'lipides': 60.0, 'proteines': 138.0, 'calories_exercice': 285.0, 'calories_cardio': 0, 'calories_strength': 285.0}, {'date': datetime.date(2021, 6, 12), 'masse_totale': 71.825, 'masse_grasse': 11.2325, 'calories_in': 2124.0, 'glucides': 215.0, 'lipides': 53.0, 'proteines': 162.0, 'calories_exercice': 842.0, 'calories_cardio': 842.0, 'calories_strength': 0}, {'date': datetime.date(2021, 6, 13), 'masse_totale': 71.45, 'masse_grasse': 11.106666666666667, 'calories_in': 1954.0, 'glucides': 153.0, 'lipides': 54.0, 'proteines': 120.0, 'calories_exercice': 0, 'calories_cardio': 0, 'calories_strength': 0}, {'date': datetime.date(2021, 6, 14), 'masse_totale': 71.55, 'masse_grasse': 10.753333333333332, 'calories_in': 1810.0, 'glucides': 197.0, 'lipides': 40.0, 'proteines': 116.0, 'calories_exercice': 0, 'calories_cardio': 0, 'calories_strength': 0}, {'date': datetime.date(2021, 6, 15), 'masse_totale': 71.61666666666666, 'masse_grasse': 10.299999999999999, 'calories_in': 2096.0, 'glucides': 129.0, 'lipides': 50.0, 'proteines': 142.0, 'calories_exercice': 244.0, 'calories_cardio': 0, 'calories_strength': 244.0}, {'date': datetime.date(2021, 6, 16), 'masse_totale': 72.31666666666666, 'masse_grasse': 10.246666666666668, 'calories_in': 1947.0, 'glucides': 186.0, 'lipides': 64.0, 'proteines': 151.0, 'calories_exercice': 0, 'calories_cardio': 0, 'calories_strength': 0}, {'date': datetime.date(2021, 6, 17), 'masse_totale': 71.35000000000001, 'masse_grasse': 10.433333333333332, 'calories_in': 1865.0, 'glucides': 152.0, 'lipides': 79.0, 'proteines': 134.0, 'calories_exercice': 0, 'calories_cardio': 0, 'calories_strength': 0}, {'date': datetime.date(2021, 6, 18), 'masse_totale': 71.43333333333334, 'masse_grasse': 10.746666666666668, 'calories_in': 1869.0, 'glucides': 148.0, 'lipides': 59.0, 'proteines': 151.0, 'calories_exercice': 285.0, 'calories_cardio': 285.0, 'calories_strength': 0}, {'date': datetime.date(2021, 6, 19), 'masse_totale': 71.13333333333334, 'masse_grasse': 10.413333333333334, 'calories_in': 1950.0, 'glucides': 213.0, 'lipides': 106.0, 'proteines': 171.0, 'calories_exercice': 556.0, 'calories_cardio': 240.0, 'calories_strength': 316.0}, {'date': datetime.date(2021, 6, 20), 'masse_totale': 71.95, 'masse_grasse': 9.81, 'calories_in': 2026.0, 'glucides': 187.0, 'lipides': 37.0, 'proteines': 116.0, 'calories_exercice': 556.0, 'calories_cardio': 556.0, 'calories_strength': 0}, {'date': datetime.date(2021, 6, 21), 'masse_totale': 72.18333333333334, 'masse_grasse': 10.969999999999999, 'calories_in': 2051.0, 'glucides': 157.0, 'lipides': 70.0, 'proteines': 141.0, 'calories_exercice': 0, 'calories_cardio': 0, 'calories_strength': 0}, {'date': datetime.date(2021, 6, 22), 'masse_totale': 71.56666666666666, 'masse_grasse': 10.943333333333333, 'calories_in': 1834.0, 'glucides': 220.0, 'lipides': 33.0, 'proteines': 137.0, 'calories_exercice': 0, 'calories_cardio': 0, 'calories_strength': 0}, {'date': datetime.date(2021, 6, 23), 'masse_totale': 71.16666666666667, 'masse_grasse': 10.933333333333332, 'calories_in': 1968.0, 'glucides': 187.0, 'lipides': 64.0, 'proteines': 118.0, 'calories_exercice': 563.0, 'calories_cardio': 563.0, 'calories_strength': 0}, {'date': datetime.date(2021, 6, 24), 'masse_totale': 70.95, 'masse_grasse': 11.036666666666667, 'calories_in': 1954.0, 'glucides': 149.0, 'lipides': 71.0, 'proteines': 93.0, 'calories_exercice': 96.0, 'calories_cardio': 0, 'calories_strength': 96.0}, {'date': datetime.date(2021, 6, 25), 'masse_totale': 71.18333333333332, 'masse_grasse': 10.873333333333335, 'calories_in': 2244.0, 'glucides': 199.0, 'lipides': 39.0, 'proteines': 101.0, 'calories_exercice': 260.0, 'calories_cardio': 0, 'calories_strength': 260.0}, {'date': datetime.date(2021, 6, 26), 'masse_totale': 71.68333333333334, 'masse_grasse': 10.12, 'calories_in': 2600.0, 'glucides': 196.0, 'lipides': 35.0, 'proteines': 161.0, 'calories_exercice': 0, 'calories_cardio': 0, 'calories_strength': 0}, {'date': datetime.date(2021, 6, 27), 'masse_totale': 71.88333333333334, 'masse_grasse': 9.643333333333333, 'calories_in': 2257.0, 'glucides': 273.0, 'lipides': 43.0, 'proteines': 189.0, 'calories_exercice': 1030.0, 'calories_cardio': 1030.0, 'calories_strength': 0}, {'date': datetime.date(2021, 6, 28), 'masse_totale': 72.25, 'masse_grasse': 11.223333333333334, 'calories_in': 1794.0, 'glucides': 181.0, 'lipides': 37.0, 'proteines': 155.0, 'calories_exercice': 0, 'calories_cardio': 0, 'calories_strength': 0}, {'date': datetime.date(2021, 6, 29), 'masse_totale': 71.75, 'masse_grasse': 10.92, 'calories_in': 1838.0, 'glucides': 187.0, 'lipides': 49.0, 'proteines': 142.0, 'calories_exercice': 404.0, 'calories_cardio': 404.0, 'calories_strength': 0}, {'date': datetime.date(2021, 6, 30), 'masse_totale': 71.61666666666667, 'masse_grasse': 11.100000000000001, 'calories_in': 1908.0, 'glucides': 196.0, 'lipides': 50.0, 'proteines': 130.0, 'calories_exercice': 411.0, 'calories_cardio': 0, 'calories_strength': 411.0}, {'date': datetime.date(2021, 7, 1), 'masse_totale': 71.51666666666667, 'masse_grasse': 10.82, 'calories_in': 1850.0, 'glucides': 225.0, 'lipides': 33.0, 'proteines': 125.0, 'calories_exercice': 0, 'calories_cardio': 0, 'calories_strength': 0}, {'date': datetime.date(2021, 7, 2), 'masse_totale': 71.1, 'masse_grasse': 10.856666666666667, 'calories_in': 1960.0, 'glucides': 245.0, 'lipides': 51.0, 'proteines': 134.0, 'calories_exercice': 654.0, 'calories_cardio': 654.0, 'calories_strength': 0}, {'date': datetime.date(2021, 7, 3), 'masse_totale': 70.65, 'masse_grasse': 10.453333333333333, 'calories_in': 1852.0, 'glucides': 178.0, 'lipides': 40.0, 'proteines': 158.0, 'calories_exercice': 0, 'calories_cardio': 0, 'calories_strength': 0}, {'date': datetime.date(2021, 7, 4), 'masse_totale': 70.03333333333335, 'masse_grasse': 10.446666666666665, 'calories_in': 2072.0, 'glucides': 153.0, 'lipides': 51.0, 'proteines': 118.0, 'calories_exercice': 926.0, 'calories_cardio': 516.0, 'calories_strength': 410.0}, {'date': datetime.date(2021, 7, 5), 'masse_totale': 70.28333333333333, 'masse_grasse': 10.459999999999999, 'calories_in': 1904.0, 'glucides': 184.0, 'lipides': 35.0, 'proteines': 111.0, 'calories_exercice': 0, 'calories_cardio': 0, 'calories_strength': 0}, {'date': datetime.date(2021, 7, 6), 'masse_totale': 70.75, 'masse_grasse': 9.57, 'calories_in': 1846.0, 'glucides': 209.0, 'lipides': 42.0, 'proteines': 155.0, 'calories_exercice': 605.0, 'calories_cardio': 204.0, 'calories_strength': 401.0}, {'date': datetime.date(2021, 7, 7), 'masse_totale': 70.28333333333333, 'masse_grasse': 10.133333333333333, 'calories_in': 1932.0, 'glucides': 166.0, 'lipides': 66.0, 'proteines': 173.0, 'calories_exercice': 507.0, 'calories_cardio': 507.0, 'calories_strength': 0}, {'date': datetime.date(2021, 7, 8), 'masse_totale': 70.33333333333333, 'masse_grasse': 10.393333333333333, 'calories_in': 1954.0, 'glucides': 143.0, 'lipides': 48.0, 'proteines': 144.0, 'calories_exercice': 0, 'calories_cardio': 0, 'calories_strength': 0}, {'date': datetime.date(2021, 7, 9), 'masse_totale': 70.8, 'masse_grasse': 10.35, 'calories_in': 1740.0, 'glucides': 158.0, 'lipides': 52.0, 'proteines': 56.0, 'calories_exercice': 200.0, 'calories_cardio': 200.0, 'calories_strength': 0}, {'date': datetime.date(2021, 7, 10), 'masse_totale': 71.2, 'masse_grasse': 10.3, 'calories_in': 2261.0, 'glucides': 118.0, 'lipides': 88.0, 'proteines': 146.0, 'calories_exercice': 150.0, 'calories_cardio': 150.0, 'calories_strength': 0}, {'date': datetime.date(2021, 7, 11), 'masse_totale': 71.6, 'masse_grasse': 10.25, 'calories_in': 1710.0, 'glucides': 190.0, 'lipides': 51.0, 'proteines': 121.0, 'calories_exercice': 0, 'calories_cardio': 0, 'calories_strength': 0}, {'date': datetime.date(2021, 7, 12), 'masse_totale': 72.03333333333333, 'masse_grasse': 10.206666666666667, 'calories_in': 1795.0, 'glucides': 139.0, 'lipides': 53.0, 'proteines': 166.0, 'calories_exercice': 610.0, 'calories_cardio': 252.0, 'calories_strength': 358.0}, {'date': datetime.date(2021, 7, 13), 'masse_totale': 70.8, 'masse_grasse': 10.19, 'calories_in': 1789.0, 'glucides': 154.0, 'lipides': 33.0, 'proteines': 181.0, 'calories_exercice': 0, 'calories_cardio': 0, 'calories_strength': 0}, {'date': datetime.date(2021, 7, 14), 'masse_totale': 70.78333333333335, 'masse_grasse': 10.363333333333335, 'calories_in': 1791.0, 'glucides': 108.0, 'lipides': 70.0, 'proteines': 180.0, 'calories_exercice': 724.0, 'calories_cardio': 351.0, 'calories_strength': 373.0}, {'date': datetime.date(2021, 7, 15), 'masse_totale': 70.06666666666666, 'masse_grasse': 10.173333333333334, 'calories_in': 1783.0, 'glucides': 161.0, 'lipides': 42.0, 'proteines': 148.0, 'calories_exercice': 0, 'calories_cardio': 0, 'calories_strength': 0}, {'date': datetime.date(2021, 7, 16), 'masse_totale': 70.66666666666667, 'masse_grasse': 9.85, 'calories_in': 1800.0, 'glucides': 142.0, 'lipides': 58.0, 'proteines': 181.0, 'calories_exercice': 571.0, 'calories_cardio': 322.0, 'calories_strength': 249.0}, {'date': datetime.date(2021, 7, 17), 'masse_totale': 69.78333333333333, 'masse_grasse': 9.943333333333333, 'calories_in': 1789.0, 'glucides': 188.0, 'lipides': 32.0, 'proteines': 152.0, 'calories_exercice': 0, 'calories_cardio': 0, 'calories_strength': 0}, {'date': datetime.date(2021, 7, 18), 'masse_totale': 70.5, 'masse_grasse': 10.17, 'calories_in': 1798.0, 'glucides': 146.0, 'lipides': 35.0, 'proteines': 189.0, 'calories_exercice': 0, 'calories_cardio': 0, 'calories_strength': 0}, {'date': datetime.date(2021, 7, 19), 'masse_totale': 69.61666666666667, 'masse_grasse': 10.086666666666666, 'calories_in': 1882.0, 'glucides': 161.0, 'lipides': 46.0, 'proteines': 156.0, 'calories_exercice': 662.0, 'calories_cardio': 352.0, 'calories_strength': 310.0}, {'date': datetime.date(2021, 7, 20), 'masse_totale': 69.3, 'masse_grasse': 9.933333333333335, 'calories_in': 1802.0, 'glucides': 179.0, 'lipides': 44.0, 'proteines': 170.0, 'calories_exercice': 0, 'calories_cardio': 0, 'calories_strength': 0}, {'date': datetime.date(2021, 7, 21), 'masse_totale': 69.7, 'masse_grasse': 9.76, 'calories_in': 1796.0, 'glucides': 143.0, 'lipides': 41.0, 'proteines': 144.0, 'calories_exercice': 150.0, 'calories_cardio': 150.0, 'calories_strength': 0}, {'date': datetime.date(2021, 7, 22), 'masse_totale': 70.31666666666666, 'masse_grasse': 9.193333333333333, 'calories_in': 1797.0, 'glucides': 208.0, 'lipides': 46.0, 'proteines': 151.0, 'calories_exercice': 358.0, 'calories_cardio': 0, 'calories_strength': 358.0}, {'date': datetime.date(2021, 7, 23), 'masse_totale': 70.65, 'masse_grasse': 9.56, 'calories_in': 1795.0, 'glucides': 157.0, 'lipides': 50.0, 'proteines': 159.0, 'calories_exercice': 255.0, 'calories_cardio': 0, 'calories_strength': 255.0}, {'date': datetime.date(2021, 7, 24), 'masse_totale': 70.08333333333333, 'masse_grasse': 9.056666666666667, 'calories_in': 1801.0, 'glucides': 168.0, 'lipides': 47.0, 'proteines': 146.0, 'calories_exercice': 0, 'calories_cardio': 0, 'calories_strength': 0}, {'date': datetime.date(2021, 7, 25), 'masse_totale': 70.03333333333333, 'masse_grasse': 9.24, 'calories_in': 1802.0, 'glucides': 160.0, 'lipides': 39.0, 'proteines': 160.0, 'calories_exercice': 0, 'calories_cardio': 0, 'calories_strength': 0}, {'date': datetime.date(2021, 7, 26), 'masse_totale': 68.96249999999999, 'masse_grasse': 9.700000000000001, 'calories_in': 1800.0, 'glucides': 144.0, 'lipides': 42.0, 'proteines': 182.0, 'calories_exercice': 776.0, 'calories_cardio': 291.0, 'calories_strength': 485.0}, {'date': datetime.date(2021, 7, 27), 'masse_totale': 69.0125, 'masse_grasse': 9.532499999999999, 'calories_in': 1812.0, 'glucides': 178.0, 'lipides': 47.0, 'proteines': 175.0, 'calories_exercice': 210.0, 'calories_cardio': 210.0, 'calories_strength': 0}, {'date': datetime.date(2021, 7, 28), 'masse_totale': 69.8, 'masse_grasse': 9.6, 'calories_in': 1801.0, 'glucides': 153.0, 'lipides': 56.0, 'proteines': 170.0, 'calories_exercice': 333.0, 'calories_cardio': 0, 'calories_strength': 333.0}, {'date': datetime.date(2021, 7, 29), 'masse_totale': 68.58333333333333, 'masse_grasse': 9.313333333333334, 'calories_in': 1800.0, 'glucides': 199.0, 'lipides': 43.0, 'proteines': 157.0, 'calories_exercice': 0, 'calories_cardio': 0, 'calories_strength': 0}, {'date': datetime.date(2021, 7, 30), 'masse_totale': 68.71666666666665, 'masse_grasse': 9.026666666666666, 'calories_in': 1802.0, 'glucides': 160.0, 'lipides': 46.0, 'proteines': 155.0, 'calories_exercice': 405.0, 'calories_cardio': 0, 'calories_strength': 405.0}, {'date': datetime.date(2021, 7, 31), 'masse_totale': 68.88333333333333, 'masse_grasse': 8.886666666666665, 'calories_in': 1986.0, 'glucides': 106.0, 'lipides': 61.0, 'proteines': 133.0, 'calories_exercice': 347.0, 'calories_cardio': 347.0, 'calories_strength': 0}, {'date': datetime.date(2021, 8, 1), 'masse_totale': 68.71666666666667, 'masse_grasse': 9.243333333333334, 'calories_in': 1803.0, 'glucides': 100.0, 'lipides': 65.0, 'proteines': 150.0, 'calories_exercice': 0, 'calories_cardio': 0, 'calories_strength': 0}, {'date': datetime.date(2021, 8, 2), 'masse_totale': 68.41666666666667, 'masse_grasse': 9.353333333333333, 'calories_in': 1796.0, 'glucides': 198.0, 'lipides': 55.0, 'proteines': 162.0, 'calories_exercice': 486.0, 'calories_cardio': 0, 'calories_strength': 486.0}, {'date': datetime.date(2021, 8, 3), 'masse_totale': 68.16666666666667, 'masse_grasse': 8.866666666666667, 'calories_in': 1930.0, 'glucides': 155.0, 'lipides': 53.0, 'proteines': 156.0, 'calories_exercice': 0, 'calories_cardio': 0, 'calories_strength': 0}, {'date': datetime.date(2021, 8, 4), 'masse_totale': 68.38333333333334, 'masse_grasse': 8.65, 'calories_in': 1801.0, 'glucides': 171.0, 'lipides': 43.0, 'proteines': 157.0, 'calories_exercice': 493.0, 'calories_cardio': 0, 'calories_strength': 493.0}, {'date': datetime.date(2021, 8, 5), 'masse_totale': 68.35, 'masse_grasse': 8.87, 'calories_in': 1802.0, 'glucides': 170.0, 'lipides': 54.0, 'proteines': 166.0, 'calories_exercice': 0, 'calories_cardio': 0, 'calories_strength': 0}, {'date': datetime.date(2021, 8, 6), 'masse_totale': 68.93333333333334, 'masse_grasse': 8.666666666666666, 'calories_in': 1888.0, 'glucides': 176.0, 'lipides': 45.0, 'proteines': 196.0, 'calories_exercice': 729.0, 'calories_cardio': 0, 'calories_strength': 729.0}, {'date': datetime.date(2021, 8, 7), 'masse_totale': 68.78333333333335, 'masse_grasse': 8.700000000000001, 'calories_in': 2517.0, 'glucides': 315.0, 'lipides': 74.0, 'proteines': 141.0, 'calories_exercice': 340.0, 'calories_cardio': 340.0, 'calories_strength': 0}, {'date': datetime.date(2021, 8, 8), 'masse_totale': 69.23333333333333, 'masse_grasse': 8.87, 'calories_in': 1803.0, 'glucides': 180.0, 'lipides': 42.0, 'proteines': 136.0, 'calories_exercice': 0, 'calories_cardio': 0, 'calories_strength': 0}, {'date': datetime.date(2021, 8, 9), 'masse_totale': 69.48333333333333, 'masse_grasse': 8.78, 'calories_in': 1819.0, 'glucides': 165.0, 'lipides': 49.0, 'proteines': 160.0, 'calories_exercice': 532.0, 'calories_cardio': 0, 'calories_strength': 532.0}, {'date': datetime.date(2021, 8, 10), 'masse_totale': 68.93333333333334, 'masse_grasse': 8.606666666666667, 'calories_in': 1801.0, 'glucides': 173.0, 'lipides': 65.0, 'proteines': 141.0, 'calories_exercice': 0, 'calories_cardio': 0, 'calories_strength': 0}, {'date': datetime.date(2021, 8, 11), 'masse_totale': 69.26666666666667, 'masse_grasse': 8.6, 'calories_in': 1798.0, 'glucides': 179.0, 'lipides': 37.0, 'proteines': 183.0, 'calories_exercice': 569.0, 'calories_cardio': 0, 'calories_strength': 569.0}, {'date': datetime.date(2021, 8, 12), 'masse_totale': 68.56666666666666, 'masse_grasse': 8.416666666666666, 'calories_in': 1793.0, 'glucides': 168.0, 'lipides': 56.0, 'proteines': 149.0, 'calories_exercice': 0, 'calories_cardio': 0, 'calories_strength': 0}, {'date': datetime.date(2021, 8, 13), 'masse_totale': 69.19, 'masse_grasse': 8.688, 'calories_in': 1792.0, 'glucides': 136.0, 'lipides': 55.0, 'proteines': 188.0, 'calories_exercice': 640.0, 'calories_cardio': 0, 'calories_strength': 640.0}, {'date': datetime.date(2021, 8, 14), 'masse_totale': 68.91666666666667, 'masse_grasse': 8.653333333333334, 'calories_in': 1803.0, 'glucides': 112.0, 'lipides': 28.0, 'proteines': 148.0, 'calories_exercice': 280.0, 'calories_cardio': 280.0, 'calories_strength': 0}, {'date': datetime.date(2021, 8, 15), 'masse_totale': 69.51666666666667, 'masse_grasse': 8.840000000000002, 'calories_in': 1808.0, 'glucides': 135.0, 'lipides': 45.0, 'proteines': 185.0, 'calories_exercice': 0, 'calories_cardio': 0, 'calories_strength': 0}, {'date': datetime.date(2021, 8, 16), 'masse_totale': 69.08749999999999, 'masse_grasse': 8.8, 'calories_in': 1803.0, 'glucides': 180.0, 'lipides': 42.0, 'proteines': 178.0, 'calories_exercice': 609.0, 'calories_cardio': 0, 'calories_strength': 609.0}, {'date': datetime.date(2021, 8, 17), 'masse_totale': 68.8, 'masse_grasse': 8.7, 'calories_in': 1802.0, 'glucides': 207.0, 'lipides': 39.0, 'proteines': 149.0, 'calories_exercice': 0, 'calories_cardio': 0, 'calories_strength': 0}, {'date': datetime.date(2021, 8, 18), 'masse_totale': 69.66666666666667, 'masse_grasse': 8.92, 'calories_in': 1802.0, 'glucides': 194.0, 'lipides': 53.0, 'proteines': 130.0, 'calories_exercice': 0, 'calories_cardio': 0, 'calories_strength': 0}, {'date': datetime.date(2021, 8, 19), 'masse_totale': 69.55, 'masse_grasse': 8.910000000000002, 'calories_in': 1801.0, 'glucides': 127.0, 'lipides': 75.0, 'proteines': 149.0, 'calories_exercice': 0, 'calories_cardio': 0, 'calories_strength': 0}, {'date': datetime.date(2021, 8, 20), 'masse_totale': 69.18, 'masse_grasse': 8.68, 'calories_in': 1814.0, 'glucides': 154.0, 'lipides': 64.0, 'proteines': 139.0, 'calories_exercice': 0, 'calories_cardio': 0, 'calories_strength': 0}, {'date': datetime.date(2021, 8, 21), 'masse_totale': 68.95, 'masse_grasse': 7.8759999999999994, 'calories_in': 2509.0, 'glucides': 114.0, 'lipides': 75.0, 'proteines': 225.0, 'calories_exercice': 0, 'calories_cardio': 0, 'calories_strength': 0}, {'date': datetime.date(2021, 8, 22), 'masse_totale': 70.06000000000002, 'masse_grasse': 8.404, 'calories_in': 1399.0, 'glucides': 226.0, 'lipides': 25.0, 'proteines': 32.0, 'calories_exercice': 0, 'calories_cardio': 0, 'calories_strength': 0}, {'date': datetime.date(2021, 8, 23), 'masse_totale': 68.62, 'masse_grasse': 8.822, 'calories_in': 1791.0, 'glucides': 165.0, 'lipides': 36.0, 'proteines': 139.0, 'calories_exercice': 0, 'calories_cardio': 0, 'calories_strength': 0}, {'date': datetime.date(2021, 8, 24), 'masse_totale': 68.3, 'masse_grasse': 8.55, 'calories_in': 1741.0, 'glucides': 159.0, 'lipides': 44.0, 'proteines': 176.0, 'calories_exercice': 0, 'calories_cardio': 0, 'calories_strength': 0}, {'date': datetime.date(2021, 8, 25), 'masse_totale': 68.08999999999999, 'masse_grasse': 8.331999999999999, 'calories_in': 1837.0, 'glucides': 147.0, 'lipides': 41.0, 'proteines': 152.0, 'calories_exercice': 0, 'calories_cardio': 0, 'calories_strength': 0}, {'date': datetime.date(2021, 8, 26), 'masse_totale': 68.28999999999999, 'masse_grasse': 8.562000000000001, 'calories_in': 1820.0, 'glucides': 43.0, 'lipides': 76.0, 'proteines': 169.0, 'calories_exercice': 0, 'calories_cardio': 0, 'calories_strength': 0}, {'date': datetime.date(2021, 8, 27), 'masse_totale': 68.325, 'masse_grasse': 8.38, 'calories_in': 1903.0, 'glucides': 256.0, 'lipides': 8.0, 'proteines': 137.0, 'calories_exercice': 0, 'calories_cardio': 0, 'calories_strength': 0}, {'date': datetime.date(2021, 8, 28), 'masse_totale': 69.4, 'masse_grasse': 8.372, 'calories_in': 1818.0, 'glucides': 124.0, 'lipides': 55.0, 'proteines': 148.0, 'calories_exercice': 0, 'calories_cardio': 0, 'calories_strength': 0}, {'date': datetime.date(2021, 8, 29), 'masse_totale': 68.96666666666665, 'masse_grasse': 8.708333333333334, 'calories_in': 1793.0, 'glucides': 138.0, 'lipides': 41.0, 'proteines': 136.0, 'calories_exercice': 0, 'calories_cardio': 0, 'calories_strength': 0}, {'date': datetime.date(2021, 8, 30), 'masse_totale': 68.32142857142857, 'masse_grasse': 8.807142857142859, 'calories_in': 1809.0, 'glucides': 92.0, 'lipides': 86.0, 'proteines': 158.0, 'calories_exercice': 0, 'calories_cardio': 0, 'calories_strength': 0}, {'date': datetime.date(2021, 8, 31), 'masse_totale': 67.88571428571429, 'masse_grasse': 8.368571428571427, 'calories_in': 1803.0, 'glucides': 148.0, 'lipides': 57.0, 'proteines': 185.0, 'calories_exercice': 563.0, 'calories_cardio': 0, 'calories_strength': 563.0}, {'date': datetime.date(2021, 9, 1), 'masse_totale': 67.425, 'masse_grasse': 8.145, 'calories_in': 1835.0, 'glucides': 142.0, 'lipides': 49.0, 'proteines': 165.0, 'calories_exercice': 527.0, 'calories_cardio': 0, 'calories_strength': 527.0}, {'date': datetime.date(2021, 9, 2), 'masse_totale': 67.87, 'masse_grasse': 8.315999999999999, 'calories_in': 1802.0, 'glucides': 156.0, 'lipides': 40.0, 'proteines': 179.0, 'calories_exercice': 0, 'calories_cardio': 0, 'calories_strength': 0}, {'date': datetime.date(2021, 9, 3), 'masse_totale': 67.77499999999999, 'masse_grasse': 8.506666666666666, 'calories_in': 1814.0, 'glucides': 209.0, 'lipides': 44.0, 'proteines': 110.0, 'calories_exercice': 0, 'calories_cardio': 0, 'calories_strength': 0}, {'date': datetime.date(2021, 9, 4), 'masse_totale': 67.89285714285714, 'masse_grasse': 8.215714285714284, 'calories_in': 2064.0, 'glucides': 130.0, 'lipides': 67.0, 'proteines': 201.0, 'calories_exercice': 708.0, 'calories_cardio': 0, 'calories_strength': 708.0}, {'date': datetime.date(2021, 9, 5), 'masse_totale': 67.71, 'masse_grasse': 8.395999999999999, 'calories_in': 1792.0, 'glucides': 82.0, 'lipides': 46.0, 'proteines': 147.0, 'calories_exercice': 335.0, 'calories_cardio': 335.0, 'calories_strength': 0}, {'date': datetime.date(2021, 9, 6), 'masse_totale': 68.18, 'masse_grasse': 8.338, 'calories_in': 1893.0, 'glucides': 136.0, 'lipides': 43.0, 'proteines': 197.0, 'calories_exercice': 0, 'calories_cardio': 0, 'calories_strength': 0}, {'date': datetime.date(2021, 9, 7), 'masse_totale': 67.78333333333333, 'masse_grasse': 8.16, 'calories_in': 1809.0, 'glucides': 153.0, 'lipides': 38.0, 'proteines': 164.0, 'calories_exercice': 0, 'calories_cardio': 0, 'calories_strength': 0}, {'date': datetime.date(2021, 9, 8), 'masse_totale': 67.53, 'masse_grasse': 8.174000000000001, 'calories_in': 2258.0, 'glucides': 210.0, 'lipides': 74.0, 'proteines': 190.0, 'calories_exercice': 776.0, 'calories_cardio': 0, 'calories_strength': 776.0}, {'date': datetime.date(2021, 9, 9), 'masse_totale': 67.80833333333335, 'masse_grasse': 8.431666666666667, 'calories_in': 1793.0, 'glucides': 186.0, 'lipides': 39.0, 'proteines': 150.0, 'calories_exercice': 0, 'calories_cardio': 0, 'calories_strength': 0}, {'date': datetime.date(2021, 9, 10), 'masse_totale': 68.3, 'masse_grasse': 8.563333333333334, 'calories_in': 2245.0, 'glucides': 200.0, 'lipides': 67.0, 'proteines': 207.0, 'calories_exercice': 664.0, 'calories_cardio': 0, 'calories_strength': 664.0}, {'date': datetime.date(2021, 9, 11), 'masse_totale': 68.06666666666668, 'masse_grasse': 8.448333333333332, 'calories_in': 1828.0, 'glucides': 80.0, 'lipides': 76.0, 'proteines': 148.0, 'calories_exercice': 0, 'calories_cardio': 0, 'calories_strength': 0}, {'date': datetime.date(2021, 9, 12), 'masse_totale': 67.94500000000001, 'masse_grasse': 8.421000000000001, 'calories_in': 2126.0, 'glucides': 127.0, 'lipides': 13.0, 'proteines': 130.0, 'calories_exercice': 273.0, 'calories_cardio': 273.0, 'calories_strength': 0}, {'date': datetime.date(2021, 9, 13), 'masse_totale': 67.95833333333333, 'masse_grasse': 7.685, 'calories_in': 1806.0, 'glucides': 158.0, 'lipides': 58.0, 'proteines': 160.0, 'calories_exercice': 0, 'calories_cardio': 0, 'calories_strength': 0}, {'date': datetime.date(2021, 9, 14), 'masse_totale': 68.78571428571429, 'masse_grasse': 8.272857142857143, 'calories_in': 1983.0, 'glucides': 165.0, 'lipides': 66.0, 'proteines': 179.0, 'calories_exercice': 436.0, 'calories_cardio': 0, 'calories_strength': 436.0}, {'date': datetime.date(2021, 9, 15), 'masse_totale': 68.12857142857142, 'masse_grasse': 8.402857142857142, 'calories_in': 1793.0, 'glucides': 153.0, 'lipides': 38.0, 'proteines': 203.0, 'calories_exercice': 0, 'calories_cardio': 0, 'calories_strength': 0}, {'date': datetime.date(2021, 9, 16), 'masse_totale': 68.15714285714286, 'masse_grasse': 8.45, 'calories_in': 1784.0, 'glucides': 166.0, 'lipides': 45.0, 'proteines': 164.0, 'calories_exercice': 0, 'calories_cardio': 0, 'calories_strength': 0}, {'date': datetime.date(2021, 9, 17), 'masse_totale': 68.63, 'masse_grasse': 8.716000000000001, 'calories_in': 1864.0, 'glucides': 124.0, 'lipides': 44.0, 'proteines': 175.0, 'calories_exercice': 226.0, 'calories_cardio': 0, 'calories_strength': 226.0}, {'date': datetime.date(2021, 9, 18), 'masse_totale': 68.42, 'masse_grasse': 8.82, 'calories_in': 1918.0, 'glucides': 91.0, 'lipides': 76.0, 'proteines': 169.0, 'calories_exercice': 0, 'calories_cardio': 0, 'calories_strength': 0}, {'date': datetime.date(2021, 9, 19), 'masse_totale': 68.67999999999999, 'masse_grasse': 8.8, 'calories_in': 1830.0, 'glucides': 205.0, 'lipides': 34.0, 'proteines': 135.0, 'calories_exercice': 0, 'calories_cardio': 0, 'calories_strength': 0}, {'date': datetime.date(2021, 9, 20), 'masse_totale': 68.17999999999999, 'masse_grasse': 8.932, 'calories_in': 1797.0, 'glucides': 163.0, 'lipides': 51.0, 'proteines': 142.0, 'calories_exercice': 0, 'calories_cardio': 0, 'calories_strength': 0}, {'date': datetime.date(2021, 9, 21), 'masse_totale': 67.78999999999999, 'masse_grasse': 8.724, 'calories_in': 1937.0, 'glucides': 98.0, 'lipides': 53.0, 'proteines': 155.0, 'calories_exercice': 0, 'calories_cardio': 0, 'calories_strength': 0}, {'date': datetime.date(2021, 9, 22), 'masse_totale': 68.58000000000001, 'masse_grasse': 8.55, 'calories_in': 1804.0, 'glucides': 152.0, 'lipides': 58.0, 'proteines': 154.0, 'calories_exercice': 0, 'calories_cardio': 0, 'calories_strength': 0}, {'date': datetime.date(2021, 9, 23), 'masse_totale': 67.22999999999999, 'masse_grasse': 8.446, 'calories_in': 1792.0, 'glucides': 190.0, 'lipides': 40.0, 'proteines': 156.0, 'calories_exercice': 0, 'calories_cardio': 0, 'calories_strength': 0}, {'date': datetime.date(2021, 9, 24), 'masse_totale': 67.425, 'masse_grasse': 8.308333333333332, 'calories_in': 1777.0, 'glucides': 143.0, 'lipides': 49.0, 'proteines': 175.0, 'calories_exercice': 0, 'calories_cardio': 0, 'calories_strength': 0}, {'date': datetime.date(2021, 9, 25), 'masse_totale': 66.57142857142857, 'masse_grasse': 8.141428571428571, 'calories_in': 1919.0, 'glucides': 154.0, 'lipides': 48.0, 'proteines': 181.0, 'calories_exercice': 691.0, 'calories_cardio': 0, 'calories_strength': 691.0}, {'date': datetime.date(2021, 9, 26), 'masse_totale': 66.25, 'masse_grasse': 7.985, 'calories_in': 1990.0, 'glucides': 167.0, 'lipides': 63.0, 'proteines': 168.0, 'calories_exercice': 566.0, 'calories_cardio': 0, 'calories_strength': 566.0}, {'date': datetime.date(2021, 9, 27), 'masse_totale': 66.0, 'masse_grasse': 7.835714285714286, 'calories_in': 1812.0, 'glucides': 121.0, 'lipides': 53.0, 'proteines': 172.0, 'calories_exercice': 0, 'calories_cardio': 0, 'calories_strength': 0}, {'date': datetime.date(2021, 9, 28), 'masse_totale': 66.43333333333332, 'masse_grasse': 7.908333333333334, 'calories_in': 1845.0, 'glucides': 168.0, 'lipides': 55.0, 'proteines': 167.0, 'calories_exercice': 544.0, 'calories_cardio': 0, 'calories_strength': 544.0}, {'date': datetime.date(2021, 9, 29), 'masse_totale': 66.82857142857144, 'masse_grasse': 7.839999999999999, 'calories_in': 1835.0, 'glucides': 158.0, 'lipides': 40.0, 'proteines': 156.0, 'calories_exercice': 510.0, 'calories_cardio': 0, 'calories_strength': 510.0}, {'date': datetime.date(2021, 9, 30), 'masse_totale': 66.84166666666665, 'masse_grasse': 7.806666666666666, 'calories_in': 1802.0, 'glucides': 168.0, 'lipides': 48.0, 'proteines': 143.0, 'calories_exercice': 0, 'calories_cardio': 0, 'calories_strength': 0}, {'date': datetime.date(2021, 10, 1), 'masse_totale': 66.59166666666665, 'masse_grasse': 7.896666666666667, 'calories_in': 1799.0, 'glucides': 119.0, 'lipides': 61.0, 'proteines': 191.0, 'calories_exercice': 0, 'calories_cardio': 0, 'calories_strength': 0}, {'date': datetime.date(2021, 10, 2), 'masse_totale': 66.79285714285714, 'masse_grasse': 7.887142857142856, 'calories_in': 1974.0, 'glucides': 183.0, 'lipides': 31.0, 'proteines': 124.0, 'calories_exercice': 770.0, 'calories_cardio': 0, 'calories_strength': 770.0}, {'date': datetime.date(2021, 10, 3), 'masse_totale': 67.018, 'masse_grasse': 7.9, 'calories_in': 2378.0, 'glucides': 143.0, 'lipides': 52.0, 'proteines': 189.0, 'calories_exercice': 0, 'calories_cardio': 0, 'calories_strength': 0}, {'date': datetime.date(2021, 10, 4), 'masse_totale': 66.78571428571429, 'masse_grasse': 6.4642857142857135, 'calories_in': 2095.0, 'glucides': 153.0, 'lipides': 74.0, 'proteines': 200.0, 'calories_exercice': 744.0, 'calories_cardio': 0, 'calories_strength': 744.0}, {'date': datetime.date(2021, 10, 5), 'masse_totale': 66.58333333333333, 'masse_grasse': 7.953333333333333, 'calories_in': 1799.0, 'glucides': 174.0, 'lipides': 48.0, 'proteines': 152.0, 'calories_exercice': 0, 'calories_cardio': 0, 'calories_strength': 0}, {'date': datetime.date(2021, 10, 6), 'masse_totale': 67.28333333333335, 'masse_grasse': 8.026666666666666, 'calories_in': 1765.0, 'glucides': 162.0, 'lipides': 43.0, 'proteines': 182.0, 'calories_exercice': 0, 'calories_cardio': 0, 'calories_strength': 0}, {'date': datetime.date(2021, 10, 7), 'masse_totale': 67.37142857142858, 'masse_grasse': 8.121428571428572, 'calories_in': 2102.0, 'glucides': 158.0, 'lipides': 59.0, 'proteines': 192.0, 'calories_exercice': 762.0, 'calories_cardio': 0, 'calories_strength': 762.0}, {'date': datetime.date(2021, 10, 8), 'masse_totale': 66.925, 'masse_grasse': 7.890000000000001, 'calories_in': 2064.0, 'glucides': 71.0, 'lipides': 85.0, 'proteines': 146.0, 'calories_exercice': 0, 'calories_cardio': 0, 'calories_strength': 0}, {'date': datetime.date(2021, 10, 9), 'masse_totale': 67.01249999999999, 'masse_grasse': 8.030000000000001, 'calories_in': 2047.0, 'glucides': 155.0, 'lipides': 40.0, 'proteines': 182.0, 'calories_exercice': 263.0, 'calories_cardio': 263.0, 'calories_strength': 0}, {'date': datetime.date(2021, 10, 10), 'masse_totale': 67.49375, 'masse_grasse': 8.1375, 'calories_in': 2241.0, 'glucides': 156.0, 'lipides': 40.0, 'proteines': 208.0, 'calories_exercice': 677.0, 'calories_cardio': 0, 'calories_strength': 677.0}, {'date': datetime.date(2021, 10, 11), 'masse_totale': 67.82142857142857, 'masse_grasse': 8.545714285714286, 'calories_in': 1770.0, 'glucides': 142.0, 'lipides': 62.0, 'proteines': 127.0, 'calories_exercice': 100.0, 'calories_cardio': 100.0, 'calories_strength': 0}, {'date': datetime.date(2021, 10, 12), 'masse_totale': 67.36, 'masse_grasse': 8.0, 'calories_in': 1980.0, 'glucides': 172.0, 'lipides': 65.0, 'proteines': 171.0, 'calories_exercice': 0, 'calories_cardio': 0, 'calories_strength': 0}, {'date': datetime.date(2021, 10, 13), 'masse_totale': 67.38571428571427, 'masse_grasse': 8.120000000000001, 'calories_in': 1875.0, 'glucides': 144.0, 'lipides': 59.0, 'proteines': 169.0, 'calories_exercice': 0, 'calories_cardio': 0, 'calories_strength': 0}, {'date': datetime.date(2021, 10, 14), 'masse_totale': 67.625, 'masse_grasse': 8.14875, 'calories_in': 1860.0, 'glucides': 126.0, 'lipides': 53.0, 'proteines': 216.0, 'calories_exercice': 0, 'calories_cardio': 0, 'calories_strength': 0}, {'date': datetime.date(2021, 10, 15), 'masse_totale': 67.0, 'masse_grasse': 8.129999999999999, 'calories_in': 2450.0, 'glucides': 240.0, 'lipides': 55.0, 'proteines': 188.0, 'calories_exercice': 710.0, 'calories_cardio': 0, 'calories_strength': 710.0}, {'date': datetime.date(2021, 10, 16), 'masse_totale': 66.74285714285715, 'masse_grasse': 7.854285714285714, 'calories_in': 3837.0, 'glucides': 485.0, 'lipides': 119.0, 'proteines': 194.0, 'calories_exercice': 150.0, 'calories_cardio': 150.0, 'calories_strength': 0}, {'date': datetime.date(2021, 10, 17), 'masse_totale': 67.36666666666666, 'masse_grasse': 8.001666666666667, 'calories_in': 1972.0, 'glucides': 147.0, 'lipides': 67.0, 'proteines': 194.0, 'calories_exercice': 767.0, 'calories_cardio': 0, 'calories_strength': 767.0}, {'date': datetime.date(2021, 10, 18), 'masse_totale': 67.01428571428572, 'masse_grasse': 7.8585714285714285, 'calories_in': 1781.0, 'glucides': 195.0, 'lipides': 37.0, 'proteines': 166.0, 'calories_exercice': 0, 'calories_cardio': 0, 'calories_strength': 0}, {'date': datetime.date(2021, 10, 19), 'masse_totale': 67.58333333333333, 'masse_grasse': 8.118333333333334, 'calories_in': 1790.0, 'glucides': 207.0, 'lipides': 42.0, 'proteines': 179.0, 'calories_exercice': 0, 'calories_cardio': 0, 'calories_strength': 0}, {'date': datetime.date(2021, 10, 20), 'masse_totale': 67.44166666666666, 'masse_grasse': 7.958333333333333, 'calories_in': 1893.0, 'glucides': 177.0, 'lipides': 43.0, 'proteines': 202.0, 'calories_exercice': 464.0, 'calories_cardio': 0, 'calories_strength': 464.0}, {'date': datetime.date(2021, 10, 21), 'masse_totale': 67.67500000000001, 'masse_grasse': 8.44875, 'calories_in': 1798.0, 'glucides': 143.0, 'lipides': 63.0, 'proteines': 165.0, 'calories_exercice': 0, 'calories_cardio': 0, 'calories_strength': 0}, {'date': datetime.date(2021, 10, 22), 'masse_totale': 67.18125, 'masse_grasse': 8.1775, 'calories_in': 2310.0, 'glucides': 167.0, 'lipides': 73.0, 'proteines': 244.0, 'calories_exercice': 514.0, 'calories_cardio': 0, 'calories_strength': 514.0}, {'date': datetime.date(2021, 10, 23), 'masse_totale': 66.53, 'masse_grasse': 7.794, 'calories_in': 1813.0, 'glucides': 145.0, 'lipides': 54.0, 'proteines': 175.0, 'calories_exercice': 0, 'calories_cardio': 0, 'calories_strength': 0}, {'date': datetime.date(2021, 10, 24), 'masse_totale': 67.075, 'masse_grasse': 8.141666666666667, 'calories_in': 0, 'glucides': 0, 'lipides': 0, 'proteines': 0, 'calories_exercice': 567.0, 'calories_cardio': 0, 'calories_strength': 567.0}, {'date': datetime.date(2021, 10, 25), 'masse_totale': 0, 'masse_grasse': 0, 'calories_in': 0, 'glucides': 0, 'lipides': 0, 'proteines': 0, 'calories_exercice': 0, 'calories_cardio': 0, 'calories_strength': 0}, {'date': datetime.date(2021, 10, 26), 'masse_totale': 0, 'masse_grasse': 0, 'calories_in': 0, 'glucides': 0, 'lipides': 0, 'proteines': 0, 'calories_exercice': 0, 'calories_cardio': 0, 'calories_strength': 0}, {'date': datetime.date(2021, 10, 27), 'masse_totale': 0, 'masse_grasse': 0, 'calories_in': 0, 'glucides': 0, 'lipides': 0, 'proteines': 0, 'calories_exercice': 0, 'calories_cardio': 0, 'calories_strength': 0}, {'date': datetime.date(2021, 10, 28), 'masse_totale': 0, 'masse_grasse': 0, 'calories_in': 0, 'glucides': 0, 'lipides': 0, 'proteines': 0, 'calories_exercice': 0, 'calories_cardio': 0, 'calories_strength': 0}, {'date': datetime.date(2021, 10, 29), 'masse_totale': 0, 'masse_grasse': 0, 'calories_in': 0, 'glucides': 0, 'lipides': 0, 'proteines': 0, 'calories_exercice': 0, 'calories_cardio': 0, 'calories_strength': 0}, {'date': datetime.date(2021, 10, 30), 'masse_totale': 0, 'masse_grasse': 0, 'calories_in': 0, 'glucides': 0, 'lipides': 0, 'proteines': 0, 'calories_exercice': 0, 'calories_cardio': 0, 'calories_strength': 0}, {'date': datetime.date(2021, 10, 31), 'masse_totale': 0, 'masse_grasse': 0, 'calories_in': 0, 'glucides': 0, 'lipides': 0, 'proteines': 0, 'calories_exercice': 0, 'calories_cardio': 0, 'calories_strength': 0}, {'date': datetime.date(2021, 11, 1), 'masse_totale': 0, 'masse_grasse': 0, 'calories_in': 0, 'glucides': 0, 'lipides': 0, 'proteines': 0, 'calories_exercice': 0, 'calories_cardio': 0, 'calories_strength': 0}, {'date': datetime.date(2021, 11, 2), 'masse_totale': 0, 'masse_grasse': 0, 'calories_in': 0, 'glucides': 0, 'lipides': 0, 'proteines': 0, 'calories_exercice': 0, 'calories_cardio': 0, 'calories_strength': 0}, {'date': datetime.date(2021, 11, 3), 'masse_totale': 0, 'masse_grasse': 0, 'calories_in': 0, 'glucides': 0, 'lipides': 0, 'proteines': 0, 'calories_exercice': 0, 'calories_cardio': 0, 'calories_strength': 0}, {'date': datetime.date(2021, 11, 4), 'masse_totale': 0, 'masse_grasse': 0, 'calories_in': 0, 'glucides': 0, 'lipides': 0, 'proteines': 0, 'calories_exercice': 0, 'calories_cardio': 0, 'calories_strength': 0}, {'date': datetime.date(2021, 11, 5), 'masse_totale': 0, 'masse_grasse': 0, 'calories_in': 0, 'glucides': 0, 'lipides': 0, 'proteines': 0, 'calories_exercice': 0, 'calories_cardio': 0, 'calories_strength': 0}, {'date': datetime.date(2021, 11, 6), 'masse_totale': 0, 'masse_grasse': 0, 'calories_in': 0, 'glucides': 0, 'lipides': 0, 'proteines': 0, 'calories_exercice': 0, 'calories_cardio': 0, 'calories_strength': 0}, {'date': datetime.date(2021, 11, 7), 'masse_totale': 0, 'masse_grasse': 0, 'calories_in': 0, 'glucides': 0, 'lipides': 0, 'proteines': 0, 'calories_exercice': 0, 'calories_cardio': 0, 'calories_strength': 0}, {'date': datetime.date(2021, 11, 8), 'masse_totale': 0, 'masse_grasse': 0, 'calories_in': 0, 'glucides': 0, 'lipides': 0, 'proteines': 0, 'calories_exercice': 0, 'calories_cardio': 0, 'calories_strength': 0}, {'date': datetime.date(2021, 11, 9), 'masse_totale': 0, 'masse_grasse': 0, 'calories_in': 0, 'glucides': 0, 'lipides': 0, 'proteines': 0, 'calories_exercice': 0, 'calories_cardio': 0, 'calories_strength': 0}, {'date': datetime.date(2021, 11, 10), 'masse_totale': 0, 'masse_grasse': 0, 'calories_in': 0, 'glucides': 0, 'lipides': 0, 'proteines': 0, 'calories_exercice': 0, 'calories_cardio': 0, 'calories_strength': 0}, {'date': datetime.date(2021, 11, 11), 'masse_totale': 0, 'masse_grasse': 0, 'calories_in': 0, 'glucides': 0, 'lipides': 0, 'proteines': 0, 'calories_exercice': 0, 'calories_cardio': 0, 'calories_strength': 0}, {'date': datetime.date(2021, 11, 12), 'masse_totale': 0, 'masse_grasse': 0, 'calories_in': 0, 'glucides': 0, 'lipides': 0, 'proteines': 0, 'calories_exercice': 0, 'calories_cardio': 0, 'calories_strength': 0}, {'date': datetime.date(2021, 11, 13), 'masse_totale': 0, 'masse_grasse': 0, 'calories_in': 0, 'glucides': 0, 'lipides': 0, 'proteines': 0, 'calories_exercice': 0, 'calories_cardio': 0, 'calories_strength': 0}, {'date': datetime.date(2021, 11, 14), 'masse_totale': 0, 'masse_grasse': 0, 'calories_in': 0, 'glucides': 0, 'lipides': 0, 'proteines': 0, 'calories_exercice': 0, 'calories_cardio': 0, 'calories_strength': 0}, {'date': datetime.date(2021, 11, 15), 'masse_totale': 0, 'masse_grasse': 0, 'calories_in': 0, 'glucides': 0, 'lipides': 0, 'proteines': 0, 'calories_exercice': 0, 'calories_cardio': 0, 'calories_strength': 0}, {'date': datetime.date(2021, 11, 16), 'masse_totale': 0, 'masse_grasse': 0, 'calories_in': 0, 'glucides': 0, 'lipides': 0, 'proteines': 0, 'calories_exercice': 0, 'calories_cardio': 0, 'calories_strength': 0}, {'date': datetime.date(2021, 11, 17), 'masse_totale': 0, 'masse_grasse': 0, 'calories_in': 0, 'glucides': 0, 'lipides': 0, 'proteines': 0, 'calories_exercice': 0, 'calories_cardio': 0, 'calories_strength': 0}, {'date': datetime.date(2021, 11, 18), 'masse_totale': 0, 'masse_grasse': 0, 'calories_in': 0, 'glucides': 0, 'lipides': 0, 'proteines': 0, 'calories_exercice': 0, 'calories_cardio': 0, 'calories_strength': 0}, {'date': datetime.date(2021, 11, 19), 'masse_totale': 0, 'masse_grasse': 0, 'calories_in': 0, 'glucides': 0, 'lipides': 0, 'proteines': 0, 'calories_exercice': 0, 'calories_cardio': 0, 'calories_strength': 0}, {'date': datetime.date(2021, 11, 20), 'masse_totale': 0, 'masse_grasse': 0, 'calories_in': 0, 'glucides': 0, 'lipides': 0, 'proteines': 0, 'calories_exercice': 0, 'calories_cardio': 0, 'calories_strength': 0}, {'date': datetime.date(2021, 11, 21), 'masse_totale': 0, 'masse_grasse': 0, 'calories_in': 0, 'glucides': 0, 'lipides': 0, 'proteines': 0, 'calories_exercice': 0, 'calories_cardio': 0, 'calories_strength': 0}, {'date': datetime.date(2021, 11, 22), 'masse_totale': 0, 'masse_grasse': 0, 'calories_in': 0, 'glucides': 0, 'lipides': 0, 'proteines': 0, 'calories_exercice': 0, 'calories_cardio': 0, 'calories_strength': 0}, {'date': datetime.date(2021, 11, 23), 'masse_totale': 0, 'masse_grasse': 0, 'calories_in': 0, 'glucides': 0, 'lipides': 0, 'proteines': 0, 'calories_exercice': 0, 'calories_cardio': 0, 'calories_strength': 0}, {'date': datetime.date(2021, 11, 24), 'masse_totale': 0, 'masse_grasse': 0, 'calories_in': 0, 'glucides': 0, 'lipides': 0, 'proteines': 0, 'calories_exercice': 0, 'calories_cardio': 0, 'calories_strength': 0}, {'date': datetime.date(2021, 11, 25), 'masse_totale': 0, 'masse_grasse': 0, 'calories_in': 0, 'glucides': 0, 'lipides': 0, 'proteines': 0, 'calories_exercice': 0, 'calories_cardio': 0, 'calories_strength': 0}, {'date': datetime.date(2021, 11, 26), 'masse_totale': 0, 'masse_grasse': 0, 'calories_in': 0, 'glucides': 0, 'lipides': 0, 'proteines': 0, 'calories_exercice': 0, 'calories_cardio': 0, 'calories_strength': 0}, {'date': datetime.date(2021, 11, 27), 'masse_totale': 0, 'masse_grasse': 0, 'calories_in': 0, 'glucides': 0, 'lipides': 0, 'proteines': 0, 'calories_exercice': 0, 'calories_cardio': 0, 'calories_strength': 0}, {'date': datetime.date(2021, 11, 28), 'masse_totale': 0, 'masse_grasse': 0, 'calories_in': 0, 'glucides': 0, 'lipides': 0, 'proteines': 0, 'calories_exercice': 0, 'calories_cardio': 0, 'calories_strength': 0}, {'date': datetime.date(2021, 11, 29), 'masse_totale': 0, 'masse_grasse': 0, 'calories_in': 0, 'glucides': 0, 'lipides': 0, 'proteines': 0, 'calories_exercice': 0, 'calories_cardio': 0, 'calories_strength': 0}, {'date': datetime.date(2021, 11, 30), 'masse_totale': 0, 'masse_grasse': 0, 'calories_in': 0, 'glucides': 0, 'lipides': 0, 'proteines': 0, 'calories_exercice': 0, 'calories_cardio': 0, 'calories_strength': 0}, {'date': datetime.date(2021, 12, 1), 'masse_totale': 0, 'masse_grasse': 0, 'calories_in': 0, 'glucides': 0, 'lipides': 0, 'proteines': 0, 'calories_exercice': 0, 'calories_cardio': 0, 'calories_strength': 0}, {'date': datetime.date(2021, 12, 2), 'masse_totale': 0, 'masse_grasse': 0, 'calories_in': 0, 'glucides': 0, 'lipides': 0, 'proteines': 0, 'calories_exercice': 0, 'calories_cardio': 0, 'calories_strength': 0}, {'date': datetime.date(2021, 12, 3), 'masse_totale': 0, 'masse_grasse': 0, 'calories_in': 0, 'glucides': 0, 'lipides': 0, 'proteines': 0, 'calories_exercice': 0, 'calories_cardio': 0, 'calories_strength': 0}, {'date': datetime.date(2021, 12, 4), 'masse_totale': 0, 'masse_grasse': 0, 'calories_in': 0, 'glucides': 0, 'lipides': 0, 'proteines': 0, 'calories_exercice': 0, 'calories_cardio': 0, 'calories_strength': 0}, {'date': datetime.date(2021, 12, 5), 'masse_totale': 0, 'masse_grasse': 0, 'calories_in': 0, 'glucides': 0, 'lipides': 0, 'proteines': 0, 'calories_exercice': 0, 'calories_cardio': 0, 'calories_strength': 0}, {'date': datetime.date(2021, 12, 6), 'masse_totale': 0, 'masse_grasse': 0, 'calories_in': 0, 'glucides': 0, 'lipides': 0, 'proteines': 0, 'calories_exercice': 0, 'calories_cardio': 0, 'calories_strength': 0}, {'date': datetime.date(2021, 12, 7), 'masse_totale': 0, 'masse_grasse': 0, 'calories_in': 0, 'glucides': 0, 'lipides': 0, 'proteines': 0, 'calories_exercice': 0, 'calories_cardio': 0, 'calories_strength': 0}, {'date': datetime.date(2021, 12, 8), 'masse_totale': 0, 'masse_grasse': 0, 'calories_in': 0, 'glucides': 0, 'lipides': 0, 'proteines': 0, 'calories_exercice': 0, 'calories_cardio': 0, 'calories_strength': 0}, {'date': datetime.date(2021, 12, 9), 'masse_totale': 0, 'masse_grasse': 0, 'calories_in': 0, 'glucides': 0, 'lipides': 0, 'proteines': 0, 'calories_exercice': 0, 'calories_cardio': 0, 'calories_strength': 0}, {'date': datetime.date(2021, 12, 10), 'masse_totale': 0, 'masse_grasse': 0, 'calories_in': 0, 'glucides': 0, 'lipides': 0, 'proteines': 0, 'calories_exercice': 0, 'calories_cardio': 0, 'calories_strength': 0}, {'date': datetime.date(2021, 12, 11), 'masse_totale': 0, 'masse_grasse': 0, 'calories_in': 0, 'glucides': 0, 'lipides': 0, 'proteines': 0, 'calories_exercice': 0, 'calories_cardio': 0, 'calories_strength': 0}, {'date': datetime.date(2021, 12, 12), 'masse_totale': 0, 'masse_grasse': 0, 'calories_in': 0, 'glucides': 0, 'lipides': 0, 'proteines': 0, 'calories_exercice': 0, 'calories_cardio': 0, 'calories_strength': 0}, {'date': datetime.date(2021, 12, 13), 'masse_totale': 0, 'masse_grasse': 0, 'calories_in': 0, 'glucides': 0, 'lipides': 0, 'proteines': 0, 'calories_exercice': 0, 'calories_cardio': 0, 'calories_strength': 0}, {'date': datetime.date(2021, 12, 14), 'masse_totale': 0, 'masse_grasse': 0, 'calories_in': 0, 'glucides': 0, 'lipides': 0, 'proteines': 0, 'calories_exercice': 0, 'calories_cardio': 0, 'calories_strength': 0}, {'date': datetime.date(2021, 12, 15), 'masse_totale': 0, 'masse_grasse': 0, 'calories_in': 0, 'glucides': 0, 'lipides': 0, 'proteines': 0, 'calories_exercice': 0, 'calories_cardio': 0, 'calories_strength': 0}, {'date': datetime.date(2021, 12, 16), 'masse_totale': 0, 'masse_grasse': 0, 'calories_in': 0, 'glucides': 0, 'lipides': 0, 'proteines': 0, 'calories_exercice': 0, 'calories_cardio': 0, 'calories_strength': 0}, {'date': datetime.date(2021, 12, 17), 'masse_totale': 0, 'masse_grasse': 0, 'calories_in': 0, 'glucides': 0, 'lipides': 0, 'proteines': 0, 'calories_exercice': 0, 'calories_cardio': 0, 'calories_strength': 0}, {'date': datetime.date(2021, 12, 18), 'masse_totale': 0, 'masse_grasse': 0, 'calories_in': 0, 'glucides': 0, 'lipides': 0, 'proteines': 0, 'calories_exercice': 0, 'calories_cardio': 0, 'calories_strength': 0}, {'date': datetime.date(2021, 12, 19), 'masse_totale': 0, 'masse_grasse': 0, 'calories_in': 0, 'glucides': 0, 'lipides': 0, 'proteines': 0, 'calories_exercice': 0, 'calories_cardio': 0, 'calories_strength': 0}, {'date': datetime.date(2021, 12, 20), 'masse_totale': 0, 'masse_grasse': 0, 'calories_in': 0, 'glucides': 0, 'lipides': 0, 'proteines': 0, 'calories_exercice': 0, 'calories_cardio': 0, 'calories_strength': 0}, {'date': datetime.date(2021, 12, 21), 'masse_totale': 0, 'masse_grasse': 0, 'calories_in': 0, 'glucides': 0, 'lipides': 0, 'proteines': 0, 'calories_exercice': 0, 'calories_cardio': 0, 'calories_strength': 0}, {'date': datetime.date(2021, 12, 22), 'masse_totale': 0, 'masse_grasse': 0, 'calories_in': 0, 'glucides': 0, 'lipides': 0, 'proteines': 0, 'calories_exercice': 0, 'calories_cardio': 0, 'calories_strength': 0}, {'date': datetime.date(2021, 12, 23), 'masse_totale': 0, 'masse_grasse': 0, 'calories_in': 0, 'glucides': 0, 'lipides': 0, 'proteines': 0, 'calories_exercice': 0, 'calories_cardio': 0, 'calories_strength': 0}, {'date': datetime.date(2021, 12, 24), 'masse_totale': 0, 'masse_grasse': 0, 'calories_in': 0, 'glucides': 0, 'lipides': 0, 'proteines': 0, 'calories_exercice': 0, 'calories_cardio': 0, 'calories_strength': 0}, {'date': datetime.date(2021, 12, 25), 'masse_totale': 0, 'masse_grasse': 0, 'calories_in': 0, 'glucides': 0, 'lipides': 0, 'proteines': 0, 'calories_exercice': 0, 'calories_cardio': 0, 'calories_strength': 0}, {'date': datetime.date(2021, 12, 26), 'masse_totale': 0, 'masse_grasse': 0, 'calories_in': 0, 'glucides': 0, 'lipides': 0, 'proteines': 0, 'calories_exercice': 0, 'calories_cardio': 0, 'calories_strength': 0}, {'date': datetime.date(2021, 12, 27), 'masse_totale': 0, 'masse_grasse': 0, 'calories_in': 0, 'glucides': 0, 'lipides': 0, 'proteines': 0, 'calories_exercice': 0, 'calories_cardio': 0, 'calories_strength': 0}, {'date': datetime.date(2021, 12, 28), 'masse_totale': 0, 'masse_grasse': 0, 'calories_in': 0, 'glucides': 0, 'lipides': 0, 'proteines': 0, 'calories_exercice': 0, 'calories_cardio': 0, 'calories_strength': 0}, {'date': datetime.date(2021, 12, 29), 'masse_totale': 0, 'masse_grasse': 0, 'calories_in': 0, 'glucides': 0, 'lipides': 0, 'proteines': 0, 'calories_exercice': 0, 'calories_cardio': 0, 'calories_strength': 0}, {'date': datetime.date(2021, 12, 30), 'masse_totale': 0, 'masse_grasse': 0, 'calories_in': 0, 'glucides': 0, 'lipides': 0, 'proteines': 0, 'calories_exercice': 0, 'calories_cardio': 0, 'calories_strength': 0}, {'date': datetime.date(2021, 12, 31), 'masse_totale': 0, 'masse_grasse': 0, 'calories_in': 0, 'glucides': 0, 'lipides': 0, 'proteines': 0, 'calories_exercice': 0, 'calories_cardio': 0, 'calories_strength': 0}]\n"
     ]
    }
   ],
   "source": [
    "print(ds.daily_data)"
   ]
  },
  {
   "cell_type": "code",
   "execution_count": 9,
   "id": "6baa0b2d",
   "metadata": {},
   "outputs": [
    {
     "name": "stdout",
     "output_type": "stream",
     "text": [
      "(True, [67.45, 67.45, 67.5, 67.4, 67.45, 67.4], [7.91, 7.9, 7.99, 7.96, 7.97, 8.02])\n",
      "(True, {'date': datetime.date(2021, 10, 20), 'masse_totale': 67.44166666666666, 'masse_grasse': 7.958333333333333, 'calories_in': 1893.0, 'glucides': 177.0, 'lipides': 43.0, 'proteines': 202.0, 'calories_exercice': 464.0, 'calories_cardio': 0, 'calories_strength': 464.0})\n"
     ]
    }
   ],
   "source": [
    "cdate = date(2021,10,20)\n",
    "print(ds.get_daily_mass_measurement(cdate))\n",
    "print(ds.get_daily_data(cdate))"
   ]
  },
  {
   "cell_type": "code",
   "execution_count": 36,
   "metadata": {},
   "outputs": [
    {
     "name": "stdout",
     "output_type": "stream",
     "text": [
      "(True, [92.95], [22.21])\n",
      "(False, {})\n"
     ]
    }
   ],
   "source": [
    "cdate = date(2010,11,1)\n",
    "print(ds.get_daily_mass_measurement(cdate))\n",
    "print(ds.get_daily_data(cdate))"
   ]
  },
  {
   "cell_type": "code",
   "execution_count": 37,
   "id": "7488632e",
   "metadata": {},
   "outputs": [
    {
     "name": "stdout",
     "output_type": "stream",
     "text": [
      "(False, 0.0, 0.0)\n",
      "(False, {})\n"
     ]
    }
   ],
   "source": [
    "cdate = date(2023,10,20)\n",
    "print(ds.get_daily_mass_measurement(cdate))\n",
    "print(ds.get_daily_data(cdate))"
   ]
  },
  {
   "cell_type": "code",
   "execution_count": null,
   "id": "76d23be9",
   "metadata": {},
   "outputs": [],
   "source": []
  },
  {
   "cell_type": "code",
   "execution_count": null,
   "metadata": {},
   "outputs": [],
   "source": []
  },
  {
   "cell_type": "code",
   "execution_count": null,
   "metadata": {},
   "outputs": [],
   "source": []
  },
  {
   "cell_type": "code",
   "execution_count": null,
   "metadata": {},
   "outputs": [],
   "source": []
  },
  {
   "cell_type": "code",
   "execution_count": null,
   "metadata": {},
   "outputs": [],
   "source": []
  },
  {
   "cell_type": "code",
   "execution_count": null,
   "metadata": {},
   "outputs": [],
   "source": []
  },
  {
   "cell_type": "code",
   "execution_count": null,
   "metadata": {},
   "outputs": [],
   "source": []
  },
  {
   "cell_type": "code",
   "execution_count": null,
   "metadata": {},
   "outputs": [],
   "source": []
  },
  {
   "cell_type": "code",
   "execution_count": null,
   "metadata": {},
   "outputs": [],
   "source": []
  },
  {
   "cell_type": "code",
   "execution_count": null,
   "metadata": {},
   "outputs": [],
   "source": []
  },
  {
   "cell_type": "markdown",
   "id": "1c1b64a1",
   "metadata": {},
   "source": [
    "\n",
    "# 1- Analyse de $E(Y|X=x)$ et $Var(Y|X=x)$ à partir du fichier complet\n"
   ]
  },
  {
   "cell_type": "code",
   "execution_count": null,
   "id": "d2fe4ee9",
   "metadata": {},
   "outputs": [],
   "source": [
    "data_brute"
   ]
  },
  {
   "cell_type": "code",
   "execution_count": null,
   "id": "d46f5d58",
   "metadata": {},
   "outputs": [],
   "source": [
    "# construit la liste des dates uniques dans data_brute\n",
    "\n",
    "CUT_OFF_DATE = datetime.date(2020,8,1)  # on ne prend les valeurs qu'à partir du 1er Août 2020 !\n",
    "\n",
    "liste_dates = [ conv_to_date_num(current_dict.get('date')) for current_dict in data_brute if conv_to_date_num(current_dict.get('date')) >= CUT_OFF_DATE ]\n",
    "liste_dates = list(sorted(set(liste_dates)))\n",
    "  "
   ]
  },
  {
   "cell_type": "code",
   "execution_count": null,
   "id": "567876af",
   "metadata": {},
   "outputs": [],
   "source": [
    "# construit les dictionnaires des valeurs de MT et MG :\n",
    "# - keys = valeur de datetime.date (date object)\n",
    "# - values = liste des valeurs (float) du jour\n",
    "\n",
    "dict_mt = dict( (d, []) for d in liste_dates )  # initialise le dict MT avec des listes vides des valeurs du jour\n",
    "dict_mg = dict( (d, []) for d in liste_dates )  # idem pour MG\n",
    "\n",
    "for element in data_brute:\n",
    "    if conv_to_date_num(element.get('date')) >= CUT_OFF_DATE:  # nettoyage des data : on ne prend qu'après le cut_off_date\n",
    "        date_object = conv_to_date_num(element.get('date'))\n",
    "        mt = conv_to_float(element.get('MT'))\n",
    "        dict_mt[date_object].append(mt)\n",
    "        mg = conv_to_float(element.get('MG'))\n",
    "        dict_mg[date_object].append(mg)\n",
    "        "
   ]
  },
  {
   "cell_type": "code",
   "execution_count": null,
   "id": "eab8f476",
   "metadata": {},
   "outputs": [],
   "source": [
    "dict_mg"
   ]
  },
  {
   "cell_type": "code",
   "execution_count": null,
   "id": "936a9d49",
   "metadata": {},
   "outputs": [],
   "source": [
    "# construit les dictionnaires d'écart type pour MT et MG\n",
    "# - keys = valeur de datetime.date (date object)\n",
    "# - values = écart-type (float) si calculé > 0\n",
    "\n",
    "std_mt = dict( (d, np.std(vals)) for d,vals in dict_mt.items() if np.std(vals)>0 )\n",
    "std_mg = dict( (d, np.std(vals)) for d,vals in dict_mg.items() if np.std(vals)>0 )"
   ]
  },
  {
   "cell_type": "code",
   "execution_count": null,
   "id": "527c1e7e",
   "metadata": {},
   "outputs": [],
   "source": [
    "std_mt_for_bplot = [ v for v in std_mt.values() ]\n",
    "std_mg_for_bplot = [ v for v in std_mg.values() ]"
   ]
  },
  {
   "cell_type": "code",
   "execution_count": null,
   "id": "baed688f",
   "metadata": {},
   "outputs": [],
   "source": [
    "fig, ax = plt.subplots(nrows=1, ncols=2, figsize=(16, 8))\n",
    "\n",
    "ax[0].boxplot(std_mt_for_bplot, notch=True)\n",
    "ax[0].set_title('Ecart type Masse Totale')\n",
    "ax[1].boxplot(std_mg_for_bplot, notch=True)\n",
    "ax[1].set_title('Ecart type Masse Grasse')\n",
    "plt.show()\n",
    "\n",
    "PREC = 3\n",
    "\n",
    "print(f'Mediane StdDev Masse Totale = {np.around(np.median(std_mt_for_bplot),decimals=PREC)}, \\\n",
    "    Moyenne StdDev Masse Totale = {np.around(np.mean(std_mt_for_bplot), decimals=PREC)}')\n",
    "print(f'Mediane StdDev Masse Grasse = {np.around(np.median(std_mg_for_bplot),decimals=PREC)}, \\\n",
    "    Moyenne StdDev Masse Grasse = {np.around(np.mean(std_mg_for_bplot), decimals=PREC)}')"
   ]
  },
  {
   "cell_type": "code",
   "execution_count": null,
   "id": "5f208963",
   "metadata": {},
   "outputs": [],
   "source": [
    "med_std_dev_mg = np.around(np.median(std_mg_for_bplot),decimals=PREC)   # mediane de l'écart-type sur la mesure de la MG\n",
    "last_mt = np.mean(dict_mt.get(list(dict_mt.keys())[-1]))   # moyenne de la dernière valeur de la masse totale mesurée\n",
    "\n",
    "print(f'Intervalle de confiance à 95% sur mesure de body fat% (+/- 2 sigma): +/- {np.around(2*med_std_dev_mg/last_mt*100, decimals=PREC)}%')"
   ]
  },
  {
   "cell_type": "markdown",
   "id": "8f86f8ef",
   "metadata": {},
   "source": [
    "# 2- Calcul du body fat% : $E(MG/MT)$ ou $E(MT)/E(MG)$ ?"
   ]
  },
  {
   "cell_type": "code",
   "execution_count": null,
   "id": "d2ae8fea",
   "metadata": {},
   "outputs": [],
   "source": [
    "# calcul de E(MG/MT) et E(MT) / E(MG)\n",
    "e_mg_mt = []\n",
    "std_dev_mg_mt = []  # là on calcule l'écart type des valeurs de mg/mt du jour\n",
    "e_mg_e_mt = []\n",
    "\n",
    "for mt_data, mg_data in zip(dict_mt.items(), dict_mg.items()):\n",
    "    # vérifie qu'on est bien sur la même date !\n",
    "    if mt_data[0] != mg_data[0]:\n",
    "        NameError('dates différentes dans dict_mt et dict_mg, impossible calculer MG/MT du jour')\n",
    "    mt = np.array(mt_data[1])\n",
    "    mg = np.array(mg_data[1])\n",
    "    \n",
    "    # vérifie qu'il y a bien le même nombre de valeurs dans la journée\n",
    "    if len(mt) != len(mg):\n",
    "        NameError('nombre de valeurs différentes dans une même journée dans dict_mt et dict_mg')\n",
    "        \n",
    "    if np.sum(np.abs(mg)) > 0 and np.sum(np.abs(mt)) > 0:\n",
    "        e_mg_mt.append(np.mean(mg/mt))\n",
    "        std_dev_mg_mt.append(np.std(mg/mt))  # calcule l'écart type de la liste des calculs mg/mt du jour\n",
    "        e_mg_e_mt.append(np.mean(mg)/np.mean(mt))\n",
    "        \n",
    "e_mg_mt = np.array(e_mg_mt)\n",
    "e_mg_e_mt = np.array(e_mg_e_mt)\n",
    "std_dev_mg_mt = np.array(std_dev_mg_mt)\n",
    "\n",
    "diff = np.abs(e_mg_mt - e_mg_e_mt)       "
   ]
  },
  {
   "cell_type": "code",
   "execution_count": null,
   "id": "c6b4b727",
   "metadata": {},
   "outputs": [],
   "source": [
    "fig, (ax1,ax2,ax3,ax4) = plt.subplots(nrows = 1, ncols = 4, figsize=(24,8) )\n",
    "\n",
    "ax1.plot(e_mg_mt)\n",
    "ax1.grid()\n",
    "ax1.set_title('Body Fat calcul 1 : Moyenne de (MG sur MT)')\n",
    "\n",
    "ax2.plot(e_mg_e_mt)\n",
    "ax2.grid()\n",
    "ax2.set_title('Body Fat calcul 2 : Moyenne de MG sur Moyenne de MT')\n",
    "\n",
    "ax3.plot(diff)\n",
    "ax3.grid()\n",
    "ax3.set_title('Ecart entre E(MG/MT) et E(MG)/E(MT)')\n",
    "\n",
    "ax4.plot(std_dev_mg_mt * 100)\n",
    "ax4.grid()\n",
    "ax4.set_title('Ecart type des valeurs MG/MT du jour, en %')\n",
    "\n",
    "print(f'Erreur maximale commise entre E(MT/MG) et E(MT)/E(MG) = {np.around(max(diff), decimals=8)}')\n",
    "\n",
    "print(f'Moyenne Ecart type de la mesure de masse grasse (en %, comparable à la valeur MG/MT) : {np.around(np.mean(std_dev_mg_mt * 100), 2)}%')"
   ]
  },
  {
   "cell_type": "markdown",
   "id": "68f07633",
   "metadata": {},
   "source": [
    "# 2- Collection des données de calories, calcul MG%, etc"
   ]
  },
  {
   "cell_type": "markdown",
   "id": "a6e3786d",
   "metadata": {},
   "source": [
    "### On commence par créer un numpy array avec toutes les datas :\n",
    "- date ordinale (convertie des datetime objects)\n",
    "- masse totale\n",
    "- masse grasse\n",
    "- pourcentage de masse grasse (si masse totale et masse grasse > 0)\n",
    "- calories ingérées\n",
    "- proteines\n",
    "- glucides\n",
    "- lipides\n",
    "- calories exercice (éventuellement 0)\n",
    "- calories cardio (éventuellement 0)\n",
    "- calories muscu (éventuellement 0)"
   ]
  },
  {
   "cell_type": "code",
   "execution_count": null,
   "id": "2081dae3",
   "metadata": {},
   "outputs": [],
   "source": [
    "X = []\n",
    "keys = list(poids_cal_exos[0].keys())"
   ]
  },
  {
   "cell_type": "code",
   "execution_count": null,
   "id": "684c45bf",
   "metadata": {},
   "outputs": [],
   "source": [
    "today = datetime.date.today()\n",
    "\n",
    "for d in poids_cal_exos:\n",
    "    \n",
    "    date_d = conv_to_date_str(d.get('date'))\n",
    "    \n",
    "    if date_d <= today:\n",
    "        X_day =[ conv_to_float(d.get(k)) if k != 'date' else date_d for k in keys ]\n",
    "        \n",
    "        mt = conv_to_float(d.get('Masse Totale'))\n",
    "        mg = conv_to_float(d.get('Masse Grasse'))\n",
    "        if mt>0 and mg>0:\n",
    "            bf = mg/mt\n",
    "        else:\n",
    "            bf = 0.0\n",
    "            \n",
    "        X_day.append(bf)  # rajoute body fat% en dernière valeur\n",
    "        # print(X_day)\n",
    "        X.append(X_day)\n",
    "        \n",
    "keys.append('Body Fat')"
   ]
  },
  {
   "cell_type": "code",
   "execution_count": null,
   "id": "88f5049d",
   "metadata": {},
   "outputs": [],
   "source": [
    "X = np.array(X)\n",
    "X.shape"
   ]
  },
  {
   "cell_type": "code",
   "execution_count": null,
   "id": "3814701f",
   "metadata": {},
   "outputs": [],
   "source": [
    "X[0]"
   ]
  },
  {
   "cell_type": "code",
   "execution_count": null,
   "id": "704d8d46",
   "metadata": {},
   "outputs": [],
   "source": [
    "# on rajoute la date ordinale en avant-dernière colonne\n",
    "keys[keys.index('Verif')]='date_ordinale'\n",
    "X[:,keys.index('date_ordinale')] = [x.toordinal() for x in X[:,keys.index('date')] ]"
   ]
  },
  {
   "cell_type": "code",
   "execution_count": null,
   "id": "ee3e301b",
   "metadata": {},
   "outputs": [],
   "source": [
    "keys"
   ]
  },
  {
   "cell_type": "code",
   "execution_count": null,
   "id": "c6d896f8",
   "metadata": {},
   "outputs": [],
   "source": [
    "X"
   ]
  },
  {
   "cell_type": "code",
   "execution_count": null,
   "id": "2409b114",
   "metadata": {},
   "outputs": [],
   "source": [
    "print(f'{len(X)} data depuis {CUT_OFF_DATE} jusqu\"à {today}')"
   ]
  },
  {
   "cell_type": "markdown",
   "id": "040be493",
   "metadata": {},
   "source": [
    "# 3- Affichage basique"
   ]
  },
  {
   "cell_type": "code",
   "execution_count": null,
   "id": "a3fd1309",
   "metadata": {},
   "outputs": [],
   "source": [
    "def basic_plot(dates, y, \n",
    "               grid=True,\n",
    "               title='titre', perc=False,\n",
    "               moyenne_glissante=False, n_moy=7, \n",
    "               reg_lineaire=False, n_reg=30):\n",
    "    \n",
    "    \"\"\"Affiche y suivant les dates, avec grid ou pas, avec moyenne glissante et régression linéaire ou pas.\n",
    "\n",
    "    Args:\n",
    "        dates ([datetime objects]): [dates au format datetime]\n",
    "        y ([float]): [la valeur à afficher]\n",
    "        grid (bool, optional): [présence ou pas de la grille]. Defaults to True.\n",
    "        title(string, optional): [titre]. Defaults to 'titre'\n",
    "        moyenne_glissante (bool, optional): [affiche ou pas la moyenne glissante]. Defaults to False.\n",
    "        nj_moyenne (int, optional): [fenêtre de calcul de la moyenne glissante]. Defaults to 7.\n",
    "        reg_lineaire (bool, optional): [affiche ou pas la régression linéaire]. Defaults to False.\n",
    "        nj_regression (int, optional): [fenêtre de calcul de la régression linéaire]. Defaults to 30.\n",
    "    \"\"\"\n",
    "    \n",
    "    fig, (ax1,ax2) = plt.subplots(nrows=1, ncols=2, figsize=(16,8))\n",
    "    ax1.plot(dates, y, color='blue', marker='x')\n",
    "    ax1.set_title(title)\n",
    "    \n",
    "    if grid: \n",
    "        ax1.grid()\n",
    "    \n",
    "    if moyenne_glissante:\n",
    "        # plot moyenne glissante sur les n_moy dernières valeurs\n",
    "        moy = np.zeros(shape=len(y))\n",
    "        moy[0] = y[0]\n",
    "        for i in range(1,len(y)):\n",
    "            id = max(0, i-n_moy+1)\n",
    "            moy[i] = np.mean(y[id:i])\n",
    "        ax1.plot(dates, moy, color='red', marker='o')\n",
    "    \n",
    "    if reg_lineaire:\n",
    "        # plot regression linéaire sur les n_reg dernières valeurs de y\n",
    "        dates_ordinales = np.array([ d.toordinal() for d in dates]).reshape(-1,1)\n",
    "        lr_model = LinearRegression().fit(dates_ordinales[-n_reg:], y[-n_reg:])   # fit sur les n_reg dernières valeurs\n",
    "        reg_pred = lr_model.predict(dates_ordinales)\n",
    "        ax1.plot(dates, reg_pred, color='green', marker='+')\n",
    "        pente =lr_model.coef_[0] * 30 # coefficient par mois\n",
    "        if perc==True: pente *= 100\n",
    "        coeff = lr_model.score(dates_ordinales[-n_reg:], y[-n_reg:])\n",
    "        ax2.text(0.1,0.8,f'régression calculée de {dates[-n_reg]} à {dates[-1]}')\n",
    "        if perc==True:\n",
    "            str_pente = f'pente = {np.around(pente, decimals=PREC)}% / mois'\n",
    "        else:\n",
    "            str_pente = f'pente = {np.around(pente, decimals=PREC)} / mois'\n",
    "        ax2.text(0.1,0.7,str_pente)\n",
    "        ax2.text(0.1,0.6,f'coefficient régression = {np.around(coeff * 100,1)}%')\n",
    "        \n",
    "        \n",
    "    return fig"
   ]
  },
  {
   "cell_type": "code",
   "execution_count": null,
   "id": "d0265ee1",
   "metadata": {},
   "outputs": [],
   "source": [
    "# Récupère les data entre deux dates\n",
    "\n",
    "start_date = datetime.date(2021,8,1)\n",
    "start_date_index = list(X[:,0]).index(start_date)\n",
    "\n",
    "end_date = datetime.date(2021,9,30)\n",
    "end_date_index = list(X[:,0]).index(end_date)\n",
    "\n",
    "X_trim = X[start_date_index:end_date_index]"
   ]
  },
  {
   "cell_type": "code",
   "execution_count": null,
   "id": "2e96774e",
   "metadata": {},
   "outputs": [],
   "source": [
    "print(keys)"
   ]
  },
  {
   "cell_type": "code",
   "execution_count": null,
   "id": "5836ea02",
   "metadata": {},
   "outputs": [],
   "source": [
    "# affiche certaines data depuis cette start date\n",
    "\n",
    "data_of_interest = ['Masse Totale', 'Masse Grasse', 'Calories in', 'Body Fat']\n",
    "idx = [ keys.index(l) for l in data_of_interest ]"
   ]
  },
  {
   "cell_type": "code",
   "execution_count": null,
   "id": "a19ca1af",
   "metadata": {},
   "outputs": [],
   "source": [
    "dates = [ el[0] for el in X_trim]\n",
    "for id, l in zip(idx, data_of_interest):\n",
    "    y = [el[id] for el in X_trim ]\n",
    "    f = basic_plot(dates, y, grid=True, perc=(l=='Body Fat'), moyenne_glissante=True, reg_lineaire=True, title=l)   "
   ]
  },
  {
   "cell_type": "markdown",
   "id": "5daec735",
   "metadata": {},
   "source": [
    "# 4 - Heatmap corrélations\n",
    "\n",
    "https://heartbeat.fritz.ai/seaborn-heatmaps-13-ways-to-customize-correlation-matrix-visualizations-f1c49c816f07"
   ]
  },
  {
   "cell_type": "code",
   "execution_count": null,
   "id": "d7dea9e8",
   "metadata": {},
   "outputs": [],
   "source": [
    "start_date = datetime.date(2021,1,1)   # depuis le 1er Janvier 2021\n",
    "start_date_index = list(X[:,0]).index(start_date)\n",
    "\n",
    "end_date = datetime.date(2021,9,20)  # <== A CHANGER ICI\n",
    "end_date_index = list(X[:,0]).index(end_date)\n",
    "\n",
    "X_trim = X[start_date_index:end_date_index,1:]\n",
    "df = pd.DataFrame(X_trim, columns=keys[1:]).astype(float)   # on créé une dataframe avec tous les floats (exclus les datetime.objects)"
   ]
  },
  {
   "cell_type": "code",
   "execution_count": null,
   "id": "bd31ffe2",
   "metadata": {},
   "outputs": [],
   "source": [
    "df.head(20)"
   ]
  },
  {
   "cell_type": "code",
   "execution_count": null,
   "id": "056420b0",
   "metadata": {},
   "outputs": [],
   "source": [
    "df.describe()"
   ]
  },
  {
   "cell_type": "code",
   "execution_count": null,
   "id": "cb996196",
   "metadata": {},
   "outputs": [],
   "source": [
    "df.dtypes"
   ]
  },
  {
   "cell_type": "code",
   "execution_count": null,
   "id": "d3a1c123",
   "metadata": {},
   "outputs": [],
   "source": [
    "print(df.corr())"
   ]
  },
  {
   "cell_type": "code",
   "execution_count": null,
   "id": "6b4cb52d",
   "metadata": {},
   "outputs": [],
   "source": [
    "fig, ax = plt.subplots(figsize=(8,8))\n",
    "\n",
    "sns.heatmap(df.corr(), \n",
    "            annot=True, \n",
    "            fmt='.2g',\n",
    "            vmin=-1, vmax=1, center=0,\n",
    "            cmap='Greys')"
   ]
  },
  {
   "cell_type": "markdown",
   "id": "7c212211",
   "metadata": {},
   "source": [
    "## Commentaires sur le body fat% :\n",
    "- corrélations évidentes du bf% avec Masse Totale, Masse Grasse, et Date\n",
    "- corrélations avec Protéines (-.49), Lipides (0.28), C_ex_cardio (.19)"
   ]
  },
  {
   "cell_type": "markdown",
   "id": "bf99cd8b",
   "metadata": {},
   "source": [
    "# Le temps des prévisions\n",
    "\n",
    "On va chercher Masse_Totale(j+1), Masse_Grasse(j+1) = f(Masse_Totale(j), Masse_Grasse(j), C_in(j), Glu(j), Lip(j), Pro(j), C_cardio(j), C_strength(j))\n",
    "\n",
    "Variables d'intérêt : on va chercher à prédire la **Masse Totale** et la **Masse Grasse**.\n",
    "\n",
    "Les modèles sont donc des modèles de régression, avec une sortie y à deux dimensions.\n",
    "\n",
    "La loss utilisée sur les vecteurs 2D sera la **norme 1** (mean absolute error), avec un poids différent entre la première coordonnée (qui varie typiquement entre 108 et 68kg sur le dataset), et la deuxième coordonnée (qui varie entre .33 et .12)\n",
    "\n",
    "Les modèles regardés seront :\n",
    "- prédiction näive (prédiction à J+1 = valeur de la veille)\n",
    "- régression linéaire (NB : on cherchera la fenêtre temporelle pertinente, cad quels sont les N dernières valeurs à considérer pour avoir un bon niveau de précision)\n",
    "- MLP\n",
    "- LSTM"
   ]
  },
  {
   "cell_type": "markdown",
   "id": "9490f533",
   "metadata": {},
   "source": [
    "### Creation du dataset\n",
    "\n",
    "On prend le X en entrée, et on construit un tf.Dataset avec comme y_true les valeurs de Masse Totale et Masse Grasse du jour suivant"
   ]
  },
  {
   "cell_type": "code",
   "execution_count": null,
   "id": "bf45d585",
   "metadata": {},
   "outputs": [],
   "source": [
    "def create_dataset(X, \n",
    "                   start_date = datetime.date(2020,8,1), \n",
    "                   end_date = datetime.date.today()-datetime.timedelta(days=1),\n",
    "                   # keys = ['date', 'Masse Totale', 'Masse Grasse', 'Calories in', 'Glucides', 'Lipides', 'Proteines', 'Calories Exercice Brut', 'C_Ex_Cardio', 'C_Ex_Strength', 'date_ordinale', 'Body Fat']\n",
    "                   keys_to_keep = ['Masse Totale', 'Masse Grasse', 'Calories in', 'Glucides', 'Lipides', 'Proteines', 'C_Ex_Cardio', 'C_Ex_Strength']\n",
    "                   ):\n",
    "\n",
    "    \"\"\"Construit et retourne un tf.dataset, à partir du fichier de données, entre les dates fournies\n",
    "\n",
    "    Args:\n",
    "        X ([np.array]): [c'est le tableau de données journalières :\n",
    "        keys ([list]) : la liste des champs, defaults to ['Masse Totale', 'Masse Grasse', 'Calories in', 'Glucides', 'Lipides', 'Proteines', 'C_Ex_Cardio', 'C_Ex_Strength'] ]\n",
    "        start_date ([datetime object], optional): [description]. Defaults to datetime.date(2020,8,1).\n",
    "        end_date ([datetime objectf], optional): [description]. Defaults to datetime.today()-1.\n",
    "\n",
    "    Returns : tf.Data.dataset\n",
    "    \"\"\"\n",
    "    \n",
    "    start_date_index = list(X[:,0]).index(start_date)\n",
    "    end_date_index = list(X[:,0]).index(end_date)\n",
    "    \n",
    "    index_mt = keys.index('Masse Totale')\n",
    "    index_mg = keys.index('Masse Grasse')\n",
    "    \n",
    "    idx_to_keep = [ keys.index(k) for k in keys_to_keep ]\n",
    "                       \n",
    "    X_trim = np.array(X[start_date_index:end_date_index-1,idx_to_keep],dtype=float)  # on ne prend pas la date sous format object, et on s'arrête à l'avant-dernière valeur\n",
    "    \n",
    "    y = np.array([ [X[i+1][index_mt],X[i+1][index_mg]] for i in range(start_date_index, end_date_index-1)], dtype=float)\n",
    "    \n",
    "    print(X_trim.shape)\n",
    "    print(y.shape)\n",
    "    \n",
    "    return tf.data.Dataset.from_tensor_slices((X_trim, y))\n",
    "    \n",
    "    # return tf.data.Dataset.from_tensor_slices([X_trim, y])"
   ]
  },
  {
   "cell_type": "code",
   "execution_count": null,
   "id": "0c7ac1d7",
   "metadata": {},
   "outputs": [],
   "source": [
    "start_date = datetime.date(2020,9,1) \n",
    "end_date = datetime.date.today()-datetime.timedelta(days=1)\n",
    "\n",
    "ds = create_dataset(X, start_date = start_date, end_date=end_date)"
   ]
  },
  {
   "cell_type": "code",
   "execution_count": null,
   "id": "182ccbc6",
   "metadata": {},
   "outputs": [],
   "source": [
    "ds"
   ]
  },
  {
   "cell_type": "code",
   "execution_count": null,
   "id": "6f81a52f",
   "metadata": {},
   "outputs": [],
   "source": [
    "for el in ds.take(3):\n",
    "    print(el)"
   ]
  },
  {
   "cell_type": "markdown",
   "id": "44e3799a",
   "metadata": {},
   "source": [
    "# Naive Forecasting\n",
    "\n",
    "Ici, le modèle prédit pour le jour suivant, la valeur du jour : cela servira de baseline"
   ]
  },
  {
   "cell_type": "code",
   "execution_count": null,
   "id": "c68b28d2",
   "metadata": {},
   "outputs": [],
   "source": [
    "start_date = datetime.date(2020,9,1) \n",
    "end_date = datetime.date.today()-datetime.timedelta(days=1)\n",
    "\n",
    "ds = create_dataset(X, start_date = start_date, end_date=end_date)\n",
    "\n",
    "index_mt = 0\n",
    "index_mg = 1\n",
    " \n",
    "y_true = np.array([ el[1] for el in ds ], dtype = float )\n",
    "y_pred = np.array([ [el[0][index_mt], el[0][index_mg]] for el in ds], dtype=float)"
   ]
  },
  {
   "cell_type": "code",
   "execution_count": null,
   "id": "cea01ac5",
   "metadata": {},
   "outputs": [],
   "source": [
    "y_true.shape"
   ]
  },
  {
   "cell_type": "code",
   "execution_count": null,
   "id": "e77aebbb",
   "metadata": {},
   "outputs": [],
   "source": [
    "y_pred.shape"
   ]
  },
  {
   "cell_type": "code",
   "execution_count": null,
   "id": "50523e2f",
   "metadata": {},
   "outputs": [],
   "source": [
    "ds"
   ]
  },
  {
   "cell_type": "code",
   "execution_count": null,
   "id": "e3aa0b64",
   "metadata": {},
   "outputs": [],
   "source": [
    "y_pred"
   ]
  },
  {
   "cell_type": "code",
   "execution_count": null,
   "id": "c2550c8b",
   "metadata": {},
   "outputs": [],
   "source": [
    "y_true"
   ]
  },
  {
   "cell_type": "code",
   "execution_count": null,
   "id": "e4248fe8",
   "metadata": {},
   "outputs": [],
   "source": [
    "def output_results(y_pred, y_true,\n",
    "                   history = None,\n",
    "                   start_date = datetime.date(2020,9,1),\n",
    "                   end_date = datetime.date.today() - datetime.timedelta(days=1),\n",
    "                   ):\n",
    "    \n",
    "    x = [ start_date + datetime.timedelta(days=i) for i in range(end_date.toordinal() - start_date.toordinal() - 1)]\n",
    "    \n",
    "    fig, ax = plt.subplots(nrows=2, ncols=2, figsize=(32,12))\n",
    "\n",
    "    ax[0][0].set_title(\"prediction masse totale\")\n",
    "    ax[0][0].plot(x, y_true[:,0], marker = 'x', label='true')\n",
    "    ax[0][0].plot(x, y_pred[:,0], marker = '.', label='pred')\n",
    "    ax[0][0].legend()\n",
    "    ax[0][0].grid()\n",
    "\n",
    "    ax[1][0].set_title(\"prediction masse grasse\")\n",
    "    ax[1][0].plot(x, y_true[:,1], marker = 'x', label='true')\n",
    "    ax[1][0].plot(x, y_pred[:,1], marker = '.', label='pred')\n",
    "    ax[1][0].legend()\n",
    "    ax[1][0].grid()\n",
    "\n",
    "    mae_mt = np.array( [np.abs([y[0][0] - y[1][0]]) for y in zip (y_true, y_pred) ] )\n",
    "    mae_mt_moyenne = np.full( shape=len(mae_mt), fill_value = mae_mt.mean() )\n",
    "\n",
    "    ax[0][1].set_title(\"erreur norme 1 prediction masse totale\")\n",
    "    ax[0][1].plot(x, mae_mt, marker = 'x')\n",
    "    ax[0][1].plot(x, mae_mt_moyenne, marker = '.', label = 'moyenne')\n",
    "    ax[0][1].legend()\n",
    "    ax[0][1].grid()\n",
    "\n",
    "    mae_mg = np.array( [np.abs([y[0][1] - y[1][1]]) for y in zip (y_true, y_pred) ] )\n",
    "    mae_mg_moyenne = np.full( shape=len(mae_mg), fill_value = mae_mg.mean() )\n",
    "\n",
    "    ax[1][1].set_title(\"erreur norme 1 prediction masse grasse\")\n",
    "    ax[1][1].plot(x, mae_mg, marker = 'x')\n",
    "    ax[1][1].plot(x, mae_mg_moyenne, marker = '.', label = 'moyenne')\n",
    "    ax[1][1].legend()\n",
    "    ax[1][1].grid()\n",
    "    \n",
    "    if history:\n",
    "        fig, ax = plt.subplots(nrows=1, ncols=1, figsize = (8,8))\n",
    "        erreur = list(history.history.keys())[-1]\n",
    "        values = history.history.get(erreur)\n",
    "        ax.plot(values)\n",
    "        ax.grid()\n",
    "        norm_1 = np.array(values).mean()\n",
    "        ax.set_title(erreur + ' vs Epoch')\n",
    "        print(erreur + f' cumulée MT et MG sur validation set: {np.around(norm_1, decimals=3)} kg')\n",
    "        \n",
    "    window_last_days = 30\n",
    "    \n",
    "    print(f'Erreur moyenne norme 1 sur MT sur les {window_last_days} derniers jours : {np.around(mae_mt[-window_last_days:].mean(), decimals=3)} kg')\n",
    "    print(f'Erreur moyenne norme 1 sur MG sur les {window_last_days} derniers jours : {np.around(mae_mg[-window_last_days:].mean(), decimals=3)} kg')"
   ]
  },
  {
   "cell_type": "code",
   "execution_count": null,
   "id": "8f0bcdf6",
   "metadata": {},
   "outputs": [],
   "source": [
    "output_results(y_pred, y_true, start_date=start_date, end_date=end_date)"
   ]
  },
  {
   "cell_type": "markdown",
   "id": "0176efc0",
   "metadata": {},
   "source": [
    "# Basic MLP Model"
   ]
  },
  {
   "cell_type": "code",
   "execution_count": null,
   "id": "4d05c748",
   "metadata": {},
   "outputs": [],
   "source": [
    "def custom_mae(y_pred, y_true):\n",
    "    \"\"\"Custom loss pour prendre en compte le delta entre MT et MG\n",
    "\n",
    "    Args:\n",
    "        y_pred ([float]): prédictions, (batch_size, 2)\n",
    "        y_true ([float]): ground truth, (batch_size, 2)\n",
    "        \n",
    "    Returns : float\n",
    "    \"\"\"\n",
    "    # calculating squared difference between target and predicted values \n",
    "    loss = tf.keras.backend.abs(y_pred - y_true)  # (batch_size, 2)\n",
    "    \n",
    "    # multiplying the values with weights along batch dimension\n",
    "    loss = loss * [0.1, 0.9]          # (batch_size, 2)\n",
    "                \n",
    "    # summing both loss values along batch dimension \n",
    "    loss = tf.keras.backend.sum(loss, axis=1)        # (batch_size,)\n",
    "    \n",
    "    return loss"
   ]
  },
  {
   "cell_type": "code",
   "execution_count": null,
   "id": "2efded81",
   "metadata": {},
   "outputs": [],
   "source": [
    "start_date = datetime.date(2020,9,1) \n",
    "end_date = datetime.date.today()-datetime.timedelta(days=1)\n",
    "\n",
    "ds = create_dataset(X, start_date = start_date, end_date=end_date)"
   ]
  },
  {
   "cell_type": "code",
   "execution_count": null,
   "id": "9ca9c711",
   "metadata": {},
   "outputs": [],
   "source": [
    "total_size = len(ds)\n",
    "SPLIT_RATIO = 0.9\n",
    "train_size = int(total_size * SPLIT_RATIO)"
   ]
  },
  {
   "cell_type": "code",
   "execution_count": null,
   "id": "7d920aed",
   "metadata": {},
   "outputs": [],
   "source": [
    "ds_train = ds.take(train_size).batch(1)  # NB : le .batch() est nécessaire... pourquoi ?\n",
    "ds_val = ds.skip(train_size).batch(1)  # NB : on valide sur les derniers xx %"
   ]
  },
  {
   "cell_type": "code",
   "execution_count": null,
   "id": "a885a612",
   "metadata": {},
   "outputs": [],
   "source": [
    "model_lr = tf.keras.models.Sequential([\n",
    "    tf.keras.layers.Dense(units=64, activation='relu', name='couche_MLP_1', input_shape=([8])),\n",
    "    tf.keras.layers.Dense(units=64, activation='relu', name='couche_MLP_2'),\n",
    "    tf.keras.layers.Dense(units=64, activation='relu', name='couche_MLP_3'),\n",
    "    tf.keras.layers.Dense(units=2,\n",
    "                          name='output',\n",
    "                          ),\n",
    "    # tf.keras.layers.Reshape((2,1))\n",
    "], name = 'basic_MLP')\n",
    "\n",
    "tf.keras.utils.plot_model(model_lr,\n",
    "                          show_shapes=True,\n",
    "                          show_dtype=True,\n",
    "                          show_layer_names=True)"
   ]
  },
  {
   "cell_type": "code",
   "execution_count": null,
   "id": "3df610de",
   "metadata": {},
   "outputs": [],
   "source": [
    "model_lr.compile(\n",
    "    optimizer = 'adam',\n",
    "    loss = 'mae',\n",
    "    metrics = ['mae']\n",
    ")"
   ]
  },
  {
   "cell_type": "code",
   "execution_count": null,
   "id": "04f32d47",
   "metadata": {},
   "outputs": [],
   "source": [
    "cb = tf.keras.callbacks.EarlyStopping(\n",
    "    monitor='loss',\n",
    "    patience = 10,\n",
    "    min_delta = 0,\n",
    "    restore_best_weights=True\n",
    "    )"
   ]
  },
  {
   "cell_type": "code",
   "execution_count": null,
   "id": "f7b1bf4e",
   "metadata": {},
   "outputs": [],
   "source": [
    "history = model_lr.fit(\n",
    "    ds_train,\n",
    "    epochs = 1000,\n",
    "    callbacks=[cb],\n",
    "    validation_data=ds_val\n",
    ")"
   ]
  },
  {
   "cell_type": "code",
   "execution_count": null,
   "id": "a8c25f40",
   "metadata": {},
   "outputs": [],
   "source": [
    "y_true = np.array([ el[1] for el in ds ], dtype = float )\n",
    "# y_pred = np.array([ [el[0][index_mt], el[0][index_bf]] for el in ds], dtype=float)"
   ]
  },
  {
   "cell_type": "code",
   "execution_count": null,
   "id": "852dcc65",
   "metadata": {},
   "outputs": [],
   "source": [
    "y_true"
   ]
  },
  {
   "cell_type": "code",
   "execution_count": null,
   "id": "21b1fd08",
   "metadata": {},
   "outputs": [],
   "source": [
    "ds_total = ds.batch(1)\n",
    "y_pred = model_lr.predict(ds_total)"
   ]
  },
  {
   "cell_type": "code",
   "execution_count": null,
   "id": "e8d2a944",
   "metadata": {},
   "outputs": [],
   "source": [
    "y_pred"
   ]
  },
  {
   "cell_type": "code",
   "execution_count": null,
   "id": "1a79ea5b",
   "metadata": {},
   "outputs": [],
   "source": [
    "list(history.history.keys())[-1]"
   ]
  },
  {
   "cell_type": "code",
   "execution_count": null,
   "id": "b259729e",
   "metadata": {},
   "outputs": [],
   "source": [
    "output_results(y_pred, y_true, history=history, start_date=start_date, end_date=end_date)"
   ]
  },
  {
   "cell_type": "markdown",
   "id": "4e71bbaa",
   "metadata": {},
   "source": [
    "# Approche par time-series\n",
    "\n",
    "La prédiction au jour J du vecteur (masse totale, masse grasse), dépend de l'historique des données journalières sur une certaine période (à définir)"
   ]
  },
  {
   "cell_type": "code",
   "execution_count": null,
   "id": "0966af9e",
   "metadata": {},
   "outputs": [],
   "source": []
  },
  {
   "cell_type": "code",
   "execution_count": null,
   "id": "13299feb",
   "metadata": {},
   "outputs": [],
   "source": []
  },
  {
   "cell_type": "code",
   "execution_count": null,
   "id": "8416ab8f",
   "metadata": {},
   "outputs": [],
   "source": []
  },
  {
   "cell_type": "code",
   "execution_count": null,
   "id": "d6918068",
   "metadata": {},
   "outputs": [],
   "source": []
  },
  {
   "cell_type": "code",
   "execution_count": null,
   "id": "996b49cb",
   "metadata": {},
   "outputs": [],
   "source": []
  },
  {
   "cell_type": "code",
   "execution_count": null,
   "id": "80895f00",
   "metadata": {},
   "outputs": [],
   "source": []
  },
  {
   "cell_type": "code",
   "execution_count": null,
   "id": "33bc6075",
   "metadata": {},
   "outputs": [],
   "source": []
  },
  {
   "cell_type": "code",
   "execution_count": null,
   "id": "27f5673a",
   "metadata": {},
   "outputs": [],
   "source": []
  },
  {
   "cell_type": "code",
   "execution_count": null,
   "id": "d03b7e88",
   "metadata": {},
   "outputs": [],
   "source": []
  }
 ],
 "metadata": {
  "interpreter": {
   "hash": "a88cae013bc266f91956c621ac2a9dfee8dd2d162739bef9a31579bbafa5253b"
  },
  "kernelspec": {
   "display_name": "Python 3.8.11 64-bit ('toy': conda)",
   "name": "python3"
  },
  "language_info": {
   "codemirror_mode": {
    "name": "ipython",
    "version": 3
   },
   "file_extension": ".py",
   "mimetype": "text/x-python",
   "name": "python",
   "nbconvert_exporter": "python",
   "pygments_lexer": "ipython3",
   "version": "3.8.11"
  }
 },
 "nbformat": 4,
 "nbformat_minor": 5
}
